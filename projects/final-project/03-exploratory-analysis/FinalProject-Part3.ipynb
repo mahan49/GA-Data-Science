{
 "cells": [
  {
   "cell_type": "markdown",
   "metadata": {},
   "source": [
    "Unfortunately due to data privacy issues I have anonymised the data and will not be able to share some of the content."
   ]
  },
  {
   "cell_type": "code",
   "execution_count": 1,
   "metadata": {
    "collapsed": true
   },
   "outputs": [],
   "source": [
    "import pandas as pd\n",
    "import numpy as np\n",
    "import matplotlib.pyplot as plt\n",
    "import seaborn as sns\n",
    "sns.set_style(\"darkgrid\")"
   ]
  },
  {
   "cell_type": "code",
   "execution_count": null,
   "metadata": {
    "collapsed": true
   },
   "outputs": [],
   "source": [
    "df_raw = pd.read_csv(\"C:/Users/mahan.hadjizadeh/Documents/LTV Predictive Model/LTV_Model_Raw_class_ver.csv\")"
   ]
  },
  {
   "cell_type": "code",
   "execution_count": 3,
   "metadata": {},
   "outputs": [
    {
     "data": {
      "text/html": [
       "<div>\n",
       "<style>\n",
       "    .dataframe thead tr:only-child th {\n",
       "        text-align: right;\n",
       "    }\n",
       "\n",
       "    .dataframe thead th {\n",
       "        text-align: left;\n",
       "    }\n",
       "\n",
       "    .dataframe tbody tr th {\n",
       "        vertical-align: top;\n",
       "    }\n",
       "</style>\n",
       "<table border=\"1\" class=\"dataframe\">\n",
       "  <thead>\n",
       "    <tr style=\"text-align: right;\">\n",
       "      <th></th>\n",
       "      <th>ID</th>\n",
       "      <th>x1</th>\n",
       "      <th>x2</th>\n",
       "      <th>x3</th>\n",
       "      <th>x4</th>\n",
       "      <th>x5</th>\n",
       "      <th>x6</th>\n",
       "      <th>x7</th>\n",
       "      <th>x8</th>\n",
       "      <th>x9</th>\n",
       "      <th>x10</th>\n",
       "      <th>x11</th>\n",
       "      <th>x12</th>\n",
       "      <th>x13</th>\n",
       "      <th>x14</th>\n",
       "      <th>x15</th>\n",
       "      <th>x16</th>\n",
       "      <th>x17</th>\n",
       "    </tr>\n",
       "  </thead>\n",
       "  <tbody>\n",
       "    <tr>\n",
       "      <th>count</th>\n",
       "      <td>9.159050e+05</td>\n",
       "      <td>915905.000000</td>\n",
       "      <td>915905.000000</td>\n",
       "      <td>915905.000000</td>\n",
       "      <td>915905.000000</td>\n",
       "      <td>915905.000000</td>\n",
       "      <td>915905.000000</td>\n",
       "      <td>915905.000000</td>\n",
       "      <td>915905.000000</td>\n",
       "      <td>915905.000000</td>\n",
       "      <td>915905.000000</td>\n",
       "      <td>915905.000000</td>\n",
       "      <td>915905.000000</td>\n",
       "      <td>915905.000000</td>\n",
       "      <td>915905.000000</td>\n",
       "      <td>915448.000000</td>\n",
       "      <td>915448.000000</td>\n",
       "      <td>915905.000000</td>\n",
       "    </tr>\n",
       "    <tr>\n",
       "      <th>mean</th>\n",
       "      <td>7.666872e+07</td>\n",
       "      <td>34.230064</td>\n",
       "      <td>0.153885</td>\n",
       "      <td>1.673701</td>\n",
       "      <td>0.563132</td>\n",
       "      <td>0.169158</td>\n",
       "      <td>0.250199</td>\n",
       "      <td>1633.740572</td>\n",
       "      <td>68.235266</td>\n",
       "      <td>164.521604</td>\n",
       "      <td>7.004106</td>\n",
       "      <td>68.732148</td>\n",
       "      <td>44.773229</td>\n",
       "      <td>6.968833</td>\n",
       "      <td>4.642326</td>\n",
       "      <td>63.495445</td>\n",
       "      <td>253.818017</td>\n",
       "      <td>0.512466</td>\n",
       "    </tr>\n",
       "    <tr>\n",
       "      <th>std</th>\n",
       "      <td>1.701553e+07</td>\n",
       "      <td>12.917872</td>\n",
       "      <td>0.554805</td>\n",
       "      <td>0.959542</td>\n",
       "      <td>0.460226</td>\n",
       "      <td>0.349131</td>\n",
       "      <td>0.394522</td>\n",
       "      <td>2142.490511</td>\n",
       "      <td>140.493718</td>\n",
       "      <td>151.341454</td>\n",
       "      <td>11.335139</td>\n",
       "      <td>90.511075</td>\n",
       "      <td>60.530914</td>\n",
       "      <td>6.271134</td>\n",
       "      <td>4.441896</td>\n",
       "      <td>142.791706</td>\n",
       "      <td>360.883373</td>\n",
       "      <td>0.313499</td>\n",
       "    </tr>\n",
       "    <tr>\n",
       "      <th>min</th>\n",
       "      <td>6.238400e+04</td>\n",
       "      <td>0.000000</td>\n",
       "      <td>0.000000</td>\n",
       "      <td>1.000000</td>\n",
       "      <td>0.000000</td>\n",
       "      <td>0.000000</td>\n",
       "      <td>0.000000</td>\n",
       "      <td>0.000000</td>\n",
       "      <td>0.000000</td>\n",
       "      <td>0.000000</td>\n",
       "      <td>0.000000</td>\n",
       "      <td>0.000000</td>\n",
       "      <td>0.000000</td>\n",
       "      <td>0.000000</td>\n",
       "      <td>0.000000</td>\n",
       "      <td>0.000000</td>\n",
       "      <td>0.000000</td>\n",
       "      <td>0.066667</td>\n",
       "    </tr>\n",
       "    <tr>\n",
       "      <th>25%</th>\n",
       "      <td>8.270912e+07</td>\n",
       "      <td>25.000000</td>\n",
       "      <td>0.000000</td>\n",
       "      <td>1.000000</td>\n",
       "      <td>0.000000</td>\n",
       "      <td>0.000000</td>\n",
       "      <td>0.000000</td>\n",
       "      <td>245.084900</td>\n",
       "      <td>0.000000</td>\n",
       "      <td>63.199190</td>\n",
       "      <td>0.000000</td>\n",
       "      <td>11.000000</td>\n",
       "      <td>7.000000</td>\n",
       "      <td>3.000000</td>\n",
       "      <td>1.857143</td>\n",
       "      <td>49.989056</td>\n",
       "      <td>0.000000</td>\n",
       "      <td>0.200000</td>\n",
       "    </tr>\n",
       "    <tr>\n",
       "      <th>50%</th>\n",
       "      <td>8.308524e+07</td>\n",
       "      <td>31.000000</td>\n",
       "      <td>0.000000</td>\n",
       "      <td>1.000000</td>\n",
       "      <td>0.833053</td>\n",
       "      <td>0.000000</td>\n",
       "      <td>0.000000</td>\n",
       "      <td>855.485750</td>\n",
       "      <td>6.042000</td>\n",
       "      <td>123.247994</td>\n",
       "      <td>1.286733</td>\n",
       "      <td>36.000000</td>\n",
       "      <td>22.000000</td>\n",
       "      <td>5.142857</td>\n",
       "      <td>3.285714</td>\n",
       "      <td>66.377580</td>\n",
       "      <td>62.112116</td>\n",
       "      <td>0.466667</td>\n",
       "    </tr>\n",
       "    <tr>\n",
       "      <th>75%</th>\n",
       "      <td>8.347351e+07</td>\n",
       "      <td>41.000000</td>\n",
       "      <td>0.000000</td>\n",
       "      <td>2.000000</td>\n",
       "      <td>1.000000</td>\n",
       "      <td>0.021639</td>\n",
       "      <td>0.426523</td>\n",
       "      <td>2168.537800</td>\n",
       "      <td>72.595333</td>\n",
       "      <td>218.864583</td>\n",
       "      <td>10.155185</td>\n",
       "      <td>91.000000</td>\n",
       "      <td>58.000000</td>\n",
       "      <td>9.000000</td>\n",
       "      <td>6.000000</td>\n",
       "      <td>78.768650</td>\n",
       "      <td>438.463789</td>\n",
       "      <td>0.800000</td>\n",
       "    </tr>\n",
       "    <tr>\n",
       "      <th>max</th>\n",
       "      <td>8.388653e+07</td>\n",
       "      <td>147.000000</td>\n",
       "      <td>37.000000</td>\n",
       "      <td>13.000000</td>\n",
       "      <td>1.000000</td>\n",
       "      <td>1.000000</td>\n",
       "      <td>1.000000</td>\n",
       "      <td>44240.249670</td>\n",
       "      <td>2716.205767</td>\n",
       "      <td>2949.349978</td>\n",
       "      <td>351.446283</td>\n",
       "      <td>1694.000000</td>\n",
       "      <td>1206.000000</td>\n",
       "      <td>363.000000</td>\n",
       "      <td>363.000000</td>\n",
       "      <td>69625.737000</td>\n",
       "      <td>41613.784510</td>\n",
       "      <td>1.000000</td>\n",
       "    </tr>\n",
       "  </tbody>\n",
       "</table>\n",
       "</div>"
      ],
      "text/plain": [
       "                 ID             x1             x2             x3  \\\n",
       "count  9.159050e+05  915905.000000  915905.000000  915905.000000   \n",
       "mean   7.666872e+07      34.230064       0.153885       1.673701   \n",
       "std    1.701553e+07      12.917872       0.554805       0.959542   \n",
       "min    6.238400e+04       0.000000       0.000000       1.000000   \n",
       "25%    8.270912e+07      25.000000       0.000000       1.000000   \n",
       "50%    8.308524e+07      31.000000       0.000000       1.000000   \n",
       "75%    8.347351e+07      41.000000       0.000000       2.000000   \n",
       "max    8.388653e+07     147.000000      37.000000      13.000000   \n",
       "\n",
       "                  x4             x5             x6             x7  \\\n",
       "count  915905.000000  915905.000000  915905.000000  915905.000000   \n",
       "mean        0.563132       0.169158       0.250199    1633.740572   \n",
       "std         0.460226       0.349131       0.394522    2142.490511   \n",
       "min         0.000000       0.000000       0.000000       0.000000   \n",
       "25%         0.000000       0.000000       0.000000     245.084900   \n",
       "50%         0.833053       0.000000       0.000000     855.485750   \n",
       "75%         1.000000       0.021639       0.426523    2168.537800   \n",
       "max         1.000000       1.000000       1.000000   44240.249670   \n",
       "\n",
       "                  x8             x9            x10            x11  \\\n",
       "count  915905.000000  915905.000000  915905.000000  915905.000000   \n",
       "mean       68.235266     164.521604       7.004106      68.732148   \n",
       "std       140.493718     151.341454      11.335139      90.511075   \n",
       "min         0.000000       0.000000       0.000000       0.000000   \n",
       "25%         0.000000      63.199190       0.000000      11.000000   \n",
       "50%         6.042000     123.247994       1.286733      36.000000   \n",
       "75%        72.595333     218.864583      10.155185      91.000000   \n",
       "max      2716.205767    2949.349978     351.446283    1694.000000   \n",
       "\n",
       "                 x12            x13            x14            x15  \\\n",
       "count  915905.000000  915905.000000  915905.000000  915448.000000   \n",
       "mean       44.773229       6.968833       4.642326      63.495445   \n",
       "std        60.530914       6.271134       4.441896     142.791706   \n",
       "min         0.000000       0.000000       0.000000       0.000000   \n",
       "25%         7.000000       3.000000       1.857143      49.989056   \n",
       "50%        22.000000       5.142857       3.285714      66.377580   \n",
       "75%        58.000000       9.000000       6.000000      78.768650   \n",
       "max      1206.000000     363.000000     363.000000   69625.737000   \n",
       "\n",
       "                 x16            x17  \n",
       "count  915448.000000  915905.000000  \n",
       "mean      253.818017       0.512466  \n",
       "std       360.883373       0.313499  \n",
       "min         0.000000       0.066667  \n",
       "25%         0.000000       0.200000  \n",
       "50%        62.112116       0.466667  \n",
       "75%       438.463789       0.800000  \n",
       "max     41613.784510       1.000000  "
      ]
     },
     "execution_count": 3,
     "metadata": {},
     "output_type": "execute_result"
    }
   ],
   "source": [
    "df_raw.describe()"
   ]
  },
  {
   "cell_type": "code",
   "execution_count": 4,
   "metadata": {},
   "outputs": [
    {
     "data": {
      "text/plain": [
       "ID         915905\n",
       "cat1       915905\n",
       "x1         915905\n",
       "x2         915905\n",
       "cat2       915905\n",
       "cat3       915067\n",
       "cat4       847029\n",
       "cat5       471851\n",
       "cat6       307441\n",
       "x3         915905\n",
       "x4         915905\n",
       "x5         915905\n",
       "x6         915905\n",
       "x7         915905\n",
       "x8         915905\n",
       "x9         915905\n",
       "x10        915905\n",
       "x11        915905\n",
       "x12        915905\n",
       "x13        915905\n",
       "x14        915905\n",
       "x15        915448\n",
       "x16        915448\n",
       "x17        915905\n",
       "segment    915905\n",
       "dtype: int64"
      ]
     },
     "execution_count": 4,
     "metadata": {},
     "output_type": "execute_result"
    }
   ],
   "source": [
    "df_raw.count()"
   ]
  },
  {
   "cell_type": "code",
   "execution_count": 5,
   "metadata": {},
   "outputs": [
    {
     "data": {
      "text/plain": [
       "ID         915905\n",
       "cat1            4\n",
       "x1            135\n",
       "x2             28\n",
       "cat2            4\n",
       "cat3            3\n",
       "cat4           19\n",
       "cat5           72\n",
       "cat6           28\n",
       "x3             13\n",
       "x4         266249\n",
       "x5         144647\n",
       "x6         247197\n",
       "x7         890447\n",
       "x8         525505\n",
       "x9         891762\n",
       "x10        552530\n",
       "x11          1043\n",
       "x12           730\n",
       "x13          3642\n",
       "x14          2786\n",
       "x15        898455\n",
       "x16        573037\n",
       "x17            15\n",
       "segment         4\n",
       "dtype: int64"
      ]
     },
     "execution_count": 5,
     "metadata": {},
     "output_type": "execute_result"
    }
   ],
   "source": [
    "df_raw.nunique()"
   ]
  },
  {
   "cell_type": "code",
   "execution_count": 7,
   "metadata": {},
   "outputs": [
    {
     "data": {
      "text/plain": [
       "array(['m', 'f', '0', 'null'], dtype=object)"
      ]
     },
     "execution_count": 7,
     "metadata": {},
     "output_type": "execute_result"
    }
   ],
   "source": [
    "df_raw.cat1.unique()"
   ]
  },
  {
   "cell_type": "code",
   "execution_count": 9,
   "metadata": {},
   "outputs": [
    {
     "data": {
      "text/plain": [
       "array(['m', 'f'], dtype=object)"
      ]
     },
     "execution_count": 9,
     "metadata": {},
     "output_type": "execute_result"
    }
   ],
   "source": [
    "df_raw=df_raw[df_raw.cat1 != 'null']\n",
    "df_raw=df_raw[df_raw.cat1 != '0']\n",
    "df_raw.cat1.unique()"
   ]
  },
  {
   "cell_type": "code",
   "execution_count": 10,
   "metadata": {},
   "outputs": [
    {
     "data": {
      "text/plain": [
       "array([ 43,  33,  29,  52,  37,  34,  46,  36,  60,  38,  39,  51,  76,\n",
       "        53,  56, 112,  47,  49,  40,  66,  69,  58,  35,  42,  59,  45,\n",
       "        48,  30,  26,  68,  28,  32,  57,  31,  41,  44,  62,  61,  50,\n",
       "        24,  72,  73,  54,  64,  65,  25,  27,  74,  71,  55,  23,  67,\n",
       "        63, 102,  70,  22, 115, 111, 105,  88, 116,  80,  81,  78,  97,\n",
       "       108,  77,  84,  93, 107,  95,  86,  75,  21,  96,  90,  94,  89,\n",
       "       135, 137, 134, 101, 143, 133, 122, 131, 136, 145, 130, 146, 140,\n",
       "       132, 147, 123, 125, 138, 128, 129, 142, 124, 126, 141,  79, 139,\n",
       "        91, 144, 127,  83,  20,  87, 106,  82, 103, 117, 109, 113, 104,\n",
       "       114, 100, 110,  85,  19,  92,  98,   0,  18,  99,  17,  14,  15,\n",
       "        16, 121, 118, 119, 120], dtype=int64)"
      ]
     },
     "execution_count": 10,
     "metadata": {},
     "output_type": "execute_result"
    }
   ],
   "source": [
    "df_raw.x1.unique()"
   ]
  },
  {
   "cell_type": "code",
   "execution_count": 11,
   "metadata": {},
   "outputs": [
    {
     "data": {
      "text/plain": [
       "array([43, 33, 29, 52, 37, 34, 46, 36, 60, 38, 39, 51, 76, 53, 56, 47, 49,\n",
       "       40, 66, 69, 58, 35, 42, 59, 45, 48, 30, 26, 68, 28, 32, 57, 31, 41,\n",
       "       44, 62, 61, 50, 24, 72, 73, 54, 64, 65, 25, 27, 74, 71, 55, 23, 67,\n",
       "       63, 70, 22, 88, 80, 81, 78, 77, 84, 86, 75, 21, 90, 89, 79, 83, 20,\n",
       "       87, 82, 85, 19, 18, 17, 14, 15, 16], dtype=int64)"
      ]
     },
     "execution_count": 11,
     "metadata": {},
     "output_type": "execute_result"
    }
   ],
   "source": [
    "df_raw = df_raw[df_raw.x1 > 0]\n",
    "df_raw = df_raw[df_raw.x1 < 91]\n",
    "df_raw.x1.unique()"
   ]
  },
  {
   "cell_type": "code",
   "execution_count": null,
   "metadata": {
    "collapsed": true
   },
   "outputs": [],
   "source": [
    "df_raw['cat3'] = df_raw['cat3'].fillna('N_A')"
   ]
  },
  {
   "cell_type": "code",
   "execution_count": null,
   "metadata": {
    "collapsed": true
   },
   "outputs": [],
   "source": [
    "df_raw['cat4'] = df_raw['cat4'].fillna('N_A')"
   ]
  },
  {
   "cell_type": "code",
   "execution_count": null,
   "metadata": {
    "collapsed": true
   },
   "outputs": [],
   "source": [
    "df_raw['cat5'] = df_raw['cat5'].fillna('N_A')"
   ]
  },
  {
   "cell_type": "code",
   "execution_count": null,
   "metadata": {
    "collapsed": true
   },
   "outputs": [],
   "source": [
    "df_raw['cat6'] = df_raw['cat6'].fillna('N_A')"
   ]
  },
  {
   "cell_type": "code",
   "execution_count": 21,
   "metadata": {},
   "outputs": [
    {
     "data": {
      "text/plain": [
       "array([ 1.        ,  0.        ,  0.13467722, ...,  0.82573675,\n",
       "        0.7974679 ,  0.64178318])"
      ]
     },
     "execution_count": 21,
     "metadata": {},
     "output_type": "execute_result"
    }
   ],
   "source": [
    "df_raw.x4.unique()"
   ]
  },
  {
   "cell_type": "code",
   "execution_count": 22,
   "metadata": {},
   "outputs": [
    {
     "data": {
      "text/plain": [
       "ID         822016\n",
       "cat1       822016\n",
       "x1         822016\n",
       "x2         822016\n",
       "cat2       822016\n",
       "cat3       822016\n",
       "cat4       822016\n",
       "cat5       822016\n",
       "cat6       822016\n",
       "x3         822016\n",
       "x4         822016\n",
       "x5         822016\n",
       "x6         822016\n",
       "x7         822016\n",
       "x8         822016\n",
       "x9         822016\n",
       "x10        822016\n",
       "x11        822016\n",
       "x12        822016\n",
       "x13        822016\n",
       "x14        822016\n",
       "x15        821568\n",
       "x16        821568\n",
       "x17        822016\n",
       "segment    822016\n",
       "dtype: int64"
      ]
     },
     "execution_count": 22,
     "metadata": {},
     "output_type": "execute_result"
    }
   ],
   "source": [
    "df_raw.count()"
   ]
  },
  {
   "cell_type": "code",
   "execution_count": 23,
   "metadata": {},
   "outputs": [
    {
     "data": {
      "text/plain": [
       "ID         822016\n",
       "cat1            2\n",
       "x1             77\n",
       "x2             28\n",
       "cat2            4\n",
       "cat3            4\n",
       "cat4           20\n",
       "cat5           73\n",
       "cat6           29\n",
       "x3             13\n",
       "x4         240746\n",
       "x5         136253\n",
       "x6         220515\n",
       "x7         799483\n",
       "x8         470115\n",
       "x9         800604\n",
       "x10        494003\n",
       "x11          1036\n",
       "x12           725\n",
       "x13          3599\n",
       "x14          2755\n",
       "x15        805785\n",
       "x16        512017\n",
       "x17            15\n",
       "segment         4\n",
       "dtype: int64"
      ]
     },
     "execution_count": 23,
     "metadata": {},
     "output_type": "execute_result"
    }
   ],
   "source": [
    "df_raw.nunique()"
   ]
  },
  {
   "cell_type": "code",
   "execution_count": 24,
   "metadata": {},
   "outputs": [
    {
     "data": {
      "image/png": "[encoded data removed]",
      "text/plain": [
       "<matplotlib.figure.Figure at 0x133d9908>"
      ]
     },
     "metadata": {},
     "output_type": "display_data"
    }
   ],
   "source": [
    "plt.hist(df_raw['x1'], 30, histtype = 'bar', facecolor='green')\n",
    "plt.ylabel(\"Frequency\")\n",
    "plt.xlabel(\"x1\")\n",
    "plt.title(\"x1\")\n",
    "plt.axis([10,90,0,80000])\n",
    "plt.show()"
   ]
  },
  {
   "cell_type": "code",
   "execution_count": 25,
   "metadata": {},
   "outputs": [
    {
     "data": {
      "text/plain": [
       "0     729508\n",
       "1      67225\n",
       "2      16665\n",
       "3       4995\n",
       "4       1957\n",
       "5        790\n",
       "6        374\n",
       "7        212\n",
       "8        113\n",
       "9         47\n",
       "10        36\n",
       "11        29\n",
       "12        17\n",
       "13        10\n",
       "14        10\n",
       "15         8\n",
       "16         5\n",
       "17         3\n",
       "18         2\n",
       "22         2\n",
       "36         1\n",
       "20         1\n",
       "21         1\n",
       "23         1\n",
       "26         1\n",
       "27         1\n",
       "28         1\n",
       "37         1\n",
       "Name: x2, dtype: int64"
      ]
     },
     "execution_count": 25,
     "metadata": {},
     "output_type": "execute_result"
    }
   ],
   "source": [
    "df_raw.x2.value_counts()"
   ]
  },
  {
   "cell_type": "code",
   "execution_count": 26,
   "metadata": {},
   "outputs": [
    {
     "data": {
      "image/png": "[encoded data removed]",
      "text/plain": [
       "<matplotlib.figure.Figure at 0xdb23ba8>"
      ]
     },
     "metadata": {},
     "output_type": "display_data"
    }
   ],
   "source": [
    "plt.hist(df_raw['x2'], 28, histtype = 'bar', facecolor='green')\n",
    "plt.ylabel(\"Frequency\")\n",
    "plt.xlabel(\"x2\")\n",
    "plt.title(\"x2\")\n",
    "plt.axis([0,11,0,900000])\n",
    "plt.show()"
   ]
  },
  {
   "cell_type": "code",
   "execution_count": 27,
   "metadata": {},
   "outputs": [
    {
     "data": {
      "text/plain": [
       "1     463092\n",
       "2     223359\n",
       "3      90498\n",
       "4      31257\n",
       "5       9724\n",
       "6       2882\n",
       "7        870\n",
       "8        229\n",
       "9         79\n",
       "10        18\n",
       "11         4\n",
       "13         2\n",
       "12         2\n",
       "Name: x3, dtype: int64"
      ]
     },
     "execution_count": 27,
     "metadata": {},
     "output_type": "execute_result"
    }
   ],
   "source": [
    "df_raw.x3.value_counts()"
   ]
  },
  {
   "cell_type": "code",
   "execution_count": 28,
   "metadata": {},
   "outputs": [
    {
     "data": {
      "image/png": "[encoded data removed]",
      "text/plain": [
       "<matplotlib.figure.Figure at 0x11c7f438>"
      ]
     },
     "metadata": {},
     "output_type": "display_data"
    }
   ],
   "source": [
    "plt.hist(df_raw['x3'], 12, histtype = 'bar', facecolor='green')\n",
    "plt.ylabel(\"Frequency\")\n",
    "plt.xlabel(\"x3\")\n",
    "plt.title(\"x3\")\n",
    "plt.axis([0,13,0,500000])\n",
    "plt.show()"
   ]
  },
  {
   "cell_type": "code",
   "execution_count": 29,
   "metadata": {},
   "outputs": [
    {
     "data": {
      "text/plain": [
       "0.066667    87601\n",
       "1.000000    81094\n",
       "0.133333    66736\n",
       "0.200000    56963\n",
       "0.933333    56642\n",
       "0.266667    52686\n",
       "0.333333    49527\n",
       "0.866667    49509\n",
       "0.400000    47494\n",
       "0.800000    46622\n",
       "0.466667    46573\n",
       "0.533333    45597\n",
       "0.733333    45160\n",
       "0.600000    45045\n",
       "0.666667    44767\n",
       "Name: perc_active_days, dtype: int64"
      ]
     },
     "execution_count": 29,
     "metadata": {},
     "output_type": "execute_result"
    }
   ],
   "source": [
    "df_raw.x17.value_counts()"
   ]
  },
  {
   "cell_type": "code",
   "execution_count": 29,
   "metadata": {},
   "outputs": [
    {
     "data": {
      "image/png": "[encoded data removed]",
      "text/plain": [
       "<matplotlib.figure.Figure at 0xe8845c0>"
      ]
     },
     "metadata": {},
     "output_type": "display_data"
    }
   ],
   "source": [
    "plt.hist(df_raw['x17'], 15, histtype = 'bar', facecolor='green')\n",
    "plt.ylabel(\"Frequency\")\n",
    "plt.xlabel(\"x17\")\n",
    "plt.title(\"x17\")\n",
    "plt.axis([0,1,0,100000])\n",
    "plt.show()"
   ]
  },
  {
   "cell_type": "markdown",
   "metadata": {},
   "source": [
    "Segment is the outome variable, will be predicting four segments"
   ]
  },
  {
   "cell_type": "code",
   "execution_count": 30,
   "metadata": {},
   "outputs": [
    {
     "data": {
      "text/plain": [
       "promo_expire    251062\n",
       "high_12+        241085\n",
       "low_0-6         215573\n",
       "mid_6-12        114296\n",
       "Name: segment, dtype: int64"
      ]
     },
     "execution_count": 30,
     "metadata": {},
     "output_type": "execute_result"
    }
   ],
   "source": [
    "df_raw.segment.value_counts()"
   ]
  },
  {
   "cell_type": "code",
   "execution_count": 48,
   "metadata": {},
   "outputs": [
    {
     "name": "stdout",
     "output_type": "stream",
     "text": [
      "           ID        x1        x2        x3        x4        x5        x6  \\\n",
      "ID   1.000000 -0.082028 -0.395860 -0.006038  0.027886 -0.033975 -0.003097   \n",
      "x1  -0.082028  1.000000  0.023045 -0.025004  0.069973 -0.076964 -0.013674   \n",
      "x2  -0.395860  0.023045  1.000000  0.024900 -0.005014 -0.041233  0.048875   \n",
      "x3  -0.006038 -0.025004  0.024900  1.000000  0.089265 -0.160797  0.078160   \n",
      "x4   0.027886  0.069973 -0.005014  0.089265  1.000000 -0.573015 -0.607366   \n",
      "x5  -0.033975 -0.076964 -0.041233 -0.160797 -0.573015  1.000000 -0.239457   \n",
      "x6  -0.003097 -0.013674  0.048875  0.078160 -0.607366 -0.239457  1.000000   \n",
      "x7   0.040939 -0.059134 -0.033355  0.321471  0.226852 -0.143420 -0.101590   \n",
      "x8   0.002715 -0.055010  0.018891  0.145792  0.111776 -0.073011 -0.042926   \n",
      "x9   0.043383 -0.041250 -0.035962  0.258954  0.272831 -0.156951 -0.129126   \n",
      "x10 -0.007585 -0.051522  0.034493  0.085943  0.104497 -0.063818 -0.037241   \n",
      "x11  0.036303 -0.080542 -0.028233  0.353784  0.199659 -0.133046 -0.079702   \n",
      "x12  0.031563 -0.073388 -0.028792  0.315114  0.225501 -0.123232 -0.121546   \n",
      "x13  0.036766 -0.064425 -0.028340  0.298468  0.216181 -0.135485 -0.089467   \n",
      "x14  0.028044 -0.050189 -0.027546  0.233347  0.242219 -0.114168 -0.146127   \n",
      "x15 -0.002419 -0.006170  0.000449  0.008444  0.026917  0.002834 -0.015579   \n",
      "x16 -0.036037 -0.052622  0.058685 -0.045412 -0.034681  0.069449  0.004176   \n",
      "x17  0.021516 -0.116886 -0.015701  0.403550  0.176053 -0.115178 -0.037046   \n",
      "\n",
      "           x7        x8        x9       x10       x11       x12       x13  \\\n",
      "ID   0.040939  0.002715  0.043383 -0.007585  0.036303  0.031563  0.036766   \n",
      "x1  -0.059134 -0.055010 -0.041250 -0.051522 -0.080542 -0.073388 -0.064425   \n",
      "x2  -0.033355  0.018891 -0.035962  0.034493 -0.028233 -0.028792 -0.028340   \n",
      "x3   0.321471  0.145792  0.258954  0.085943  0.353784  0.315114  0.298468   \n",
      "x4   0.226852  0.111776  0.272831  0.104497  0.199659  0.225501  0.216181   \n",
      "x5  -0.143420 -0.073011 -0.156951 -0.063818 -0.133046 -0.123232 -0.135485   \n",
      "x6  -0.101590 -0.042926 -0.129126 -0.037241 -0.079702 -0.121546 -0.089467   \n",
      "x7   1.000000  0.501086  0.912516  0.379135  0.927738  0.899975  0.829555   \n",
      "x8   0.501086  1.000000  0.443383  0.916288  0.457816  0.443066  0.396344   \n",
      "x9   0.912516  0.443383  1.000000  0.409707  0.820570  0.805593  0.855481   \n",
      "x10  0.379135  0.916288  0.409707  1.000000  0.335003  0.327730  0.350766   \n",
      "x11  0.927738  0.457816  0.820570  0.335003  1.000000  0.957217  0.913110   \n",
      "x12  0.899975  0.443066  0.805593  0.327730  0.957217  1.000000  0.883221   \n",
      "x13  0.829555  0.396344  0.855481  0.350766  0.913110  0.883221  1.000000   \n",
      "x14  0.753333  0.356005  0.800482  0.325052  0.818627  0.886036  0.928644   \n",
      "x15  0.049854  0.030552  0.066078  0.036306  0.040623  0.047025  0.044742   \n",
      "x16 -0.019241  0.418577 -0.001680  0.564669 -0.063305 -0.062385 -0.079981   \n",
      "x17  0.695629  0.417615  0.522154  0.267430  0.695547  0.663532  0.515312   \n",
      "\n",
      "          x14       x15       x16       x17  \n",
      "ID   0.028044 -0.002419 -0.036037  0.021516  \n",
      "x1  -0.050189 -0.006170 -0.052622 -0.116886  \n",
      "x2  -0.027546  0.000449  0.058685 -0.015701  \n",
      "x3   0.233347  0.008444 -0.045412  0.403550  \n",
      "x4   0.242219  0.026917 -0.034681  0.176053  \n",
      "x5  -0.114168  0.002834  0.069449 -0.115178  \n",
      "x6  -0.146127 -0.015579  0.004176 -0.037046  \n",
      "x7   0.753333  0.049854 -0.019241  0.695629  \n",
      "x8   0.356005  0.030552  0.418577  0.417615  \n",
      "x9   0.800482  0.066078 -0.001680  0.522154  \n",
      "x10  0.325052  0.036306  0.564669  0.267430  \n",
      "x11  0.818627  0.040623 -0.063305  0.695547  \n",
      "x12  0.886036  0.047025 -0.062385  0.663532  \n",
      "x13  0.928644  0.044742 -0.079981  0.515312  \n",
      "x14  1.000000  0.053941 -0.075373  0.439585  \n",
      "x15  0.053941  1.000000  0.030105  0.046332  \n",
      "x16 -0.075373  0.030105  1.000000  0.030292  \n",
      "x17  0.439585  0.046332  0.030292  1.000000  \n"
     ]
    },
    {
     "data": {
      "text/plain": [
       "<matplotlib.axes._subplots.AxesSubplot at 0x133d96a0>"
      ]
     },
     "execution_count": 48,
     "metadata": {},
     "output_type": "execute_result"
    },
    {
     "data": {
      "image/png": "[encoded data removed]",
      "text/plain": [
       "<matplotlib.figure.Figure at 0xe7dbb70>"
      ]
     },
     "metadata": {},
     "output_type": "display_data"
    }
   ],
   "source": [
    "cmap = sns.diverging_palette(220, 10, as_cmap=True)\n",
    "\n",
    "correlations = df_raw.corr()\n",
    "print correlations\n",
    "%matplotlib inline\n",
    "sns.heatmap(correlations, cmap=cmap)"
   ]
  },
  {
   "cell_type": "code",
   "execution_count": 33,
   "metadata": {},
   "outputs": [
    {
     "name": "stderr",
     "output_type": "stream",
     "text": [
      "C:\\Users\\mahan.hadjizadeh\\AppData\\Local\\Continuum\\anaconda2\\lib\\site-packages\\sklearn\\cross_validation.py:41: DeprecationWarning: This module was deprecated in version 0.18 in favor of the model_selection module into which all the refactored classes and functions are moved. Also note that the interface of the new CV iterators are different from that of this module. This module will be removed in 0.20.\n",
      "  \"This module will be removed in 0.20.\", DeprecationWarning)\n"
     ]
    }
   ],
   "source": [
    "from sklearn.ensemble import RandomForestClassifier\n",
    "##import sklearn.model_selection as ms\n",
    "from sklearn.cross_validation import cross_val_score\n",
    "\n",
    "X = df_raw[['x1','x2','x3','x4','x5','x6','x7','x8','x9','x10','x11','x12','x13','x14','x17']]\n",
    "y = df_raw['segment']\n",
    "\n",
    "model = RandomForestClassifier(n_estimators = 100)#, n_jobs=-1)# 1st tune the n_estimators then others, n_jobs=-1 uses all cpu cores instead of 1\n",
    "    \n",
    "model.fit(X, y)\n",
    "\n",
    "scores = cross_val_score(model, X, y, scoring='accuracy', cv=5)\n",
    "#CV = ms.cross_validate(model, X, y, cv=5, scoring=['roc_auc','accuracy'])"
   ]
  },
  {
   "cell_type": "code",
   "execution_count": 34,
   "metadata": {},
   "outputs": [
    {
     "name": "stdout",
     "output_type": "stream",
     "text": [
      "[ 0.36637572  0.36949223  0.36582058  0.37042737  0.3693994 ]\n"
     ]
    }
   ],
   "source": [
    "print scores"
   ]
  },
  {
   "cell_type": "code",
   "execution_count": 42,
   "metadata": {},
   "outputs": [
    {
     "data": {
      "text/html": [
       "<div>\n",
       "<style>\n",
       "    .dataframe thead tr:only-child th {\n",
       "        text-align: right;\n",
       "    }\n",
       "\n",
       "    .dataframe thead th {\n",
       "        text-align: left;\n",
       "    }\n",
       "\n",
       "    .dataframe tbody tr th {\n",
       "        vertical-align: top;\n",
       "    }\n",
       "</style>\n",
       "<table border=\"1\" class=\"dataframe\">\n",
       "  <thead>\n",
       "    <tr style=\"text-align: right;\">\n",
       "      <th></th>\n",
       "      <th>Features</th>\n",
       "      <th>Importance Score</th>\n",
       "    </tr>\n",
       "  </thead>\n",
       "  <tbody>\n",
       "    <tr>\n",
       "      <th>6</th>\n",
       "      <td>x7</td>\n",
       "      <td>0.130196</td>\n",
       "    </tr>\n",
       "    <tr>\n",
       "      <th>8</th>\n",
       "      <td>x9</td>\n",
       "      <td>0.129992</td>\n",
       "    </tr>\n",
       "    <tr>\n",
       "      <th>0</th>\n",
       "      <td>x1</td>\n",
       "      <td>0.098266</td>\n",
       "    </tr>\n",
       "    <tr>\n",
       "      <th>12</th>\n",
       "      <td>x13</td>\n",
       "      <td>0.083846</td>\n",
       "    </tr>\n",
       "    <tr>\n",
       "      <th>7</th>\n",
       "      <td>x8</td>\n",
       "      <td>0.081055</td>\n",
       "    </tr>\n",
       "    <tr>\n",
       "      <th>10</th>\n",
       "      <td>x11</td>\n",
       "      <td>0.080254</td>\n",
       "    </tr>\n",
       "    <tr>\n",
       "      <th>9</th>\n",
       "      <td>x10</td>\n",
       "      <td>0.080147</td>\n",
       "    </tr>\n",
       "    <tr>\n",
       "      <th>13</th>\n",
       "      <td>x14</td>\n",
       "      <td>0.079193</td>\n",
       "    </tr>\n",
       "    <tr>\n",
       "      <th>11</th>\n",
       "      <td>x12</td>\n",
       "      <td>0.074718</td>\n",
       "    </tr>\n",
       "    <tr>\n",
       "      <th>3</th>\n",
       "      <td>x4</td>\n",
       "      <td>0.037123</td>\n",
       "    </tr>\n",
       "    <tr>\n",
       "      <th>14</th>\n",
       "      <td>x17</td>\n",
       "      <td>0.034867</td>\n",
       "    </tr>\n",
       "    <tr>\n",
       "      <th>5</th>\n",
       "      <td>x6</td>\n",
       "      <td>0.033074</td>\n",
       "    </tr>\n",
       "    <tr>\n",
       "      <th>4</th>\n",
       "      <td>x5</td>\n",
       "      <td>0.023443</td>\n",
       "    </tr>\n",
       "    <tr>\n",
       "      <th>2</th>\n",
       "      <td>x3</td>\n",
       "      <td>0.021328</td>\n",
       "    </tr>\n",
       "    <tr>\n",
       "      <th>1</th>\n",
       "      <td>x2</td>\n",
       "      <td>0.012498</td>\n",
       "    </tr>\n",
       "  </tbody>\n",
       "</table>\n",
       "</div>"
      ],
      "text/plain": [
       "   Features  Importance Score\n",
       "6        x7          0.130196\n",
       "8        x9          0.129992\n",
       "0        x1          0.098266\n",
       "12      x13          0.083846\n",
       "7        x8          0.081055\n",
       "10      x11          0.080254\n",
       "9       x10          0.080147\n",
       "13      x14          0.079193\n",
       "11      x12          0.074718\n",
       "3        x4          0.037123\n",
       "14      x17          0.034867\n",
       "5        x6          0.033074\n",
       "4        x5          0.023443\n",
       "2        x3          0.021328\n",
       "1        x2          0.012498"
      ]
     },
     "execution_count": 42,
     "metadata": {},
     "output_type": "execute_result"
    }
   ],
   "source": [
    "features = X.columns\n",
    "feature_importances = model.feature_importances_\n",
    "\n",
    "features_df = pd.DataFrame({'Features': features, 'Importance Score': feature_importances})\n",
    "features_df.sort_values('Importance Score', inplace=True, ascending=False)\n",
    "\n",
    "features_df#.head()"
   ]
  },
  {
   "cell_type": "markdown",
   "metadata": {},
   "source": [
    "Due to low number of prediction values I'm planing on reducing the scope of the project and focus on predicting one of the segements with a higher accuracy."
   ]
  }
 ],
 "metadata": {
  "kernelspec": {
   "display_name": "Python 2",
   "language": "python",
   "name": "python2"
  },
  "language_info": {
   "codemirror_mode": {
    "name": "ipython",
    "version": 2
   },
   "file_extension": ".py",
   "mimetype": "text/x-python",
   "name": "python",
   "nbconvert_exporter": "python",
   "pygments_lexer": "ipython2",
   "version": "2.7.13"
  }
 },
 "nbformat": 4,
 "nbformat_minor": 2
}
