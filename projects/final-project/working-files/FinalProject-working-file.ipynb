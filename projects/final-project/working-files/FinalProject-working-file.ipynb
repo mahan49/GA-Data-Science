{
 "cells": [
  {
   "cell_type": "markdown",
   "metadata": {},
   "source": [
    "## Load the python libraries"
   ]
  },
  {
   "cell_type": "code",
   "execution_count": 229,
   "metadata": {
    "collapsed": true
   },
   "outputs": [],
   "source": [
    "import pandas as pd\n",
    "import numpy as np\n",
    "import matplotlib.pyplot as plt\n",
    "import seaborn as sns\n",
    "sns.set_style(\"darkgrid\")"
   ]
  },
  {
   "cell_type": "code",
   "execution_count": 230,
   "metadata": {},
   "outputs": [
    {
     "name": "stdout",
     "output_type": "stream",
     "text": [
      "   registered_user_id gender  age  previous_subscription_count  \\\n",
      "0               62384      m   43                            1   \n",
      "1               62850      m   33                            1   \n",
      "2               64094      m   29                            2   \n",
      "3               66282      m   52                            0   \n",
      "4               71566      m   37                            0   \n",
      "\n",
      "  initial_product      channel        subchannel    partner  \\\n",
      "0            NOAH  Partnership               OEM  Microsoft   \n",
      "1            NOAH  Partnership               OEM      Apple   \n",
      "2            NOAH         Hulu             Email       Hulu   \n",
      "3            NOAH         Hulu  Non-Attributable        NaN   \n",
      "4            SASH  Partnership               OEM      Apple   \n",
      "\n",
      "                  subpartner  num_dev      ...       avg_min_watched_day  \\\n",
      "0                   Xbox One        1      ...                 87.277730   \n",
      "1                   Apple TV        1      ...                118.213255   \n",
      "2  Reacquisition / Retention        1      ...                 56.704039   \n",
      "3                        NaN        1      ...                 58.791383   \n",
      "4                        iOS        1      ...                  9.634461   \n",
      "\n",
      "   avg_ad_min_watched_day  tot_vid_watched  tot_unq_vid_watched  \\\n",
      "0                0.000000               12                   10   \n",
      "1                0.000000               41                   37   \n",
      "2                0.000000               71                   43   \n",
      "3                0.000000                1                    1   \n",
      "4                1.256478                5                    5   \n",
      "\n",
      "   avg_vid_watched_day  avg_unq_vid_watched_day  avg_playback_viewthru_perc  \\\n",
      "0             2.400000                 2.000000                   82.908544   \n",
      "1             5.857143                 5.285714                   92.596425   \n",
      "2             6.454545                 3.909091                   55.141836   \n",
      "3             1.000000                 1.000000                   98.606752   \n",
      "4             1.666667                 1.666667                   35.311173   \n",
      "\n",
      "   avg_ad_viewthru_perc  perc_active_days       segment  \n",
      "0              0.000000          0.333333      mid_6-12  \n",
      "1              0.000000          0.466667      high_12+  \n",
      "2              0.000000          0.733333  promo_expire  \n",
      "3              0.000000          0.066667  promo_expire  \n",
      "4            258.823953          0.200000      high_12+  \n",
      "\n",
      "[5 rows x 25 columns]\n"
     ]
    }
   ],
   "source": [
    "df_raw = pd.read_csv(\"C:/Users/mahan.hadjizadeh/Documents/Projects/LTV Model/LTV_Model_Raw.csv\")\n",
    "print df_raw.head()"
   ]
  },
  {
   "cell_type": "code",
   "execution_count": 231,
   "metadata": {},
   "outputs": [
    {
     "data": {
      "text/html": [
       "<div>\n",
       "<style>\n",
       "    .dataframe thead tr:only-child th {\n",
       "        text-align: right;\n",
       "    }\n",
       "\n",
       "    .dataframe thead th {\n",
       "        text-align: left;\n",
       "    }\n",
       "\n",
       "    .dataframe tbody tr th {\n",
       "        vertical-align: top;\n",
       "    }\n",
       "</style>\n",
       "<table border=\"1\" class=\"dataframe\">\n",
       "  <thead>\n",
       "    <tr style=\"text-align: right;\">\n",
       "      <th></th>\n",
       "      <th>registered_user_id</th>\n",
       "      <th>age</th>\n",
       "      <th>previous_subscription_count</th>\n",
       "      <th>num_dev</th>\n",
       "      <th>perc_lv_dev</th>\n",
       "      <th>perc_computer_dev</th>\n",
       "      <th>perc_mobile_tablet_dev</th>\n",
       "      <th>tot_min_watched</th>\n",
       "      <th>tot_ad_min_watched</th>\n",
       "      <th>avg_min_watched_day</th>\n",
       "      <th>avg_ad_min_watched_day</th>\n",
       "      <th>tot_vid_watched</th>\n",
       "      <th>tot_unq_vid_watched</th>\n",
       "      <th>avg_vid_watched_day</th>\n",
       "      <th>avg_unq_vid_watched_day</th>\n",
       "      <th>avg_playback_viewthru_perc</th>\n",
       "      <th>avg_ad_viewthru_perc</th>\n",
       "      <th>perc_active_days</th>\n",
       "    </tr>\n",
       "  </thead>\n",
       "  <tbody>\n",
       "    <tr>\n",
       "      <th>count</th>\n",
       "      <td>9.159050e+05</td>\n",
       "      <td>915905.000000</td>\n",
       "      <td>915905.000000</td>\n",
       "      <td>915905.000000</td>\n",
       "      <td>915905.000000</td>\n",
       "      <td>915905.000000</td>\n",
       "      <td>915905.000000</td>\n",
       "      <td>915905.000000</td>\n",
       "      <td>915905.000000</td>\n",
       "      <td>915905.000000</td>\n",
       "      <td>915905.000000</td>\n",
       "      <td>915905.000000</td>\n",
       "      <td>915905.000000</td>\n",
       "      <td>915905.000000</td>\n",
       "      <td>915905.000000</td>\n",
       "      <td>915448.000000</td>\n",
       "      <td>915448.000000</td>\n",
       "      <td>915905.000000</td>\n",
       "    </tr>\n",
       "    <tr>\n",
       "      <th>mean</th>\n",
       "      <td>7.666872e+07</td>\n",
       "      <td>34.230064</td>\n",
       "      <td>0.153885</td>\n",
       "      <td>1.673701</td>\n",
       "      <td>0.563132</td>\n",
       "      <td>0.169158</td>\n",
       "      <td>0.250199</td>\n",
       "      <td>1633.740572</td>\n",
       "      <td>68.235266</td>\n",
       "      <td>164.521604</td>\n",
       "      <td>7.004106</td>\n",
       "      <td>68.732148</td>\n",
       "      <td>44.773229</td>\n",
       "      <td>6.968833</td>\n",
       "      <td>4.642326</td>\n",
       "      <td>63.495445</td>\n",
       "      <td>253.818017</td>\n",
       "      <td>0.512466</td>\n",
       "    </tr>\n",
       "    <tr>\n",
       "      <th>std</th>\n",
       "      <td>1.701553e+07</td>\n",
       "      <td>12.917872</td>\n",
       "      <td>0.554805</td>\n",
       "      <td>0.959542</td>\n",
       "      <td>0.460226</td>\n",
       "      <td>0.349131</td>\n",
       "      <td>0.394522</td>\n",
       "      <td>2142.490511</td>\n",
       "      <td>140.493718</td>\n",
       "      <td>151.341454</td>\n",
       "      <td>11.335139</td>\n",
       "      <td>90.511075</td>\n",
       "      <td>60.530914</td>\n",
       "      <td>6.271134</td>\n",
       "      <td>4.441896</td>\n",
       "      <td>142.791706</td>\n",
       "      <td>360.883373</td>\n",
       "      <td>0.313499</td>\n",
       "    </tr>\n",
       "    <tr>\n",
       "      <th>min</th>\n",
       "      <td>6.238400e+04</td>\n",
       "      <td>0.000000</td>\n",
       "      <td>0.000000</td>\n",
       "      <td>1.000000</td>\n",
       "      <td>0.000000</td>\n",
       "      <td>0.000000</td>\n",
       "      <td>0.000000</td>\n",
       "      <td>0.000000</td>\n",
       "      <td>0.000000</td>\n",
       "      <td>0.000000</td>\n",
       "      <td>0.000000</td>\n",
       "      <td>0.000000</td>\n",
       "      <td>0.000000</td>\n",
       "      <td>0.000000</td>\n",
       "      <td>0.000000</td>\n",
       "      <td>0.000000</td>\n",
       "      <td>0.000000</td>\n",
       "      <td>0.066667</td>\n",
       "    </tr>\n",
       "    <tr>\n",
       "      <th>25%</th>\n",
       "      <td>8.270912e+07</td>\n",
       "      <td>25.000000</td>\n",
       "      <td>0.000000</td>\n",
       "      <td>1.000000</td>\n",
       "      <td>0.000000</td>\n",
       "      <td>0.000000</td>\n",
       "      <td>0.000000</td>\n",
       "      <td>245.084900</td>\n",
       "      <td>0.000000</td>\n",
       "      <td>63.199190</td>\n",
       "      <td>0.000000</td>\n",
       "      <td>11.000000</td>\n",
       "      <td>7.000000</td>\n",
       "      <td>3.000000</td>\n",
       "      <td>1.857143</td>\n",
       "      <td>49.989056</td>\n",
       "      <td>0.000000</td>\n",
       "      <td>0.200000</td>\n",
       "    </tr>\n",
       "    <tr>\n",
       "      <th>50%</th>\n",
       "      <td>8.308524e+07</td>\n",
       "      <td>31.000000</td>\n",
       "      <td>0.000000</td>\n",
       "      <td>1.000000</td>\n",
       "      <td>0.833053</td>\n",
       "      <td>0.000000</td>\n",
       "      <td>0.000000</td>\n",
       "      <td>855.485750</td>\n",
       "      <td>6.042000</td>\n",
       "      <td>123.247994</td>\n",
       "      <td>1.286733</td>\n",
       "      <td>36.000000</td>\n",
       "      <td>22.000000</td>\n",
       "      <td>5.142857</td>\n",
       "      <td>3.285714</td>\n",
       "      <td>66.377580</td>\n",
       "      <td>62.112116</td>\n",
       "      <td>0.466667</td>\n",
       "    </tr>\n",
       "    <tr>\n",
       "      <th>75%</th>\n",
       "      <td>8.347351e+07</td>\n",
       "      <td>41.000000</td>\n",
       "      <td>0.000000</td>\n",
       "      <td>2.000000</td>\n",
       "      <td>1.000000</td>\n",
       "      <td>0.021639</td>\n",
       "      <td>0.426523</td>\n",
       "      <td>2168.537800</td>\n",
       "      <td>72.595333</td>\n",
       "      <td>218.864583</td>\n",
       "      <td>10.155185</td>\n",
       "      <td>91.000000</td>\n",
       "      <td>58.000000</td>\n",
       "      <td>9.000000</td>\n",
       "      <td>6.000000</td>\n",
       "      <td>78.768650</td>\n",
       "      <td>438.463789</td>\n",
       "      <td>0.800000</td>\n",
       "    </tr>\n",
       "    <tr>\n",
       "      <th>max</th>\n",
       "      <td>8.388653e+07</td>\n",
       "      <td>147.000000</td>\n",
       "      <td>37.000000</td>\n",
       "      <td>13.000000</td>\n",
       "      <td>1.000000</td>\n",
       "      <td>1.000000</td>\n",
       "      <td>1.000000</td>\n",
       "      <td>44240.249670</td>\n",
       "      <td>2716.205767</td>\n",
       "      <td>2949.349978</td>\n",
       "      <td>351.446283</td>\n",
       "      <td>1694.000000</td>\n",
       "      <td>1206.000000</td>\n",
       "      <td>363.000000</td>\n",
       "      <td>363.000000</td>\n",
       "      <td>69625.737000</td>\n",
       "      <td>41613.784510</td>\n",
       "      <td>1.000000</td>\n",
       "    </tr>\n",
       "  </tbody>\n",
       "</table>\n",
       "</div>"
      ],
      "text/plain": [
       "       registered_user_id            age  previous_subscription_count  \\\n",
       "count        9.159050e+05  915905.000000                915905.000000   \n",
       "mean         7.666872e+07      34.230064                     0.153885   \n",
       "std          1.701553e+07      12.917872                     0.554805   \n",
       "min          6.238400e+04       0.000000                     0.000000   \n",
       "25%          8.270912e+07      25.000000                     0.000000   \n",
       "50%          8.308524e+07      31.000000                     0.000000   \n",
       "75%          8.347351e+07      41.000000                     0.000000   \n",
       "max          8.388653e+07     147.000000                    37.000000   \n",
       "\n",
       "             num_dev    perc_lv_dev  perc_computer_dev  \\\n",
       "count  915905.000000  915905.000000      915905.000000   \n",
       "mean        1.673701       0.563132           0.169158   \n",
       "std         0.959542       0.460226           0.349131   \n",
       "min         1.000000       0.000000           0.000000   \n",
       "25%         1.000000       0.000000           0.000000   \n",
       "50%         1.000000       0.833053           0.000000   \n",
       "75%         2.000000       1.000000           0.021639   \n",
       "max        13.000000       1.000000           1.000000   \n",
       "\n",
       "       perc_mobile_tablet_dev  tot_min_watched  tot_ad_min_watched  \\\n",
       "count           915905.000000    915905.000000       915905.000000   \n",
       "mean                 0.250199      1633.740572           68.235266   \n",
       "std                  0.394522      2142.490511          140.493718   \n",
       "min                  0.000000         0.000000            0.000000   \n",
       "25%                  0.000000       245.084900            0.000000   \n",
       "50%                  0.000000       855.485750            6.042000   \n",
       "75%                  0.426523      2168.537800           72.595333   \n",
       "max                  1.000000     44240.249670         2716.205767   \n",
       "\n",
       "       avg_min_watched_day  avg_ad_min_watched_day  tot_vid_watched  \\\n",
       "count        915905.000000           915905.000000    915905.000000   \n",
       "mean            164.521604                7.004106        68.732148   \n",
       "std             151.341454               11.335139        90.511075   \n",
       "min               0.000000                0.000000         0.000000   \n",
       "25%              63.199190                0.000000        11.000000   \n",
       "50%             123.247994                1.286733        36.000000   \n",
       "75%             218.864583               10.155185        91.000000   \n",
       "max            2949.349978              351.446283      1694.000000   \n",
       "\n",
       "       tot_unq_vid_watched  avg_vid_watched_day  avg_unq_vid_watched_day  \\\n",
       "count        915905.000000        915905.000000            915905.000000   \n",
       "mean             44.773229             6.968833                 4.642326   \n",
       "std              60.530914             6.271134                 4.441896   \n",
       "min               0.000000             0.000000                 0.000000   \n",
       "25%               7.000000             3.000000                 1.857143   \n",
       "50%              22.000000             5.142857                 3.285714   \n",
       "75%              58.000000             9.000000                 6.000000   \n",
       "max            1206.000000           363.000000               363.000000   \n",
       "\n",
       "       avg_playback_viewthru_perc  avg_ad_viewthru_perc  perc_active_days  \n",
       "count               915448.000000         915448.000000     915905.000000  \n",
       "mean                    63.495445            253.818017          0.512466  \n",
       "std                    142.791706            360.883373          0.313499  \n",
       "min                      0.000000              0.000000          0.066667  \n",
       "25%                     49.989056              0.000000          0.200000  \n",
       "50%                     66.377580             62.112116          0.466667  \n",
       "75%                     78.768650            438.463789          0.800000  \n",
       "max                  69625.737000          41613.784510          1.000000  "
      ]
     },
     "execution_count": 231,
     "metadata": {},
     "output_type": "execute_result"
    }
   ],
   "source": [
    "df_raw.describe()"
   ]
  },
  {
   "cell_type": "code",
   "execution_count": 232,
   "metadata": {},
   "outputs": [
    {
     "data": {
      "text/plain": [
       "registered_user_id             915905\n",
       "gender                         915905\n",
       "age                            915905\n",
       "previous_subscription_count    915905\n",
       "initial_product                915905\n",
       "channel                        915067\n",
       "subchannel                     847029\n",
       "partner                        471851\n",
       "subpartner                     307441\n",
       "num_dev                        915905\n",
       "perc_lv_dev                    915905\n",
       "perc_computer_dev              915905\n",
       "perc_mobile_tablet_dev         915905\n",
       "tot_min_watched                915905\n",
       "tot_ad_min_watched             915905\n",
       "avg_min_watched_day            915905\n",
       "avg_ad_min_watched_day         915905\n",
       "tot_vid_watched                915905\n",
       "tot_unq_vid_watched            915905\n",
       "avg_vid_watched_day            915905\n",
       "avg_unq_vid_watched_day        915905\n",
       "avg_playback_viewthru_perc     915448\n",
       "avg_ad_viewthru_perc           915448\n",
       "perc_active_days               915905\n",
       "segment                        915905\n",
       "dtype: int64"
      ]
     },
     "execution_count": 232,
     "metadata": {},
     "output_type": "execute_result"
    }
   ],
   "source": [
    "df_raw.count()"
   ]
  },
  {
   "cell_type": "code",
   "execution_count": 233,
   "metadata": {},
   "outputs": [
    {
     "data": {
      "text/plain": [
       "registered_user_id             915905\n",
       "gender                              4\n",
       "age                               135\n",
       "previous_subscription_count        28\n",
       "initial_product                     4\n",
       "channel                             3\n",
       "subchannel                         19\n",
       "partner                            72\n",
       "subpartner                         28\n",
       "num_dev                            13\n",
       "perc_lv_dev                    266249\n",
       "perc_computer_dev              144647\n",
       "perc_mobile_tablet_dev         247197\n",
       "tot_min_watched                890447\n",
       "tot_ad_min_watched             525505\n",
       "avg_min_watched_day            891762\n",
       "avg_ad_min_watched_day         552530\n",
       "tot_vid_watched                  1043\n",
       "tot_unq_vid_watched               730\n",
       "avg_vid_watched_day              3642\n",
       "avg_unq_vid_watched_day          2786\n",
       "avg_playback_viewthru_perc     898455\n",
       "avg_ad_viewthru_perc           573037\n",
       "perc_active_days                   15\n",
       "segment                             4\n",
       "dtype: int64"
      ]
     },
     "execution_count": 233,
     "metadata": {},
     "output_type": "execute_result"
    }
   ],
   "source": [
    "df_raw.nunique()"
   ]
  },
  {
   "cell_type": "code",
   "execution_count": 234,
   "metadata": {},
   "outputs": [
    {
     "data": {
      "text/plain": [
       "array(['m', 'f', '0', 'null'], dtype=object)"
      ]
     },
     "execution_count": 234,
     "metadata": {},
     "output_type": "execute_result"
    }
   ],
   "source": [
    "df_raw.gender.unique()"
   ]
  },
  {
   "cell_type": "code",
   "execution_count": 235,
   "metadata": {},
   "outputs": [
    {
     "data": {
      "text/plain": [
       "f       450667\n",
       "m       372969\n",
       "0        91556\n",
       "null       713\n",
       "Name: gender, dtype: int64"
      ]
     },
     "execution_count": 235,
     "metadata": {},
     "output_type": "execute_result"
    }
   ],
   "source": [
    "##df_raw.groupby(['gender']).count()\n",
    "df_raw.gender.value_counts()"
   ]
  },
  {
   "cell_type": "code",
   "execution_count": 236,
   "metadata": {},
   "outputs": [
    {
     "data": {
      "text/plain": [
       "array(['m', 'f'], dtype=object)"
      ]
     },
     "execution_count": 236,
     "metadata": {},
     "output_type": "execute_result"
    }
   ],
   "source": [
    "df_raw=df_raw[df_raw.gender != 'null']\n",
    "df_raw=df_raw[df_raw.gender != '0']\n",
    "df_raw.gender.unique()"
   ]
  },
  {
   "cell_type": "code",
   "execution_count": 237,
   "metadata": {},
   "outputs": [
    {
     "data": {
      "text/plain": [
       "array([ 43,  33,  29,  52,  37,  34,  46,  36,  60,  38,  39,  51,  76,\n",
       "        53,  56, 112,  47,  49,  40,  66,  69,  58,  35,  42,  59,  45,\n",
       "        48,  30,  26,  68,  28,  32,  57,  31,  41,  44,  62,  61,  50,\n",
       "        24,  72,  73,  54,  64,  65,  25,  27,  74,  71,  55,  23,  67,\n",
       "        63, 102,  70,  22, 115, 111, 105,  88, 116,  80,  81,  78,  97,\n",
       "       108,  77,  84,  93, 107,  95,  86,  75,  21,  96,  90,  94,  89,\n",
       "       135, 137, 134, 101, 143, 133, 122, 131, 136, 145, 130, 146, 140,\n",
       "       132, 147, 123, 125, 138, 128, 129, 142, 124, 126, 141,  79, 139,\n",
       "        91, 144, 127,  83,  20,  87, 106,  82, 103, 117, 109, 113, 104,\n",
       "       114, 100, 110,  85,  19,  92,  98,   0,  18,  99,  17,  14,  15,\n",
       "        16, 121, 118, 119, 120], dtype=int64)"
      ]
     },
     "execution_count": 237,
     "metadata": {},
     "output_type": "execute_result"
    }
   ],
   "source": [
    "df_raw.age.unique()"
   ]
  },
  {
   "cell_type": "code",
   "execution_count": 238,
   "metadata": {},
   "outputs": [
    {
     "data": {
      "text/plain": [
       "array([43, 33, 29, 52, 37, 34, 46, 36, 60, 38, 39, 51, 76, 53, 56, 47, 49,\n",
       "       40, 66, 69, 58, 35, 42, 59, 45, 48, 30, 26, 68, 28, 32, 57, 31, 41,\n",
       "       44, 62, 61, 50, 24, 72, 73, 54, 64, 65, 25, 27, 74, 71, 55, 23, 67,\n",
       "       63, 70, 22, 88, 80, 81, 78, 77, 84, 86, 75, 21, 90, 89, 79, 83, 20,\n",
       "       87, 82, 85, 19, 18, 17, 14, 15, 16], dtype=int64)"
      ]
     },
     "execution_count": 238,
     "metadata": {},
     "output_type": "execute_result"
    }
   ],
   "source": [
    "#df_raw=df_raw[df_raw.age > 0 & df_raw.age < 91]\n",
    "df_raw = df_raw[df_raw.age > 0]\n",
    "df_raw = df_raw[df_raw.age < 91]\n",
    "df_raw.age.unique()"
   ]
  },
  {
   "cell_type": "code",
   "execution_count": 239,
   "metadata": {},
   "outputs": [
    {
     "data": {
      "text/plain": [
       "array(['Partnership', 'Hulu', 'Paid Media', nan], dtype=object)"
      ]
     },
     "execution_count": 239,
     "metadata": {},
     "output_type": "execute_result"
    }
   ],
   "source": [
    "df_raw['channel'].unique()"
   ]
  },
  {
   "cell_type": "code",
   "execution_count": 240,
   "metadata": {},
   "outputs": [
    {
     "data": {
      "text/plain": [
       "array(['Partnership', 'Hulu', 'Paid Media', 'N_A'], dtype=object)"
      ]
     },
     "execution_count": 240,
     "metadata": {},
     "output_type": "execute_result"
    }
   ],
   "source": [
    "df_raw['channel'] = df_raw['channel'].fillna('N_A')\n",
    "df_raw['channel'].unique()"
   ]
  },
  {
   "cell_type": "code",
   "execution_count": 241,
   "metadata": {},
   "outputs": [
    {
     "data": {
      "text/plain": [
       "array(['Partnership', 'Hulu', 'Paid_Media', 'N_A'], dtype=object)"
      ]
     },
     "execution_count": 241,
     "metadata": {},
     "output_type": "execute_result"
    }
   ],
   "source": [
    "df_raw['channel'] = df_raw['channel'].replace(['Paid Media'], 'Paid_Media')\n",
    "df_raw['channel'].unique()"
   ]
  },
  {
   "cell_type": "code",
   "execution_count": 242,
   "metadata": {},
   "outputs": [
    {
     "data": {
      "text/plain": [
       "array(['OEM', 'Email', 'Non-Attributable', 'Masthead', 'Other', 'SEM',\n",
       "       'Strategic', nan, 'Display', 'Site Promo', 'TV', 'Audio',\n",
       "       'Distribution Partner', 'Social', 'Affiliate', 'MVPD', 'House Ad',\n",
       "       'Mobile', 'Referral', 'Virtual Gift Card'], dtype=object)"
      ]
     },
     "execution_count": 242,
     "metadata": {},
     "output_type": "execute_result"
    }
   ],
   "source": [
    "df_raw.subchannel.unique()"
   ]
  },
  {
   "cell_type": "code",
   "execution_count": 243,
   "metadata": {},
   "outputs": [
    {
     "data": {
      "text/plain": [
       "array(['OEM', 'Email', 'Non-Attributable', 'Masthead', 'Other', 'SEM',\n",
       "       'Strategic', 'N_A', 'Display', 'Site Promo', 'TV', 'Audio',\n",
       "       'Distribution Partner', 'Social', 'Affiliate', 'MVPD', 'House Ad',\n",
       "       'Mobile', 'Referral', 'Virtual Gift Card'], dtype=object)"
      ]
     },
     "execution_count": 243,
     "metadata": {},
     "output_type": "execute_result"
    }
   ],
   "source": [
    "df_raw['subchannel'] = df_raw['subchannel'].fillna('N_A')\n",
    "df_raw['subchannel'].unique()"
   ]
  },
  {
   "cell_type": "code",
   "execution_count": 244,
   "metadata": {},
   "outputs": [
    {
     "data": {
      "text/plain": [
       "array(['OEM', 'Email', 'Non_Attributable', 'Masthead', 'Other', 'SEM',\n",
       "       'Strategic', 'N_A', 'Display', 'Site_Promo', 'TV', 'Audio',\n",
       "       'Distribution_Partner', 'Social', 'Affiliate', 'MVPD', 'House_Ad',\n",
       "       'Mobile', 'Referral', 'Virtual_Gift_Card'], dtype=object)"
      ]
     },
     "execution_count": 244,
     "metadata": {},
     "output_type": "execute_result"
    }
   ],
   "source": [
    "df_raw['subchannel'] = df_raw['subchannel'].replace(['Non-Attributable'], 'Non_Attributable')\n",
    "df_raw['subchannel'] = df_raw['subchannel'].replace(['Site Promo'], 'Site_Promo')\n",
    "df_raw['subchannel'] = df_raw['subchannel'].replace(['Distribution Partner'], 'Distribution_Partner')\n",
    "df_raw['subchannel'] = df_raw['subchannel'].replace(['House Ad'], 'House_Ad')\n",
    "df_raw['subchannel'] = df_raw['subchannel'].replace(['Virtual Gift Card'], 'Virtual_Gift_Card')\n",
    "df_raw['subchannel'].unique()"
   ]
  },
  {
   "cell_type": "code",
   "execution_count": 245,
   "metadata": {},
   "outputs": [
    {
     "data": {
      "text/plain": [
       "array(['Microsoft', 'Apple', 'Hulu', nan, 'Amazon', 'Roku',\n",
       "       'American Express', 'Google', 'Sony', 'Samsung', 'Earwolf', 'CBSi',\n",
       "       'Tapjoy', 'Suddenlink', 'Panasonic', 'Cablevision', 'Nintendo',\n",
       "       'Rocketfuel', 'SideReel', 'Oculus', 'Vizio', 'Barnes and Noble',\n",
       "       'LG', 'Truview Mobile', 'Midcontinent', 'Philips', 'Mediacom',\n",
       "       'Gamefly', 'Yidio', 'RTPodNet', 'Toshiba', 'Quantcast', 'JARA',\n",
       "       'Enseo', 'DBM', 'TVLinks', 'Criterion', 'AAFES', 'Sharp',\n",
       "       'Facebook', 'MidRoll', 'Netgear', 'TV Guide', 'Commission Junction',\n",
       "       'AdMob', 'AMC Networks', 'RadiumOne', 'NBC', 'Vevo',\n",
       "       'Western Digital', 'Yahoo', 'Dstillery', 'Maximum Fun Network',\n",
       "       'Trialpay', 'PodcastOne', 'Neon Alley', 'Video Podcast Network',\n",
       "       'Star Talk', 'NCTC', 'AT&T', 'Best Buy', 'Armstrong',\n",
       "       'Carolla Digital', 'GCI', 'Bonnier', 'YouTube', 'NCircle',\n",
       "       'Exponential', 'Tivo', 'Smodcast', 'Funai', 'HowStuffWorks', 'Dynex'], dtype=object)"
      ]
     },
     "execution_count": 245,
     "metadata": {},
     "output_type": "execute_result"
    }
   ],
   "source": [
    "df_raw.partner.unique()"
   ]
  },
  {
   "cell_type": "code",
   "execution_count": 246,
   "metadata": {},
   "outputs": [
    {
     "data": {
      "text/plain": [
       "array(['Microsoft', 'Apple', 'Hulu', 'N_A', 'Amazon', 'Roku',\n",
       "       'American Express', 'Google', 'Sony', 'Samsung', 'Earwolf', 'CBSi',\n",
       "       'Tapjoy', 'Suddenlink', 'Panasonic', 'Cablevision', 'Nintendo',\n",
       "       'Rocketfuel', 'SideReel', 'Oculus', 'Vizio', 'Barnes and Noble',\n",
       "       'LG', 'Truview Mobile', 'Midcontinent', 'Philips', 'Mediacom',\n",
       "       'Gamefly', 'Yidio', 'RTPodNet', 'Toshiba', 'Quantcast', 'JARA',\n",
       "       'Enseo', 'DBM', 'TVLinks', 'Criterion', 'AAFES', 'Sharp',\n",
       "       'Facebook', 'MidRoll', 'Netgear', 'TV Guide', 'Commission Junction',\n",
       "       'AdMob', 'AMC Networks', 'RadiumOne', 'NBC', 'Vevo',\n",
       "       'Western Digital', 'Yahoo', 'Dstillery', 'Maximum Fun Network',\n",
       "       'Trialpay', 'PodcastOne', 'Neon Alley', 'Video Podcast Network',\n",
       "       'Star Talk', 'NCTC', 'AT&T', 'Best Buy', 'Armstrong',\n",
       "       'Carolla Digital', 'GCI', 'Bonnier', 'YouTube', 'NCircle',\n",
       "       'Exponential', 'Tivo', 'Smodcast', 'Funai', 'HowStuffWorks', 'Dynex'], dtype=object)"
      ]
     },
     "execution_count": 246,
     "metadata": {},
     "output_type": "execute_result"
    }
   ],
   "source": [
    "df_raw['partner'] = df_raw['partner'].fillna('N_A')\n",
    "df_raw['partner'].unique()"
   ]
  },
  {
   "cell_type": "code",
   "execution_count": 247,
   "metadata": {},
   "outputs": [
    {
     "data": {
      "text/plain": [
       "array(['Microsoft', 'Apple', 'Hulu', 'N_A', 'Amazon', 'Roku',\n",
       "       'American_Express', 'Google', 'Sony', 'Samsung', 'Earwolf', 'CBSi',\n",
       "       'Tapjoy', 'Suddenlink', 'Panasonic', 'Cablevision', 'Nintendo',\n",
       "       'Rocketfuel', 'SideReel', 'Oculus', 'Vizio', 'Barnes_and_Noble',\n",
       "       'LG', 'Truview_Mobile', 'Midcontinent', 'Philips', 'Mediacom',\n",
       "       'Gamefly', 'Yidio', 'RTPodNet', 'Toshiba', 'Quantcast', 'JARA',\n",
       "       'Enseo', 'DBM', 'TVLinks', 'Criterion', 'AAFES', 'Sharp',\n",
       "       'Facebook', 'MidRoll', 'Netgear', 'TV_Guide', 'Commission_Junction',\n",
       "       'AdMob', 'AMC_Networks', 'RadiumOne', 'NBC', 'Vevo',\n",
       "       'Western_Digital', 'Yahoo', 'Dstillery', 'Maximum_Fun_Network',\n",
       "       'Trialpay', 'PodcastOne', 'Neon_Alley', 'Video_Podcast_Network',\n",
       "       'Star_Talk', 'NCTC', 'ATT', 'Best_Buy', 'Armstrong',\n",
       "       'Carolla_Digital', 'GCI', 'Bonnier', 'YouTube', 'NCircle',\n",
       "       'Exponential', 'Tivo', 'Smodcast', 'Funai', 'HowStuffWorks', 'Dynex'], dtype=object)"
      ]
     },
     "execution_count": 247,
     "metadata": {},
     "output_type": "execute_result"
    }
   ],
   "source": [
    "df_raw['partner'] = df_raw['partner'].replace(['American Express'], 'American_Express')\n",
    "df_raw['partner'] = df_raw['partner'].replace(['Barnes and Noble'], 'Barnes_and_Noble')\n",
    "df_raw['partner'] = df_raw['partner'].replace(['Truview Mobile'], 'Truview_Mobile')\n",
    "df_raw['partner'] = df_raw['partner'].replace(['TV Guide'], 'TV_Guide')\n",
    "df_raw['partner'] = df_raw['partner'].replace(['Commission Junction'], 'Commission_Junction')\n",
    "df_raw['partner'] = df_raw['partner'].replace(['AMC Networks'], 'AMC_Networks')\n",
    "df_raw['partner'] = df_raw['partner'].replace(['Western Digital'], 'Western_Digital')\n",
    "df_raw['partner'] = df_raw['partner'].replace(['Maximum Fun Network'], 'Maximum_Fun_Network')\n",
    "df_raw['partner'] = df_raw['partner'].replace(['Neon Alley'], 'Neon_Alley')\n",
    "df_raw['partner'] = df_raw['partner'].replace(['Video Podcast Network'], 'Video_Podcast_Network')\n",
    "df_raw['partner'] = df_raw['partner'].replace(['Star Talk'], 'Star_Talk')\n",
    "df_raw['partner'] = df_raw['partner'].replace(['AT&T'], 'ATT')\n",
    "df_raw['partner'] = df_raw['partner'].replace(['Best Buy'], 'Best_Buy')\n",
    "df_raw['partner'] = df_raw['partner'].replace(['Carolla Digital'], 'Carolla_Digital')\n",
    "df_raw['partner'].unique()"
   ]
  },
  {
   "cell_type": "code",
   "execution_count": 248,
   "metadata": {},
   "outputs": [
    {
     "data": {
      "text/plain": [
       "array(['Xbox One', 'Apple TV', 'Reacquisition / Retention', nan, 'iOS',\n",
       "       'Amazon Fire TV', 'Windows', 'Plenti', 'PS4', 'Amazon Kindle',\n",
       "       'Bing', 'PS3', 'EWolf', 'BIVL', 'Xbox 360', 'WiiU', 'Nook', 'Wii U',\n",
       "       'Wii', 'Rooster Teeth', 'PS Vita', 'Non-attributable', 'OperaTV',\n",
       "       '3DS', 'Nexus Player', 'Norm MacDonald', 'Grande', 'Alison Rosen',\n",
       "       'TESD'], dtype=object)"
      ]
     },
     "execution_count": 248,
     "metadata": {},
     "output_type": "execute_result"
    }
   ],
   "source": [
    "df_raw.subpartner.unique()"
   ]
  },
  {
   "cell_type": "code",
   "execution_count": 249,
   "metadata": {},
   "outputs": [
    {
     "data": {
      "text/plain": [
       "array(['Xbox One', 'Apple TV', 'Reacquisition / Retention', 'N_A', 'iOS',\n",
       "       'Amazon Fire TV', 'Windows', 'Plenti', 'PS4', 'Amazon Kindle',\n",
       "       'Bing', 'PS3', 'EWolf', 'BIVL', 'Xbox 360', 'WiiU', 'Nook', 'Wii U',\n",
       "       'Wii', 'Rooster Teeth', 'PS Vita', 'Non-attributable', 'OperaTV',\n",
       "       '3DS', 'Nexus Player', 'Norm MacDonald', 'Grande', 'Alison Rosen',\n",
       "       'TESD'], dtype=object)"
      ]
     },
     "execution_count": 249,
     "metadata": {},
     "output_type": "execute_result"
    }
   ],
   "source": [
    "df_raw['subpartner'] = df_raw['subpartner'].fillna('N_A')\n",
    "df_raw['subpartner'].unique()"
   ]
  },
  {
   "cell_type": "code",
   "execution_count": 250,
   "metadata": {},
   "outputs": [
    {
     "data": {
      "text/plain": [
       "array(['Xbox_One', 'Apple_TV', 'Reacquisition_Retention', 'N_A', 'iOS',\n",
       "       'Amazon_Fire_TV', 'Windows', 'Plenti', 'PS4', 'Amazon_Kindle',\n",
       "       'Bing', 'PS3', 'EWolf', 'BIVL', 'Xbox_360', 'WiiU', 'Nook', 'Wii_U',\n",
       "       'Wii', 'Rooster_Teeth', 'PS_Vita', 'Non_attributable', 'OperaTV',\n",
       "       '3DS', 'Nexus_Player', 'Norm_MacDonald', 'Grande', 'Alison_Rosen',\n",
       "       'TESD'], dtype=object)"
      ]
     },
     "execution_count": 250,
     "metadata": {},
     "output_type": "execute_result"
    }
   ],
   "source": [
    "df_raw['subpartner'] = df_raw['subpartner'].replace(['Xbox One'], 'Xbox_One')\n",
    "df_raw['subpartner'] = df_raw['subpartner'].replace(['Apple TV'], 'Apple_TV')\n",
    "df_raw['subpartner'] = df_raw['subpartner'].replace(['Reacquisition / Retention'], 'Reacquisition_Retention')\n",
    "df_raw['subpartner'] = df_raw['subpartner'].replace(['Amazon Fire TV'], 'Amazon_Fire_TV')\n",
    "df_raw['subpartner'] = df_raw['subpartner'].replace(['Amazon Kindle'], 'Amazon_Kindle')\n",
    "df_raw['subpartner'] = df_raw['subpartner'].replace(['Xbox 360'], 'Xbox_360')\n",
    "df_raw['subpartner'] = df_raw['subpartner'].replace(['Wii U'], 'Wii_U')\n",
    "df_raw['subpartner'] = df_raw['subpartner'].replace(['Rooster Teeth'], 'Rooster_Teeth')\n",
    "df_raw['subpartner'] = df_raw['subpartner'].replace(['PS Vita'], 'PS_Vita')\n",
    "df_raw['subpartner'] = df_raw['subpartner'].replace(['Non-attributable'], 'Non_attributable')\n",
    "df_raw['subpartner'] = df_raw['subpartner'].replace(['Nexus Player'], 'Nexus_Player')\n",
    "df_raw['subpartner'] = df_raw['subpartner'].replace(['Norm MacDonald'], 'Norm_MacDonald')\n",
    "df_raw['subpartner'] = df_raw['subpartner'].replace(['Alison Rosen'], 'Alison_Rosen')\n",
    "df_raw['subpartner'].unique()"
   ]
  },
  {
   "cell_type": "code",
   "execution_count": 251,
   "metadata": {},
   "outputs": [
    {
     "data": {
      "text/plain": [
       "448"
      ]
     },
     "execution_count": 251,
     "metadata": {},
     "output_type": "execute_result"
    }
   ],
   "source": [
    "df_raw.avg_playback_viewthru_perc.isnull().sum()"
   ]
  },
  {
   "cell_type": "code",
   "execution_count": 252,
   "metadata": {},
   "outputs": [
    {
     "data": {
      "text/plain": [
       "448"
      ]
     },
     "execution_count": 252,
     "metadata": {},
     "output_type": "execute_result"
    }
   ],
   "source": [
    "df_raw.avg_ad_viewthru_perc.isnull().sum()"
   ]
  },
  {
   "cell_type": "code",
   "execution_count": 253,
   "metadata": {},
   "outputs": [
    {
     "data": {
      "text/plain": [
       "array([ 1.        ,  0.        ,  0.13467722, ...,  0.82573675,\n",
       "        0.7974679 ,  0.64178318])"
      ]
     },
     "execution_count": 253,
     "metadata": {},
     "output_type": "execute_result"
    }
   ],
   "source": [
    "df_raw.perc_lv_dev.unique()"
   ]
  },
  {
   "cell_type": "code",
   "execution_count": 254,
   "metadata": {},
   "outputs": [
    {
     "data": {
      "text/plain": [
       "registered_user_id             822016\n",
       "gender                         822016\n",
       "age                            822016\n",
       "previous_subscription_count    822016\n",
       "initial_product                822016\n",
       "channel                        822016\n",
       "subchannel                     822016\n",
       "partner                        822016\n",
       "subpartner                     822016\n",
       "num_dev                        822016\n",
       "perc_lv_dev                    822016\n",
       "perc_computer_dev              822016\n",
       "perc_mobile_tablet_dev         822016\n",
       "tot_min_watched                822016\n",
       "tot_ad_min_watched             822016\n",
       "avg_min_watched_day            822016\n",
       "avg_ad_min_watched_day         822016\n",
       "tot_vid_watched                822016\n",
       "tot_unq_vid_watched            822016\n",
       "avg_vid_watched_day            822016\n",
       "avg_unq_vid_watched_day        822016\n",
       "avg_playback_viewthru_perc     821568\n",
       "avg_ad_viewthru_perc           821568\n",
       "perc_active_days               822016\n",
       "segment                        822016\n",
       "dtype: int64"
      ]
     },
     "execution_count": 254,
     "metadata": {},
     "output_type": "execute_result"
    }
   ],
   "source": [
    "df_raw.count()"
   ]
  },
  {
   "cell_type": "code",
   "execution_count": 255,
   "metadata": {},
   "outputs": [
    {
     "data": {
      "text/plain": [
       "registered_user_id             822016\n",
       "gender                              2\n",
       "age                                77\n",
       "previous_subscription_count        28\n",
       "initial_product                     4\n",
       "channel                             4\n",
       "subchannel                         20\n",
       "partner                            73\n",
       "subpartner                         29\n",
       "num_dev                            13\n",
       "perc_lv_dev                    240746\n",
       "perc_computer_dev              136253\n",
       "perc_mobile_tablet_dev         220515\n",
       "tot_min_watched                799483\n",
       "tot_ad_min_watched             470115\n",
       "avg_min_watched_day            800604\n",
       "avg_ad_min_watched_day         494003\n",
       "tot_vid_watched                  1036\n",
       "tot_unq_vid_watched               725\n",
       "avg_vid_watched_day              3599\n",
       "avg_unq_vid_watched_day          2755\n",
       "avg_playback_viewthru_perc     805785\n",
       "avg_ad_viewthru_perc           512017\n",
       "perc_active_days                   15\n",
       "segment                             4\n",
       "dtype: int64"
      ]
     },
     "execution_count": 255,
     "metadata": {},
     "output_type": "execute_result"
    }
   ],
   "source": [
    "df_raw.nunique()"
   ]
  },
  {
   "cell_type": "markdown",
   "metadata": {},
   "source": [
    "# Do not use avg_playback_viewthru_perc & avg_ad_viewthru_perc\n",
    "# Numbers don't look correct"
   ]
  },
  {
   "cell_type": "code",
   "execution_count": 257,
   "metadata": {},
   "outputs": [
    {
     "data": {
      "image/png": "[encoded data removed]",
      "text/plain": [
       "<matplotlib.figure.Figure at 0x28182898>"
      ]
     },
     "metadata": {},
     "output_type": "display_data"
    }
   ],
   "source": [
    "plt.hist(df_raw['age'], 30, histtype = 'bar', facecolor='green')\n",
    "plt.ylabel(\"Frequency\")\n",
    "plt.xlabel(\"Age\")\n",
    "plt.title(\"Age\")\n",
    "plt.axis([10,90,0,80000])\n",
    "plt.show()"
   ]
  },
  {
   "cell_type": "code",
   "execution_count": 258,
   "metadata": {},
   "outputs": [
    {
     "data": {
      "text/plain": [
       "0     729508\n",
       "1      67225\n",
       "2      16665\n",
       "3       4995\n",
       "4       1957\n",
       "5        790\n",
       "6        374\n",
       "7        212\n",
       "8        113\n",
       "9         47\n",
       "10        36\n",
       "11        29\n",
       "12        17\n",
       "13        10\n",
       "14        10\n",
       "15         8\n",
       "16         5\n",
       "17         3\n",
       "18         2\n",
       "22         2\n",
       "36         1\n",
       "20         1\n",
       "21         1\n",
       "23         1\n",
       "26         1\n",
       "27         1\n",
       "28         1\n",
       "37         1\n",
       "Name: previous_subscription_count, dtype: int64"
      ]
     },
     "execution_count": 258,
     "metadata": {},
     "output_type": "execute_result"
    }
   ],
   "source": [
    "df_raw.previous_subscription_count.value_counts()"
   ]
  },
  {
   "cell_type": "code",
   "execution_count": 259,
   "metadata": {},
   "outputs": [
    {
     "data": {
      "image/png": "[encoded data removed]",
      "text/plain": [
       "<matplotlib.figure.Figure at 0x281778d0>"
      ]
     },
     "metadata": {},
     "output_type": "display_data"
    }
   ],
   "source": [
    "plt.hist(df_raw['previous_subscription_count'], 28, histtype = 'bar', facecolor='green')\n",
    "plt.ylabel(\"Frequency\")\n",
    "plt.xlabel(\"previous_subscription_count\")\n",
    "plt.title(\"previous_subscription_count\")\n",
    "plt.axis([0,11,0,900000])\n",
    "plt.show()"
   ]
  },
  {
   "cell_type": "code",
   "execution_count": 260,
   "metadata": {},
   "outputs": [
    {
     "data": {
      "text/plain": [
       "1     463092\n",
       "2     223359\n",
       "3      90498\n",
       "4      31257\n",
       "5       9724\n",
       "6       2882\n",
       "7        870\n",
       "8        229\n",
       "9         79\n",
       "10        18\n",
       "11         4\n",
       "13         2\n",
       "12         2\n",
       "Name: num_dev, dtype: int64"
      ]
     },
     "execution_count": 260,
     "metadata": {},
     "output_type": "execute_result"
    }
   ],
   "source": [
    "df_raw.num_dev.value_counts()"
   ]
  },
  {
   "cell_type": "code",
   "execution_count": 261,
   "metadata": {},
   "outputs": [
    {
     "data": {
      "image/png": "[encoded data removed]",
      "text/plain": [
       "<matplotlib.figure.Figure at 0x28a9a160>"
      ]
     },
     "metadata": {},
     "output_type": "display_data"
    }
   ],
   "source": [
    "plt.hist(df_raw['num_dev'], 12, histtype = 'bar', facecolor='green')\n",
    "plt.ylabel(\"Frequency\")\n",
    "plt.xlabel(\"num_dev\")\n",
    "plt.title(\"num_dev\")\n",
    "plt.axis([0,13,0,500000])\n",
    "plt.show()"
   ]
  },
  {
   "cell_type": "code",
   "execution_count": 262,
   "metadata": {},
   "outputs": [
    {
     "data": {
      "text/plain": [
       "0.066667    87601\n",
       "1.000000    81094\n",
       "0.133333    66736\n",
       "0.200000    56963\n",
       "0.933333    56642\n",
       "0.266667    52686\n",
       "0.333333    49527\n",
       "0.866667    49509\n",
       "0.400000    47494\n",
       "0.800000    46622\n",
       "0.466667    46573\n",
       "0.533333    45597\n",
       "0.733333    45160\n",
       "0.600000    45045\n",
       "0.666667    44767\n",
       "Name: perc_active_days, dtype: int64"
      ]
     },
     "execution_count": 262,
     "metadata": {},
     "output_type": "execute_result"
    }
   ],
   "source": [
    "df_raw.perc_active_days.value_counts()"
   ]
  },
  {
   "cell_type": "code",
   "execution_count": 263,
   "metadata": {},
   "outputs": [
    {
     "data": {
      "image/png": "[encoded data removed]",
      "text/plain": [
       "<matplotlib.figure.Figure at 0x1a1f5668>"
      ]
     },
     "metadata": {},
     "output_type": "display_data"
    }
   ],
   "source": [
    "plt.hist(df_raw['perc_active_days'], 15, histtype = 'bar', facecolor='green')\n",
    "plt.ylabel(\"Frequency\")\n",
    "plt.xlabel(\"perc_active_days\")\n",
    "plt.title(\"perc_active_days\")\n",
    "plt.axis([0,1,0,100000])\n",
    "plt.show()"
   ]
  },
  {
   "cell_type": "code",
   "execution_count": 264,
   "metadata": {},
   "outputs": [
    {
     "data": {
      "text/plain": [
       "promo_expire    251062\n",
       "high_12+        241085\n",
       "low_0-6         215573\n",
       "mid_6-12        114296\n",
       "Name: segment, dtype: int64"
      ]
     },
     "execution_count": 264,
     "metadata": {},
     "output_type": "execute_result"
    }
   ],
   "source": [
    "df_raw.segment.value_counts()"
   ]
  },
  {
   "cell_type": "code",
   "execution_count": 265,
   "metadata": {},
   "outputs": [
    {
     "data": {
      "text/plain": [
       "<matplotlib.image.AxesImage at 0x3d3fc470>"
      ]
     },
     "execution_count": 265,
     "metadata": {},
     "output_type": "execute_result"
    }
   ],
   "source": [
    "#corr=df_raw.corr()\n",
    "#plt.matshow(df_raw.corr())\n",
    "#df_raw['age','previous_subscription_count'].corr()\n",
    "\n",
    "corr=df_raw.loc[:,['age','previous_subscription_count']].corr()\n",
    "plt.matshow(df_raw.corr())\n",
    "\n",
    "##f, ax = plt.subplots(figsize=(10, 8))\n",
    "#corr=df_raw['age','previous_subscription_count'].corr()\n",
    "#sns.heatmap(corr, mask=np.zeros_like(corr, dtype=np.bool), cmap=sns.diverging_palette(220, 10, as_cmap=True),\n",
    " #           square=True, ax=ax)"
   ]
  },
  {
   "cell_type": "code",
   "execution_count": 223,
   "metadata": {},
   "outputs": [
    {
     "name": "stdout",
     "output_type": "stream",
     "text": [
      "                             registered_user_id       age  \\\n",
      "registered_user_id                     1.000000 -0.082028   \n",
      "age                                   -0.082028  1.000000   \n",
      "previous_subscription_count           -0.395860  0.023045   \n",
      "num_dev                               -0.006038 -0.025004   \n",
      "perc_lv_dev                            0.027886  0.069973   \n",
      "perc_computer_dev                     -0.033975 -0.076964   \n",
      "perc_mobile_tablet_dev                -0.003097 -0.013674   \n",
      "tot_min_watched                        0.040939 -0.059134   \n",
      "tot_ad_min_watched                     0.002715 -0.055010   \n",
      "avg_min_watched_day                    0.043383 -0.041250   \n",
      "avg_ad_min_watched_day                -0.007585 -0.051522   \n",
      "tot_vid_watched                        0.036303 -0.080542   \n",
      "tot_unq_vid_watched                    0.031563 -0.073388   \n",
      "avg_vid_watched_day                    0.036766 -0.064425   \n",
      "avg_unq_vid_watched_day                0.028044 -0.050189   \n",
      "avg_playback_viewthru_perc            -0.002419 -0.006170   \n",
      "avg_ad_viewthru_perc                  -0.036037 -0.052622   \n",
      "perc_active_days                       0.021516 -0.116886   \n",
      "\n",
      "                             previous_subscription_count   num_dev  \\\n",
      "registered_user_id                             -0.395860 -0.006038   \n",
      "age                                             0.023045 -0.025004   \n",
      "previous_subscription_count                     1.000000  0.024900   \n",
      "num_dev                                         0.024900  1.000000   \n",
      "perc_lv_dev                                    -0.005014  0.089265   \n",
      "perc_computer_dev                              -0.041233 -0.160797   \n",
      "perc_mobile_tablet_dev                          0.048875  0.078160   \n",
      "tot_min_watched                                -0.033355  0.321471   \n",
      "tot_ad_min_watched                              0.018891  0.145792   \n",
      "avg_min_watched_day                            -0.035962  0.258954   \n",
      "avg_ad_min_watched_day                          0.034493  0.085943   \n",
      "tot_vid_watched                                -0.028233  0.353784   \n",
      "tot_unq_vid_watched                            -0.028792  0.315114   \n",
      "avg_vid_watched_day                            -0.028340  0.298468   \n",
      "avg_unq_vid_watched_day                        -0.027546  0.233347   \n",
      "avg_playback_viewthru_perc                      0.000449  0.008444   \n",
      "avg_ad_viewthru_perc                            0.058685 -0.045412   \n",
      "perc_active_days                               -0.015701  0.403550   \n",
      "\n",
      "                             perc_lv_dev  perc_computer_dev  \\\n",
      "registered_user_id              0.027886          -0.033975   \n",
      "age                             0.069973          -0.076964   \n",
      "previous_subscription_count    -0.005014          -0.041233   \n",
      "num_dev                         0.089265          -0.160797   \n",
      "perc_lv_dev                     1.000000          -0.573015   \n",
      "perc_computer_dev              -0.573015           1.000000   \n",
      "perc_mobile_tablet_dev         -0.607366          -0.239457   \n",
      "tot_min_watched                 0.226852          -0.143420   \n",
      "tot_ad_min_watched              0.111776          -0.073011   \n",
      "avg_min_watched_day             0.272831          -0.156951   \n",
      "avg_ad_min_watched_day          0.104497          -0.063818   \n",
      "tot_vid_watched                 0.199659          -0.133046   \n",
      "tot_unq_vid_watched             0.225501          -0.123232   \n",
      "avg_vid_watched_day             0.216181          -0.135485   \n",
      "avg_unq_vid_watched_day         0.242219          -0.114168   \n",
      "avg_playback_viewthru_perc      0.026917           0.002834   \n",
      "avg_ad_viewthru_perc           -0.034681           0.069449   \n",
      "perc_active_days                0.176053          -0.115178   \n",
      "\n",
      "                             perc_mobile_tablet_dev  tot_min_watched  \\\n",
      "registered_user_id                        -0.003097         0.040939   \n",
      "age                                       -0.013674        -0.059134   \n",
      "previous_subscription_count                0.048875        -0.033355   \n",
      "num_dev                                    0.078160         0.321471   \n",
      "perc_lv_dev                               -0.607366         0.226852   \n",
      "perc_computer_dev                         -0.239457        -0.143420   \n",
      "perc_mobile_tablet_dev                     1.000000        -0.101590   \n",
      "tot_min_watched                           -0.101590         1.000000   \n",
      "tot_ad_min_watched                        -0.042926         0.501086   \n",
      "avg_min_watched_day                       -0.129126         0.912516   \n",
      "avg_ad_min_watched_day                    -0.037241         0.379135   \n",
      "tot_vid_watched                           -0.079702         0.927738   \n",
      "tot_unq_vid_watched                       -0.121546         0.899975   \n",
      "avg_vid_watched_day                       -0.089467         0.829555   \n",
      "avg_unq_vid_watched_day                   -0.146127         0.753333   \n",
      "avg_playback_viewthru_perc                -0.015579         0.049854   \n",
      "avg_ad_viewthru_perc                       0.004176        -0.019241   \n",
      "perc_active_days                          -0.037046         0.695629   \n",
      "\n",
      "                             tot_ad_min_watched  avg_min_watched_day  \\\n",
      "registered_user_id                     0.002715             0.043383   \n",
      "age                                   -0.055010            -0.041250   \n",
      "previous_subscription_count            0.018891            -0.035962   \n",
      "num_dev                                0.145792             0.258954   \n",
      "perc_lv_dev                            0.111776             0.272831   \n",
      "perc_computer_dev                     -0.073011            -0.156951   \n",
      "perc_mobile_tablet_dev                -0.042926            -0.129126   \n",
      "tot_min_watched                        0.501086             0.912516   \n",
      "tot_ad_min_watched                     1.000000             0.443383   \n",
      "avg_min_watched_day                    0.443383             1.000000   \n",
      "avg_ad_min_watched_day                 0.916288             0.409707   \n",
      "tot_vid_watched                        0.457816             0.820570   \n",
      "tot_unq_vid_watched                    0.443066             0.805593   \n",
      "avg_vid_watched_day                    0.396344             0.855481   \n",
      "avg_unq_vid_watched_day                0.356005             0.800482   \n",
      "avg_playback_viewthru_perc             0.030552             0.066078   \n",
      "avg_ad_viewthru_perc                   0.418577            -0.001680   \n",
      "perc_active_days                       0.417615             0.522154   \n",
      "\n",
      "                             avg_ad_min_watched_day  tot_vid_watched  \\\n",
      "registered_user_id                        -0.007585         0.036303   \n",
      "age                                       -0.051522        -0.080542   \n",
      "previous_subscription_count                0.034493        -0.028233   \n",
      "num_dev                                    0.085943         0.353784   \n",
      "perc_lv_dev                                0.104497         0.199659   \n",
      "perc_computer_dev                         -0.063818        -0.133046   \n",
      "perc_mobile_tablet_dev                    -0.037241        -0.079702   \n",
      "tot_min_watched                            0.379135         0.927738   \n",
      "tot_ad_min_watched                         0.916288         0.457816   \n",
      "avg_min_watched_day                        0.409707         0.820570   \n",
      "avg_ad_min_watched_day                     1.000000         0.335003   \n",
      "tot_vid_watched                            0.335003         1.000000   \n",
      "tot_unq_vid_watched                        0.327730         0.957217   \n",
      "avg_vid_watched_day                        0.350766         0.913110   \n",
      "avg_unq_vid_watched_day                    0.325052         0.818627   \n",
      "avg_playback_viewthru_perc                 0.036306         0.040623   \n",
      "avg_ad_viewthru_perc                       0.564669        -0.063305   \n",
      "perc_active_days                           0.267430         0.695547   \n",
      "\n",
      "                             tot_unq_vid_watched  avg_vid_watched_day  \\\n",
      "registered_user_id                      0.031563             0.036766   \n",
      "age                                    -0.073388            -0.064425   \n",
      "previous_subscription_count            -0.028792            -0.028340   \n",
      "num_dev                                 0.315114             0.298468   \n",
      "perc_lv_dev                             0.225501             0.216181   \n",
      "perc_computer_dev                      -0.123232            -0.135485   \n",
      "perc_mobile_tablet_dev                 -0.121546            -0.089467   \n",
      "tot_min_watched                         0.899975             0.829555   \n",
      "tot_ad_min_watched                      0.443066             0.396344   \n",
      "avg_min_watched_day                     0.805593             0.855481   \n",
      "avg_ad_min_watched_day                  0.327730             0.350766   \n",
      "tot_vid_watched                         0.957217             0.913110   \n",
      "tot_unq_vid_watched                     1.000000             0.883221   \n",
      "avg_vid_watched_day                     0.883221             1.000000   \n",
      "avg_unq_vid_watched_day                 0.886036             0.928644   \n",
      "avg_playback_viewthru_perc              0.047025             0.044742   \n",
      "avg_ad_viewthru_perc                   -0.062385            -0.079981   \n",
      "perc_active_days                        0.663532             0.515312   \n",
      "\n",
      "                             avg_unq_vid_watched_day  \\\n",
      "registered_user_id                          0.028044   \n",
      "age                                        -0.050189   \n",
      "previous_subscription_count                -0.027546   \n",
      "num_dev                                     0.233347   \n",
      "perc_lv_dev                                 0.242219   \n",
      "perc_computer_dev                          -0.114168   \n",
      "perc_mobile_tablet_dev                     -0.146127   \n",
      "tot_min_watched                             0.753333   \n",
      "tot_ad_min_watched                          0.356005   \n",
      "avg_min_watched_day                         0.800482   \n",
      "avg_ad_min_watched_day                      0.325052   \n",
      "tot_vid_watched                             0.818627   \n",
      "tot_unq_vid_watched                         0.886036   \n",
      "avg_vid_watched_day                         0.928644   \n",
      "avg_unq_vid_watched_day                     1.000000   \n",
      "avg_playback_viewthru_perc                  0.053941   \n",
      "avg_ad_viewthru_perc                       -0.075373   \n",
      "perc_active_days                            0.439585   \n",
      "\n",
      "                             avg_playback_viewthru_perc  avg_ad_viewthru_perc  \\\n",
      "registered_user_id                            -0.002419             -0.036037   \n",
      "age                                           -0.006170             -0.052622   \n",
      "previous_subscription_count                    0.000449              0.058685   \n",
      "num_dev                                        0.008444             -0.045412   \n",
      "perc_lv_dev                                    0.026917             -0.034681   \n",
      "perc_computer_dev                              0.002834              0.069449   \n",
      "perc_mobile_tablet_dev                        -0.015579              0.004176   \n",
      "tot_min_watched                                0.049854             -0.019241   \n",
      "tot_ad_min_watched                             0.030552              0.418577   \n",
      "avg_min_watched_day                            0.066078             -0.001680   \n",
      "avg_ad_min_watched_day                         0.036306              0.564669   \n",
      "tot_vid_watched                                0.040623             -0.063305   \n",
      "tot_unq_vid_watched                            0.047025             -0.062385   \n",
      "avg_vid_watched_day                            0.044742             -0.079981   \n",
      "avg_unq_vid_watched_day                        0.053941             -0.075373   \n",
      "avg_playback_viewthru_perc                     1.000000              0.030105   \n",
      "avg_ad_viewthru_perc                           0.030105              1.000000   \n",
      "perc_active_days                               0.046332              0.030292   \n",
      "\n",
      "                             perc_active_days  \n",
      "registered_user_id                   0.021516  \n",
      "age                                 -0.116886  \n",
      "previous_subscription_count         -0.015701  \n",
      "num_dev                              0.403550  \n",
      "perc_lv_dev                          0.176053  \n",
      "perc_computer_dev                   -0.115178  \n",
      "perc_mobile_tablet_dev              -0.037046  \n",
      "tot_min_watched                      0.695629  \n",
      "tot_ad_min_watched                   0.417615  \n",
      "avg_min_watched_day                  0.522154  \n",
      "avg_ad_min_watched_day               0.267430  \n",
      "tot_vid_watched                      0.695547  \n",
      "tot_unq_vid_watched                  0.663532  \n",
      "avg_vid_watched_day                  0.515312  \n",
      "avg_unq_vid_watched_day              0.439585  \n",
      "avg_playback_viewthru_perc           0.046332  \n",
      "avg_ad_viewthru_perc                 0.030292  \n",
      "perc_active_days                     1.000000  \n",
      "Axes(0.15,0.350524;0.253952x0.253952)\n"
     ]
    }
   ],
   "source": [
    "cmap = sns.diverging_palette(220, 10, as_cmap=True)\n",
    "\n",
    "##correlations = df_raw[['age', 'previous_subscription_count', 'num_dev']].corr()\n",
    "correlations = df_raw.corr()\n",
    "print correlations\n",
    "print sns.heatmap(correlations, cmap=cmap)"
   ]
  },
  {
   "cell_type": "code",
   "execution_count": 271,
   "metadata": {},
   "outputs": [],
   "source": [
    "from sklearn.ensemble import RandomForestClassifier\n",
    "import sklearn.model_selection as ms\n",
    "#from sklearn.cross_validation import cross_val_score\n",
    "\n",
    "X = df_raw[['age','previous_subscription_count','num_dev','perc_lv_dev','perc_computer_dev','perc_mobile_tablet_dev','tot_min_watched','tot_ad_min_watched','avg_min_watched_day','avg_ad_min_watched_day','tot_vid_watched','tot_unq_vid_watched','avg_vid_watched_day','avg_unq_vid_watched_day','perc_active_days']]\n",
    "y = df_raw['segment']\n",
    "\n",
    "model = RandomForestClassifier(n_estimators = 20)#, n_jobs=-1)# 1st tune the n_estimators then others, n_jobs=-1 uses all cpu cores instead of 1\n",
    "    \n",
    "model.fit(X, y)\n",
    "\n",
    "#scores = cross_val_score(model, X, y, scoring='accuracy', cv=5)\n",
    "#CV = ms.cross_validate(model, X, y, cv=5, scoring=['roc_auc','accuracy'])\n",
    "CV = ms.cross_validate(model, X, y, cv=5, scoring=['accuracy'])"
   ]
  },
  {
   "cell_type": "code",
   "execution_count": 272,
   "metadata": {},
   "outputs": [
    {
     "name": "stdout",
     "output_type": "stream",
     "text": [
      "{'score_time': array([ 4.89199996,  3.06100011,  4.05700016,  4.01099992,  2.57400012]), 'fit_time': array([ 102.61399984,  101.38100004,   81.92799997,   88.20200014,\n",
      "         80.52799988]), 'train_accuracy': array([ 0.99582124,  0.99575738,  0.99573761,  0.99584255,  0.99585319]), 'test_accuracy': array([ 0.35060977,  0.35359845,  0.35062012,  0.35484362,  0.35430226])}\n"
     ]
    }
   ],
   "source": [
    "print CV"
   ]
  },
  {
   "cell_type": "code",
   "execution_count": 270,
   "metadata": {},
   "outputs": [
    {
     "name": "stdout",
     "output_type": "stream",
     "text": [
      "   registered_user_id gender  age  previous_subscription_count  \\\n",
      "0               62384      m   43                            1   \n",
      "1               62850      m   33                            1   \n",
      "2               64094      m   29                            2   \n",
      "3               66282      m   52                            0   \n",
      "4               71566      m   37                            0   \n",
      "\n",
      "  initial_product      channel        subchannel    partner  \\\n",
      "0            NOAH  Partnership               OEM  Microsoft   \n",
      "1            NOAH  Partnership               OEM      Apple   \n",
      "2            NOAH         Hulu             Email       Hulu   \n",
      "3            NOAH         Hulu  Non_Attributable        N_A   \n",
      "4            SASH  Partnership               OEM      Apple   \n",
      "\n",
      "                subpartner  num_dev      ...       avg_vid_watched_day  \\\n",
      "0                 Xbox_One        1      ...                  2.400000   \n",
      "1                 Apple_TV        1      ...                  5.857143   \n",
      "2  Reacquisition_Retention        1      ...                  6.454545   \n",
      "3                      N_A        1      ...                  1.000000   \n",
      "4                      iOS        1      ...                  1.666667   \n",
      "\n",
      "   avg_unq_vid_watched_day  avg_playback_viewthru_perc  avg_ad_viewthru_perc  \\\n",
      "0                 2.000000                   82.908544              0.000000   \n",
      "1                 5.285714                   92.596425              0.000000   \n",
      "2                 3.909091                   55.141836              0.000000   \n",
      "3                 1.000000                   98.606752              0.000000   \n",
      "4                 1.666667                   35.311173            258.823953   \n",
      "\n",
      "   perc_active_days       segment  high_12+  low_0-6  mid_6-12  promo_expire  \n",
      "0          0.333333      mid_6-12         0        0         1             0  \n",
      "1          0.466667      high_12+         1        0         0             0  \n",
      "2          0.733333  promo_expire         0        0         0             1  \n",
      "3          0.066667  promo_expire         0        0         0             1  \n",
      "4          0.200000      high_12+         1        0         0             0  \n",
      "\n",
      "[5 rows x 29 columns]\n"
     ]
    }
   ],
   "source": [
    "dummy_segment = pd.get_dummies(df_raw['segment'])\n",
    "#print dummy_segment\n",
    "df_raw2 = df_raw.loc[:,'registered_user_id':].join(dummy_segment.loc[:, 'high_12+':])\n",
    "print df_raw2.head()"
   ]
  },
  {
   "cell_type": "code",
   "execution_count": 274,
   "metadata": {},
   "outputs": [
    {
     "name": "stdout",
     "output_type": "stream",
     "text": [
      "{'score_time': array([ 1.68099999,  3.61100006,  1.77699995,  1.73100019,  3.76300001]), 'fit_time': array([  53.33699989,   85.53199983,  100.08200002,   77.64299989,\n",
      "         80.45799994]), 'train_accuracy': array([ 0.99128361,  0.99155733,  0.99136422,  0.99133989,  0.99129429]), 'test_accuracy': array([ 0.69110241,  0.69413153,  0.69010298,  0.69639848,  0.69593436])}\n"
     ]
    }
   ],
   "source": [
    "X = df_raw2[['age','previous_subscription_count','num_dev','perc_lv_dev','perc_computer_dev','perc_mobile_tablet_dev','tot_min_watched','tot_ad_min_watched','avg_min_watched_day','avg_ad_min_watched_day','tot_vid_watched','tot_unq_vid_watched','avg_vid_watched_day','avg_unq_vid_watched_day','perc_active_days']]\n",
    "y = df_raw2['promo_expire']\n",
    "\n",
    "model = RandomForestClassifier(n_estimators = 20)#, n_jobs=-1)# 1st tune the n_estimators then others, n_jobs=-1 uses all cpu cores instead of 1\n",
    "    \n",
    "model.fit(X, y)\n",
    "\n",
    "#scores = cross_val_score(model, X, y, scoring='accuracy', cv=5)\n",
    "#CV = ms.cross_validate(model, X, y, cv=5, scoring=['roc_auc','accuracy'])\n",
    "CV = ms.cross_validate(model, X, y, cv=5, scoring=['accuracy'])\n",
    "print CV"
   ]
  },
  {
   "cell_type": "code",
   "execution_count": 275,
   "metadata": {},
   "outputs": [
    {
     "name": "stdout",
     "output_type": "stream",
     "text": [
      "{'score_time': array([ 1.73699999,  2.99399996,  2.73800015,  3.0710001 ,  1.95299983]), 'fit_time': array([  93.03800011,   89.82599998,   96.39499998,  169.16999984,\n",
      "        112.85300016]), 'train_accuracy': array([ 0.99161208,  0.99173981,  0.9917535 ,  0.99199378,  0.99186909]), 'test_accuracy': array([ 0.71997032,  0.72157003,  0.71820637,  0.72224182,  0.72204718])}\n"
     ]
    }
   ],
   "source": [
    "X = df_raw2[['age','previous_subscription_count','num_dev','perc_lv_dev','perc_computer_dev','perc_mobile_tablet_dev','tot_min_watched','tot_ad_min_watched','avg_min_watched_day','avg_ad_min_watched_day','tot_vid_watched','tot_unq_vid_watched','avg_vid_watched_day','avg_unq_vid_watched_day','perc_active_days']]\n",
    "y = df_raw2['low_0-6']\n",
    "\n",
    "model = RandomForestClassifier(n_estimators = 20)#, n_jobs=-1)# 1st tune the n_estimators then others, n_jobs=-1 uses all cpu cores instead of 1\n",
    "    \n",
    "model.fit(X, y)\n",
    "\n",
    "#scores = cross_val_score(model, X, y, scoring='accuracy', cv=5)\n",
    "#CV = ms.cross_validate(model, X, y, cv=5, scoring=['roc_auc','accuracy'])\n",
    "CV = ms.cross_validate(model, X, y, cv=5, scoring=['accuracy'])\n",
    "print CV"
   ]
  },
  {
   "cell_type": "code",
   "execution_count": 276,
   "metadata": {},
   "outputs": [
    {
     "name": "stdout",
     "output_type": "stream",
     "text": [
      "{'score_time': array([ 2.35300016,  1.6730001 ,  1.58899999,  1.6789999 ,  2.76300001]), 'fit_time': array([ 103.34099984,   94.16199994,   64.91300011,   78.57500005,\n",
      "         84.69400001]), 'train_accuracy': array([ 0.99049592,  0.99070274,  0.99085632,  0.9905674 ,  0.99068905]), 'test_accuracy': array([ 0.85882947,  0.85858531,  0.8586583 ,  0.85843324,  0.85872521])}\n"
     ]
    }
   ],
   "source": [
    "X = df_raw2[['age','previous_subscription_count','num_dev','perc_lv_dev','perc_computer_dev','perc_mobile_tablet_dev','tot_min_watched','tot_ad_min_watched','avg_min_watched_day','avg_ad_min_watched_day','tot_vid_watched','tot_unq_vid_watched','avg_vid_watched_day','avg_unq_vid_watched_day','perc_active_days']]\n",
    "y = df_raw2['mid_6-12']\n",
    "\n",
    "model = RandomForestClassifier(n_estimators = 20)#, n_jobs=-1)# 1st tune the n_estimators then others, n_jobs=-1 uses all cpu cores instead of 1\n",
    "    \n",
    "model.fit(X, y)\n",
    "\n",
    "#scores = cross_val_score(model, X, y, scoring='accuracy', cv=5)\n",
    "#CV = ms.cross_validate(model, X, y, cv=5, scoring=['roc_auc','accuracy'])\n",
    "CV = ms.cross_validate(model, X, y, cv=5, scoring=['accuracy'])\n",
    "print CV"
   ]
  },
  {
   "cell_type": "code",
   "execution_count": 277,
   "metadata": {},
   "outputs": [
    {
     "name": "stdout",
     "output_type": "stream",
     "text": [
      "{'score_time': array([ 2.28399992,  4.10400009,  2.69300008,  4.24699998,  1.671     ]), 'fit_time': array([  98.5539999 ,  109.60699987,   85.29900002,   89.69400001,\n",
      "         92.60299993]), 'train_accuracy': array([ 0.99360109,  0.99375621,  0.99366345,  0.9936011 ,  0.99362999]), 'test_accuracy': array([ 0.69456339,  0.68919667,  0.69395936,  0.69080856,  0.68822953])}\n"
     ]
    }
   ],
   "source": [
    "X = df_raw2[['age','previous_subscription_count','num_dev','perc_lv_dev','perc_computer_dev','perc_mobile_tablet_dev','tot_min_watched','tot_ad_min_watched','avg_min_watched_day','avg_ad_min_watched_day','tot_vid_watched','tot_unq_vid_watched','avg_vid_watched_day','avg_unq_vid_watched_day','perc_active_days']]\n",
    "y = df_raw2['high_12+']\n",
    "\n",
    "model = RandomForestClassifier(n_estimators = 20)#, n_jobs=-1)# 1st tune the n_estimators then others, n_jobs=-1 uses all cpu cores instead of 1\n",
    "    \n",
    "model.fit(X, y)\n",
    "\n",
    "#scores = cross_val_score(model, X, y, scoring='accuracy', cv=5)\n",
    "#CV = ms.cross_validate(model, X, y, cv=5, scoring=['roc_auc','accuracy'])\n",
    "CV = ms.cross_validate(model, X, y, cv=5, scoring=['accuracy'])\n",
    "print CV"
   ]
  },
  {
   "cell_type": "code",
   "execution_count": 278,
   "metadata": {},
   "outputs": [
    {
     "name": "stdout",
     "output_type": "stream",
     "text": [
      "0.532779167315\n"
     ]
    }
   ],
   "source": [
    "from sklearn import datasets, neighbors, metrics\n",
    "#import pandas as pd\n",
    "\n",
    "X = df_raw[['age','previous_subscription_count','num_dev','perc_lv_dev','perc_computer_dev','perc_mobile_tablet_dev','tot_min_watched','tot_ad_min_watched','avg_min_watched_day','avg_ad_min_watched_day','tot_vid_watched','tot_unq_vid_watched','avg_vid_watched_day','avg_unq_vid_watched_day','perc_active_days']]\n",
    "y = df_raw['segment']\n",
    "\n",
    "knn = neighbors.KNeighborsClassifier(n_neighbors=5, weights='uniform')\n",
    "knn.fit(X, y)\n",
    "print knn.score(X, y)"
   ]
  },
  {
   "cell_type": "code",
   "execution_count": 279,
   "metadata": {},
   "outputs": [
    {
     "name": "stdout",
     "output_type": "stream",
     "text": [
      "0.996675247197\n"
     ]
    }
   ],
   "source": [
    "X = df_raw[['age','previous_subscription_count','num_dev','perc_lv_dev','perc_computer_dev','perc_mobile_tablet_dev','tot_min_watched','tot_ad_min_watched','avg_min_watched_day','avg_ad_min_watched_day','tot_vid_watched','tot_unq_vid_watched','avg_vid_watched_day','avg_unq_vid_watched_day','perc_active_days']]\n",
    "y = df_raw['segment']\n",
    "\n",
    "knn = neighbors.KNeighborsClassifier(n_neighbors=5, weights='distance')\n",
    "knn.fit(X, y)\n",
    "print knn.score(X, y)"
   ]
  },
  {
   "cell_type": "code",
   "execution_count": 280,
   "metadata": {},
   "outputs": [
    {
     "name": "stdout",
     "output_type": "stream",
     "text": [
      "{'score_time': array([ 24.1559999 ,  12.52099991,  21.90300012,  12.43700004,  12.68499994]), 'fit_time': array([ 8.16400003,  4.0309999 ,  4.56599998,  3.88100004,  4.5250001 ]), 'train_accuracy': array([ 0.99705601,  0.99714269,  0.99694349,  0.99707275,  0.99724458]), 'test_accuracy': array([ 0.31416319,  0.31838641,  0.3145563 ,  0.32007518,  0.31792801])}\n"
     ]
    }
   ],
   "source": [
    "CV = ms.cross_validate(knn, X, y, cv=5, scoring=['accuracy'])\n",
    "print CV"
   ]
  },
  {
   "cell_type": "code",
   "execution_count": 282,
   "metadata": {},
   "outputs": [
    {
     "name": "stdout",
     "output_type": "stream",
     "text": [
      "{'score_time': array([ 17.88000011,  19.45099998,  29.30999994,  25.19299984,  19.83500004]), 'fit_time': array([ 5.296     ,  3.88699985,  5.83800006,  4.75      ,  3.56799984]), 'train_accuracy': array([ 0.99739512,  0.99733429,  0.99667738,  0.99703473,  0.99732366]), 'test_accuracy': array([ 0.65831732,  0.66246563,  0.65895391,  0.66365577,  0.66316103])}\n"
     ]
    }
   ],
   "source": [
    "X = df_raw2[['age','previous_subscription_count','num_dev','perc_lv_dev','perc_computer_dev','perc_mobile_tablet_dev','tot_min_watched','tot_ad_min_watched','avg_min_watched_day','avg_ad_min_watched_day','tot_vid_watched','tot_unq_vid_watched','avg_vid_watched_day','avg_unq_vid_watched_day','perc_active_days']]\n",
    "y = df_raw2['promo_expire']\n",
    "\n",
    "knn = neighbors.KNeighborsClassifier(n_neighbors=5, weights='distance')\n",
    "knn.fit(X, y)\n",
    "\n",
    "CV = ms.cross_validate(knn, X, y, cv=5, scoring=['accuracy'])\n",
    "print CV"
   ]
  },
  {
   "cell_type": "code",
   "execution_count": 324,
   "metadata": {},
   "outputs": [
    {
     "name": "stdout",
     "output_type": "stream",
     "text": [
      "   registered_user_id gender  age  previous_subscription_count  \\\n",
      "0               62384      m   43                            1   \n",
      "1               62850      m   33                            1   \n",
      "2               64094      m   29                            2   \n",
      "3               66282      m   52                            0   \n",
      "4               71566      m   37                            0   \n",
      "\n",
      "  initial_product      channel        subchannel    partner  \\\n",
      "0            NOAH  Partnership               OEM  Microsoft   \n",
      "1            NOAH  Partnership               OEM      Apple   \n",
      "2            NOAH         Hulu             Email       Hulu   \n",
      "3            NOAH         Hulu  Non_Attributable        N_A   \n",
      "4            SASH  Partnership               OEM      Apple   \n",
      "\n",
      "                subpartner  num_dev          ...            subpartner_WiiU  \\\n",
      "0                 Xbox_One        1          ...                          0   \n",
      "1                 Apple_TV        1          ...                          0   \n",
      "2  Reacquisition_Retention        1          ...                          0   \n",
      "3                      N_A        1          ...                          0   \n",
      "4                      iOS        1          ...                          0   \n",
      "\n",
      "   subpartner_Wii_U  subpartner_Windows  subpartner_Xbox_360  \\\n",
      "0                 0                   0                    0   \n",
      "1                 0                   0                    0   \n",
      "2                 0                   0                    0   \n",
      "3                 0                   0                    0   \n",
      "4                 0                   0                    0   \n",
      "\n",
      "   subpartner_Xbox_One  subpartner_iOS  product_NOAH  product_NOAH_Showtime  \\\n",
      "0                    1               0             1                      0   \n",
      "1                    0               0             1                      0   \n",
      "2                    0               0             1                      0   \n",
      "3                    0               0             1                      0   \n",
      "4                    0               1             0                      0   \n",
      "\n",
      "   product_SASH  product_SASH_ShowTime  \n",
      "0             0                      0  \n",
      "1             0                      0  \n",
      "2             0                      0  \n",
      "3             0                      0  \n",
      "4             1                      0  \n",
      "\n",
      "[5 rows x 159 columns]\n"
     ]
    }
   ],
   "source": [
    "dummy_channel = pd.get_dummies(df_raw['channel'], prefix='channel')\n",
    "dummy_subchannel = pd.get_dummies(df_raw['subchannel'], prefix='subchannel')\n",
    "dummy_partner = pd.get_dummies(df_raw['partner'], prefix='partner')\n",
    "dummy_subpartner = pd.get_dummies(df_raw['subpartner'], prefix='subpartner')\n",
    "dummy_product = pd.get_dummies(df_raw['initial_product'], prefix='product')\n",
    "#print dummy_product.head()\n",
    "df_raw2 = df_raw2.loc[:,'registered_user_id':].join(dummy_channel.loc[:, 'channel_Hulu':]).join(dummy_subchannel.loc[:, 'subchannel_Affiliate':]).join(dummy_partner.loc[:, 'partner_AAFES':]).join(dummy_subpartner.loc[:, 'subpartner_3DS':]).join(dummy_subpartner.loc[:, 'product_NOAH':])\n",
    "print df_raw2.head()\n",
    "#df_raw2.drop(['channel_Partnership','subchannel_Virtual_Gift_Card','partner_YouTube','subpartner_iOS'], axis=1, inplace=True)\n",
    "#df_raw2.count()"
   ]
  },
  {
   "cell_type": "code",
   "execution_count": 311,
   "metadata": {},
   "outputs": [
    {
     "data": {
      "text/plain": [
       "pandas.core.frame.DataFrame"
      ]
     },
     "execution_count": 311,
     "metadata": {},
     "output_type": "execute_result"
    }
   ],
   "source": [
    "type(df_raw2.loc[:, 'channel_Hulu':])"
   ]
  },
  {
   "cell_type": "code",
   "execution_count": 312,
   "metadata": {
    "collapsed": true
   },
   "outputs": [],
   "source": [
    "X = df_raw2.loc[:, 'channel_Hulu':]\n",
    "y = df_raw['segment']\n",
    "\n",
    "model = RandomForestClassifier(n_estimators = 20)#, n_jobs=-1)# 1st tune the n_estimators then others, n_jobs=-1 uses all cpu cores instead of 1\n",
    "    \n",
    "model.fit(X, y)\n",
    "\n",
    "CV = ms.cross_validate(model, X, y, cv=5, scoring=['accuracy'])"
   ]
  },
  {
   "cell_type": "code",
   "execution_count": 313,
   "metadata": {},
   "outputs": [
    {
     "name": "stdout",
     "output_type": "stream",
     "text": [
      "{'score_time': array([ 0.6559999 ,  0.70899987,  0.7249999 ,  0.69499993,  0.70700002]), 'fit_time': array([ 17.00900006,  15.85700011,  16.20900011,  16.75200009,  16.14999986]), 'train_accuracy': array([ 0.32996863,  0.33461981,  0.32973953,  0.33418388,  0.33395426]), 'test_accuracy': array([ 0.33605426,  0.32122089,  0.33692208,  0.32299485,  0.32385859])}\n"
     ]
    }
   ],
   "source": [
    "print CV"
   ]
  },
  {
   "cell_type": "code",
   "execution_count": 315,
   "metadata": {},
   "outputs": [
    {
     "data": {
      "text/html": [
       "<div>\n",
       "<style>\n",
       "    .dataframe thead tr:only-child th {\n",
       "        text-align: right;\n",
       "    }\n",
       "\n",
       "    .dataframe thead th {\n",
       "        text-align: left;\n",
       "    }\n",
       "\n",
       "    .dataframe tbody tr th {\n",
       "        vertical-align: top;\n",
       "    }\n",
       "</style>\n",
       "<table border=\"1\" class=\"dataframe\">\n",
       "  <thead>\n",
       "    <tr style=\"text-align: right;\">\n",
       "      <th></th>\n",
       "      <th>Features</th>\n",
       "      <th>Importance Score</th>\n",
       "    </tr>\n",
       "  </thead>\n",
       "  <tbody>\n",
       "    <tr>\n",
       "      <th>75</th>\n",
       "      <td>partner_Roku</td>\n",
       "      <td>0.106702</td>\n",
       "    </tr>\n",
       "    <tr>\n",
       "      <th>116</th>\n",
       "      <td>subpartner_Reacquisition_Retention</td>\n",
       "      <td>0.098616</td>\n",
       "    </tr>\n",
       "    <tr>\n",
       "      <th>106</th>\n",
       "      <td>subpartner_N_A</td>\n",
       "      <td>0.093923</td>\n",
       "    </tr>\n",
       "    <tr>\n",
       "      <th>125</th>\n",
       "      <td>subpartner_iOS</td>\n",
       "      <td>0.062848</td>\n",
       "    </tr>\n",
       "    <tr>\n",
       "      <th>30</th>\n",
       "      <td>partner_Apple</td>\n",
       "      <td>0.051717</td>\n",
       "    </tr>\n",
       "    <tr>\n",
       "      <th>28</th>\n",
       "      <td>partner_Amazon</td>\n",
       "      <td>0.048082</td>\n",
       "    </tr>\n",
       "    <tr>\n",
       "      <th>8</th>\n",
       "      <td>subchannel_Email</td>\n",
       "      <td>0.046766</td>\n",
       "    </tr>\n",
       "    <tr>\n",
       "      <th>76</th>\n",
       "      <td>partner_Samsung</td>\n",
       "      <td>0.041184</td>\n",
       "    </tr>\n",
       "    <tr>\n",
       "      <th>3</th>\n",
       "      <td>channel_Partnership</td>\n",
       "      <td>0.030034</td>\n",
       "    </tr>\n",
       "    <tr>\n",
       "      <th>15</th>\n",
       "      <td>subchannel_OEM</td>\n",
       "      <td>0.028796</td>\n",
       "    </tr>\n",
       "    <tr>\n",
       "      <th>63</th>\n",
       "      <td>partner_N_A</td>\n",
       "      <td>0.028766</td>\n",
       "    </tr>\n",
       "    <tr>\n",
       "      <th>13</th>\n",
       "      <td>subchannel_N_A</td>\n",
       "      <td>0.027096</td>\n",
       "    </tr>\n",
       "    <tr>\n",
       "      <th>0</th>\n",
       "      <td>channel_Hulu</td>\n",
       "      <td>0.023369</td>\n",
       "    </tr>\n",
       "    <tr>\n",
       "      <th>18</th>\n",
       "      <td>subchannel_SEM</td>\n",
       "      <td>0.022506</td>\n",
       "    </tr>\n",
       "    <tr>\n",
       "      <th>52</th>\n",
       "      <td>partner_Hulu</td>\n",
       "      <td>0.021546</td>\n",
       "    </tr>\n",
       "    <tr>\n",
       "      <th>124</th>\n",
       "      <td>subpartner_Xbox_One</td>\n",
       "      <td>0.018837</td>\n",
       "    </tr>\n",
       "    <tr>\n",
       "      <th>85</th>\n",
       "      <td>partner_Tapjoy</td>\n",
       "      <td>0.017797</td>\n",
       "    </tr>\n",
       "    <tr>\n",
       "      <th>14</th>\n",
       "      <td>subchannel_Non_Attributable</td>\n",
       "      <td>0.016327</td>\n",
       "    </tr>\n",
       "    <tr>\n",
       "      <th>101</th>\n",
       "      <td>subpartner_Apple_TV</td>\n",
       "      <td>0.016120</td>\n",
       "    </tr>\n",
       "    <tr>\n",
       "      <th>100</th>\n",
       "      <td>subpartner_Amazon_Kindle</td>\n",
       "      <td>0.016032</td>\n",
       "    </tr>\n",
       "    <tr>\n",
       "      <th>92</th>\n",
       "      <td>partner_Vizio</td>\n",
       "      <td>0.015635</td>\n",
       "    </tr>\n",
       "    <tr>\n",
       "      <th>99</th>\n",
       "      <td>subpartner_Amazon_Fire_TV</td>\n",
       "      <td>0.013168</td>\n",
       "    </tr>\n",
       "    <tr>\n",
       "      <th>4</th>\n",
       "      <td>subchannel_Affiliate</td>\n",
       "      <td>0.012155</td>\n",
       "    </tr>\n",
       "    <tr>\n",
       "      <th>16</th>\n",
       "      <td>subchannel_Other</td>\n",
       "      <td>0.011676</td>\n",
       "    </tr>\n",
       "    <tr>\n",
       "      <th>57</th>\n",
       "      <td>partner_Microsoft</td>\n",
       "      <td>0.010647</td>\n",
       "    </tr>\n",
       "    <tr>\n",
       "      <th>54</th>\n",
       "      <td>partner_LG</td>\n",
       "      <td>0.010188</td>\n",
       "    </tr>\n",
       "    <tr>\n",
       "      <th>123</th>\n",
       "      <td>subpartner_Xbox_360</td>\n",
       "      <td>0.009394</td>\n",
       "    </tr>\n",
       "    <tr>\n",
       "      <th>7</th>\n",
       "      <td>subchannel_Distribution_Partner</td>\n",
       "      <td>0.008902</td>\n",
       "    </tr>\n",
       "    <tr>\n",
       "      <th>80</th>\n",
       "      <td>partner_Sony</td>\n",
       "      <td>0.008814</td>\n",
       "    </tr>\n",
       "    <tr>\n",
       "      <th>2</th>\n",
       "      <td>channel_Paid_Media</td>\n",
       "      <td>0.008109</td>\n",
       "    </tr>\n",
       "    <tr>\n",
       "      <th>...</th>\n",
       "      <td>...</td>\n",
       "      <td>...</td>\n",
       "    </tr>\n",
       "    <tr>\n",
       "      <th>27</th>\n",
       "      <td>partner_AdMob</td>\n",
       "      <td>0.000158</td>\n",
       "    </tr>\n",
       "    <tr>\n",
       "      <th>58</th>\n",
       "      <td>partner_MidRoll</td>\n",
       "      <td>0.000152</td>\n",
       "    </tr>\n",
       "    <tr>\n",
       "      <th>38</th>\n",
       "      <td>partner_Commission_Junction</td>\n",
       "      <td>0.000137</td>\n",
       "    </tr>\n",
       "    <tr>\n",
       "      <th>114</th>\n",
       "      <td>subpartner_PS_Vita</td>\n",
       "      <td>0.000136</td>\n",
       "    </tr>\n",
       "    <tr>\n",
       "      <th>47</th>\n",
       "      <td>partner_Funai</td>\n",
       "      <td>0.000125</td>\n",
       "    </tr>\n",
       "    <tr>\n",
       "      <th>70</th>\n",
       "      <td>partner_PodcastOne</td>\n",
       "      <td>0.000124</td>\n",
       "    </tr>\n",
       "    <tr>\n",
       "      <th>90</th>\n",
       "      <td>partner_Vevo</td>\n",
       "      <td>0.000121</td>\n",
       "    </tr>\n",
       "    <tr>\n",
       "      <th>97</th>\n",
       "      <td>subpartner_3DS</td>\n",
       "      <td>0.000119</td>\n",
       "    </tr>\n",
       "    <tr>\n",
       "      <th>42</th>\n",
       "      <td>partner_Dynex</td>\n",
       "      <td>0.000116</td>\n",
       "    </tr>\n",
       "    <tr>\n",
       "      <th>62</th>\n",
       "      <td>partner_NCircle</td>\n",
       "      <td>0.000107</td>\n",
       "    </tr>\n",
       "    <tr>\n",
       "      <th>81</th>\n",
       "      <td>partner_Star_Talk</td>\n",
       "      <td>0.000106</td>\n",
       "    </tr>\n",
       "    <tr>\n",
       "      <th>55</th>\n",
       "      <td>partner_Maximum_Fun_Network</td>\n",
       "      <td>0.000102</td>\n",
       "    </tr>\n",
       "    <tr>\n",
       "      <th>25</th>\n",
       "      <td>partner_AMC_Networks</td>\n",
       "      <td>0.000101</td>\n",
       "    </tr>\n",
       "    <tr>\n",
       "      <th>51</th>\n",
       "      <td>partner_HowStuffWorks</td>\n",
       "      <td>0.000097</td>\n",
       "    </tr>\n",
       "    <tr>\n",
       "      <th>118</th>\n",
       "      <td>subpartner_TESD</td>\n",
       "      <td>0.000084</td>\n",
       "    </tr>\n",
       "    <tr>\n",
       "      <th>110</th>\n",
       "      <td>subpartner_Norm_MacDonald</td>\n",
       "      <td>0.000075</td>\n",
       "    </tr>\n",
       "    <tr>\n",
       "      <th>107</th>\n",
       "      <td>subpartner_Nexus_Player</td>\n",
       "      <td>0.000075</td>\n",
       "    </tr>\n",
       "    <tr>\n",
       "      <th>45</th>\n",
       "      <td>partner_Exponential</td>\n",
       "      <td>0.000074</td>\n",
       "    </tr>\n",
       "    <tr>\n",
       "      <th>34</th>\n",
       "      <td>partner_Bonnier</td>\n",
       "      <td>0.000070</td>\n",
       "    </tr>\n",
       "    <tr>\n",
       "      <th>88</th>\n",
       "      <td>partner_Trialpay</td>\n",
       "      <td>0.000067</td>\n",
       "    </tr>\n",
       "    <tr>\n",
       "      <th>84</th>\n",
       "      <td>partner_TV_Guide</td>\n",
       "      <td>0.000067</td>\n",
       "    </tr>\n",
       "    <tr>\n",
       "      <th>104</th>\n",
       "      <td>subpartner_EWolf</td>\n",
       "      <td>0.000062</td>\n",
       "    </tr>\n",
       "    <tr>\n",
       "      <th>43</th>\n",
       "      <td>partner_Earwolf</td>\n",
       "      <td>0.000050</td>\n",
       "    </tr>\n",
       "    <tr>\n",
       "      <th>37</th>\n",
       "      <td>partner_Carolla_Digital</td>\n",
       "      <td>0.000047</td>\n",
       "    </tr>\n",
       "    <tr>\n",
       "      <th>91</th>\n",
       "      <td>partner_Video_Podcast_Network</td>\n",
       "      <td>0.000044</td>\n",
       "    </tr>\n",
       "    <tr>\n",
       "      <th>98</th>\n",
       "      <td>subpartner_Alison_Rosen</td>\n",
       "      <td>0.000037</td>\n",
       "    </tr>\n",
       "    <tr>\n",
       "      <th>105</th>\n",
       "      <td>subpartner_Grande</td>\n",
       "      <td>0.000030</td>\n",
       "    </tr>\n",
       "    <tr>\n",
       "      <th>61</th>\n",
       "      <td>partner_NCTC</td>\n",
       "      <td>0.000025</td>\n",
       "    </tr>\n",
       "    <tr>\n",
       "      <th>33</th>\n",
       "      <td>partner_Best_Buy</td>\n",
       "      <td>0.000025</td>\n",
       "    </tr>\n",
       "    <tr>\n",
       "      <th>79</th>\n",
       "      <td>partner_Smodcast</td>\n",
       "      <td>0.000025</td>\n",
       "    </tr>\n",
       "  </tbody>\n",
       "</table>\n",
       "<p>126 rows × 2 columns</p>\n",
       "</div>"
      ],
      "text/plain": [
       "                               Features  Importance Score\n",
       "75                         partner_Roku          0.106702\n",
       "116  subpartner_Reacquisition_Retention          0.098616\n",
       "106                      subpartner_N_A          0.093923\n",
       "125                      subpartner_iOS          0.062848\n",
       "30                        partner_Apple          0.051717\n",
       "28                       partner_Amazon          0.048082\n",
       "8                      subchannel_Email          0.046766\n",
       "76                      partner_Samsung          0.041184\n",
       "3                   channel_Partnership          0.030034\n",
       "15                       subchannel_OEM          0.028796\n",
       "63                          partner_N_A          0.028766\n",
       "13                       subchannel_N_A          0.027096\n",
       "0                          channel_Hulu          0.023369\n",
       "18                       subchannel_SEM          0.022506\n",
       "52                         partner_Hulu          0.021546\n",
       "124                 subpartner_Xbox_One          0.018837\n",
       "85                       partner_Tapjoy          0.017797\n",
       "14          subchannel_Non_Attributable          0.016327\n",
       "101                 subpartner_Apple_TV          0.016120\n",
       "100            subpartner_Amazon_Kindle          0.016032\n",
       "92                        partner_Vizio          0.015635\n",
       "99            subpartner_Amazon_Fire_TV          0.013168\n",
       "4                  subchannel_Affiliate          0.012155\n",
       "16                     subchannel_Other          0.011676\n",
       "57                    partner_Microsoft          0.010647\n",
       "54                           partner_LG          0.010188\n",
       "123                 subpartner_Xbox_360          0.009394\n",
       "7       subchannel_Distribution_Partner          0.008902\n",
       "80                         partner_Sony          0.008814\n",
       "2                    channel_Paid_Media          0.008109\n",
       "..                                  ...               ...\n",
       "27                        partner_AdMob          0.000158\n",
       "58                      partner_MidRoll          0.000152\n",
       "38          partner_Commission_Junction          0.000137\n",
       "114                  subpartner_PS_Vita          0.000136\n",
       "47                        partner_Funai          0.000125\n",
       "70                   partner_PodcastOne          0.000124\n",
       "90                         partner_Vevo          0.000121\n",
       "97                       subpartner_3DS          0.000119\n",
       "42                        partner_Dynex          0.000116\n",
       "62                      partner_NCircle          0.000107\n",
       "81                    partner_Star_Talk          0.000106\n",
       "55          partner_Maximum_Fun_Network          0.000102\n",
       "25                 partner_AMC_Networks          0.000101\n",
       "51                partner_HowStuffWorks          0.000097\n",
       "118                     subpartner_TESD          0.000084\n",
       "110           subpartner_Norm_MacDonald          0.000075\n",
       "107             subpartner_Nexus_Player          0.000075\n",
       "45                  partner_Exponential          0.000074\n",
       "34                      partner_Bonnier          0.000070\n",
       "88                     partner_Trialpay          0.000067\n",
       "84                     partner_TV_Guide          0.000067\n",
       "104                    subpartner_EWolf          0.000062\n",
       "43                      partner_Earwolf          0.000050\n",
       "37              partner_Carolla_Digital          0.000047\n",
       "91        partner_Video_Podcast_Network          0.000044\n",
       "98              subpartner_Alison_Rosen          0.000037\n",
       "105                   subpartner_Grande          0.000030\n",
       "61                         partner_NCTC          0.000025\n",
       "33                     partner_Best_Buy          0.000025\n",
       "79                     partner_Smodcast          0.000025\n",
       "\n",
       "[126 rows x 2 columns]"
      ]
     },
     "execution_count": 315,
     "metadata": {},
     "output_type": "execute_result"
    }
   ],
   "source": [
    "features = X.columns\n",
    "feature_importances = model.feature_importances_\n",
    "\n",
    "features_df = pd.DataFrame({'Features': features, 'Importance Score': feature_importances})\n",
    "features_df.sort_values('Importance Score', inplace=True, ascending=False)\n",
    "\n",
    "features_df"
   ]
  },
  {
   "cell_type": "code",
   "execution_count": 318,
   "metadata": {},
   "outputs": [
    {
     "name": "stdout",
     "output_type": "stream",
     "text": [
      "{'score_time': array([ 4.37000012,  3.37200022,  3.89599991,  3.76999998,  2.79299998]), 'fit_time': array([ 111.55800009,   90.33999991,  118.48800015,  128.58200002,\n",
      "         93.10500002]), 'train_accuracy': array([ 0.99632001,  0.9965101 ,  0.99648121,  0.99642191,  0.99645993]), 'test_accuracy': array([ 0.36411301,  0.36291088,  0.36516974,  0.36404667,  0.36240435])}\n"
     ]
    }
   ],
   "source": [
    "X = df_raw2[['age','previous_subscription_count','num_dev','perc_lv_dev','perc_computer_dev','perc_mobile_tablet_dev','tot_min_watched','tot_ad_min_watched','avg_min_watched_day','avg_ad_min_watched_day','tot_vid_watched','tot_unq_vid_watched','avg_vid_watched_day','avg_unq_vid_watched_day','perc_active_days','partner_Roku','subpartner_Reacquisition_Retention','subpartner_N_A','subpartner_iOS','partner_Apple','partner_Amazon','subchannel_Email','partner_Samsung','channel_Partnership','subchannel_OEM','partner_N_A','subchannel_N_A','channel_Hulu','subpartner_Xbox_One','partner_Tapjoy','subchannel_Non_Attributable','subpartner_Apple_TV','subpartner_Amazon_Kindle','partner_Vizio','subpartner_Amazon_Fire_TV','subchannel_Affiliate']]\n",
    "y = df_raw2['segment']\n",
    "\n",
    "model = RandomForestClassifier(n_estimators = 20)#, n_jobs=-1)# 1st tune the n_estimators then others, n_jobs=-1 uses all cpu cores instead of 1\n",
    "    \n",
    "model.fit(X, y)\n",
    "\n",
    "CV = ms.cross_validate(model, X, y, cv=5, scoring=['accuracy'])\n",
    "print CV"
   ]
  },
  {
   "cell_type": "code",
   "execution_count": 320,
   "metadata": {},
   "outputs": [
    {
     "name": "stdout",
     "output_type": "stream",
     "text": [
      "{'score_time': array([  8.62899995,  15.74100018,  17.62299991,   9.19200015,  15.48000002]), 'fit_time': array([ 497.21899986,  444.96499991,  418.73300004,  455.0769999 ,\n",
      "        432.01199985]), 'train_accuracy': array([ 0.99800642,  0.99814784,  0.99807942,  0.99810831,  0.99815241]), 'test_accuracy': array([ 0.70195372,  0.70573709,  0.70262708,  0.70704306,  0.706506  ])}\n"
     ]
    }
   ],
   "source": [
    "X = df_raw2[['age','previous_subscription_count','num_dev','perc_lv_dev','perc_computer_dev','perc_mobile_tablet_dev','tot_min_watched','tot_ad_min_watched','avg_min_watched_day','avg_ad_min_watched_day','tot_vid_watched','tot_unq_vid_watched','avg_vid_watched_day','avg_unq_vid_watched_day','perc_active_days','partner_Roku','subpartner_Reacquisition_Retention','subpartner_N_A','subpartner_iOS','partner_Apple','partner_Amazon','subchannel_Email','partner_Samsung','channel_Partnership','subchannel_OEM','partner_N_A','subchannel_N_A','channel_Hulu','subpartner_Xbox_One','partner_Tapjoy','subchannel_Non_Attributable','subpartner_Apple_TV','subpartner_Amazon_Kindle','partner_Vizio','subpartner_Amazon_Fire_TV','subchannel_Affiliate']]\n",
    "y = df_raw2['promo_expire']\n",
    "\n",
    "model = RandomForestClassifier(n_estimators = 100)#, n_jobs=-1)# 1st tune the n_estimators then others, n_jobs=-1 uses all cpu cores instead of 1\n",
    "    \n",
    "model.fit(X, y)\n",
    "\n",
    "CV = ms.cross_validate(model, X, y, cv=5, scoring=['accuracy'])\n",
    "print CV"
   ]
  },
  {
   "cell_type": "code",
   "execution_count": 325,
   "metadata": {},
   "outputs": [
    {
     "name": "stdout",
     "output_type": "stream",
     "text": [
      "{'score_time': array([  8.91600013,   9.55999994,  16.54100013,  11.22900009,  13.11299992]), 'fit_time': array([ 455.65799999,  439.10500002,  392.46199989,  445.36599994,  401.671     ]), 'train_accuracy': array([ 0.99817978,  0.99831816,  0.99822996,  0.99831512,  0.99833945]), 'test_accuracy': array([ 0.70253157,  0.70616287,  0.70302853,  0.70726203,  0.70748531])}\n"
     ]
    }
   ],
   "source": [
    "X = df_raw2[['age','previous_subscription_count','num_dev','perc_lv_dev','perc_computer_dev','perc_mobile_tablet_dev','tot_min_watched','tot_ad_min_watched','avg_min_watched_day','avg_ad_min_watched_day','tot_vid_watched','tot_unq_vid_watched','avg_vid_watched_day','avg_unq_vid_watched_day','perc_active_days','partner_Roku','subpartner_Reacquisition_Retention','subpartner_N_A','subpartner_iOS','partner_Apple','partner_Amazon','subchannel_Email','partner_Samsung','channel_Partnership','subchannel_OEM','partner_N_A','subchannel_N_A','channel_Hulu','subpartner_Xbox_One','partner_Tapjoy','subchannel_Non_Attributable','subpartner_Apple_TV','subpartner_Amazon_Kindle','partner_Vizio','subpartner_Amazon_Fire_TV','subchannel_Affiliate','product_NOAH','product_NOAH_Showtime','product_SASH','product_SASH_ShowTime']]\n",
    "y = df_raw2['promo_expire']\n",
    "\n",
    "model = RandomForestClassifier(n_estimators = 100)#, n_jobs=-1)# 1st tune the n_estimators then others, n_jobs=-1 uses all cpu cores instead of 1\n",
    "    \n",
    "model.fit(X, y)\n",
    "\n",
    "CV = ms.cross_validate(model, X, y, cv=5, scoring=['accuracy'])\n",
    "print CV"
   ]
  },
  {
   "cell_type": "code",
   "execution_count": 327,
   "metadata": {},
   "outputs": [
    {
     "data": {
      "text/html": [
       "<div>\n",
       "<style>\n",
       "    .dataframe thead tr:only-child th {\n",
       "        text-align: right;\n",
       "    }\n",
       "\n",
       "    .dataframe thead th {\n",
       "        text-align: left;\n",
       "    }\n",
       "\n",
       "    .dataframe tbody tr th {\n",
       "        vertical-align: top;\n",
       "    }\n",
       "</style>\n",
       "<table border=\"1\" class=\"dataframe\">\n",
       "  <thead>\n",
       "    <tr style=\"text-align: right;\">\n",
       "      <th></th>\n",
       "      <th>Features</th>\n",
       "      <th>Importance Score</th>\n",
       "    </tr>\n",
       "  </thead>\n",
       "  <tbody>\n",
       "    <tr>\n",
       "      <th>6</th>\n",
       "      <td>tot_min_watched</td>\n",
       "      <td>0.124141</td>\n",
       "    </tr>\n",
       "    <tr>\n",
       "      <th>8</th>\n",
       "      <td>avg_min_watched_day</td>\n",
       "      <td>0.120377</td>\n",
       "    </tr>\n",
       "    <tr>\n",
       "      <th>0</th>\n",
       "      <td>age</td>\n",
       "      <td>0.096058</td>\n",
       "    </tr>\n",
       "    <tr>\n",
       "      <th>12</th>\n",
       "      <td>avg_vid_watched_day</td>\n",
       "      <td>0.074970</td>\n",
       "    </tr>\n",
       "    <tr>\n",
       "      <th>7</th>\n",
       "      <td>tot_ad_min_watched</td>\n",
       "      <td>0.072537</td>\n",
       "    </tr>\n",
       "    <tr>\n",
       "      <th>9</th>\n",
       "      <td>avg_ad_min_watched_day</td>\n",
       "      <td>0.071627</td>\n",
       "    </tr>\n",
       "    <tr>\n",
       "      <th>10</th>\n",
       "      <td>tot_vid_watched</td>\n",
       "      <td>0.071501</td>\n",
       "    </tr>\n",
       "    <tr>\n",
       "      <th>13</th>\n",
       "      <td>avg_unq_vid_watched_day</td>\n",
       "      <td>0.070909</td>\n",
       "    </tr>\n",
       "    <tr>\n",
       "      <th>11</th>\n",
       "      <td>tot_unq_vid_watched</td>\n",
       "      <td>0.069366</td>\n",
       "    </tr>\n",
       "    <tr>\n",
       "      <th>14</th>\n",
       "      <td>perc_active_days</td>\n",
       "      <td>0.040002</td>\n",
       "    </tr>\n",
       "    <tr>\n",
       "      <th>3</th>\n",
       "      <td>perc_lv_dev</td>\n",
       "      <td>0.035328</td>\n",
       "    </tr>\n",
       "    <tr>\n",
       "      <th>5</th>\n",
       "      <td>perc_mobile_tablet_dev</td>\n",
       "      <td>0.029090</td>\n",
       "    </tr>\n",
       "    <tr>\n",
       "      <th>4</th>\n",
       "      <td>perc_computer_dev</td>\n",
       "      <td>0.023878</td>\n",
       "    </tr>\n",
       "    <tr>\n",
       "      <th>2</th>\n",
       "      <td>num_dev</td>\n",
       "      <td>0.017869</td>\n",
       "    </tr>\n",
       "    <tr>\n",
       "      <th>1</th>\n",
       "      <td>previous_subscription_count</td>\n",
       "      <td>0.010753</td>\n",
       "    </tr>\n",
       "    <tr>\n",
       "      <th>25</th>\n",
       "      <td>partner_N_A</td>\n",
       "      <td>0.008167</td>\n",
       "    </tr>\n",
       "    <tr>\n",
       "      <th>30</th>\n",
       "      <td>subchannel_Non_Attributable</td>\n",
       "      <td>0.007688</td>\n",
       "    </tr>\n",
       "    <tr>\n",
       "      <th>27</th>\n",
       "      <td>channel_Hulu</td>\n",
       "      <td>0.007555</td>\n",
       "    </tr>\n",
       "    <tr>\n",
       "      <th>38</th>\n",
       "      <td>product_SASH</td>\n",
       "      <td>0.005264</td>\n",
       "    </tr>\n",
       "    <tr>\n",
       "      <th>36</th>\n",
       "      <td>product_NOAH</td>\n",
       "      <td>0.005262</td>\n",
       "    </tr>\n",
       "    <tr>\n",
       "      <th>26</th>\n",
       "      <td>subchannel_N_A</td>\n",
       "      <td>0.005014</td>\n",
       "    </tr>\n",
       "    <tr>\n",
       "      <th>15</th>\n",
       "      <td>partner_Roku</td>\n",
       "      <td>0.004169</td>\n",
       "    </tr>\n",
       "    <tr>\n",
       "      <th>17</th>\n",
       "      <td>subpartner_N_A</td>\n",
       "      <td>0.003954</td>\n",
       "    </tr>\n",
       "    <tr>\n",
       "      <th>23</th>\n",
       "      <td>channel_Partnership</td>\n",
       "      <td>0.003317</td>\n",
       "    </tr>\n",
       "    <tr>\n",
       "      <th>24</th>\n",
       "      <td>subchannel_OEM</td>\n",
       "      <td>0.003001</td>\n",
       "    </tr>\n",
       "    <tr>\n",
       "      <th>28</th>\n",
       "      <td>subpartner_Xbox_One</td>\n",
       "      <td>0.002598</td>\n",
       "    </tr>\n",
       "    <tr>\n",
       "      <th>16</th>\n",
       "      <td>subpartner_Reacquisition_Retention</td>\n",
       "      <td>0.002408</td>\n",
       "    </tr>\n",
       "    <tr>\n",
       "      <th>21</th>\n",
       "      <td>subchannel_Email</td>\n",
       "      <td>0.002313</td>\n",
       "    </tr>\n",
       "    <tr>\n",
       "      <th>19</th>\n",
       "      <td>partner_Apple</td>\n",
       "      <td>0.001979</td>\n",
       "    </tr>\n",
       "    <tr>\n",
       "      <th>18</th>\n",
       "      <td>subpartner_iOS</td>\n",
       "      <td>0.001895</td>\n",
       "    </tr>\n",
       "    <tr>\n",
       "      <th>22</th>\n",
       "      <td>partner_Samsung</td>\n",
       "      <td>0.001739</td>\n",
       "    </tr>\n",
       "    <tr>\n",
       "      <th>31</th>\n",
       "      <td>subpartner_Apple_TV</td>\n",
       "      <td>0.001020</td>\n",
       "    </tr>\n",
       "    <tr>\n",
       "      <th>35</th>\n",
       "      <td>subchannel_Affiliate</td>\n",
       "      <td>0.000981</td>\n",
       "    </tr>\n",
       "    <tr>\n",
       "      <th>33</th>\n",
       "      <td>partner_Vizio</td>\n",
       "      <td>0.000922</td>\n",
       "    </tr>\n",
       "    <tr>\n",
       "      <th>29</th>\n",
       "      <td>partner_Tapjoy</td>\n",
       "      <td>0.000828</td>\n",
       "    </tr>\n",
       "    <tr>\n",
       "      <th>20</th>\n",
       "      <td>partner_Amazon</td>\n",
       "      <td>0.000794</td>\n",
       "    </tr>\n",
       "    <tr>\n",
       "      <th>34</th>\n",
       "      <td>subpartner_Amazon_Fire_TV</td>\n",
       "      <td>0.000364</td>\n",
       "    </tr>\n",
       "    <tr>\n",
       "      <th>32</th>\n",
       "      <td>subpartner_Amazon_Kindle</td>\n",
       "      <td>0.000300</td>\n",
       "    </tr>\n",
       "    <tr>\n",
       "      <th>37</th>\n",
       "      <td>product_NOAH_Showtime</td>\n",
       "      <td>0.000034</td>\n",
       "    </tr>\n",
       "    <tr>\n",
       "      <th>39</th>\n",
       "      <td>product_SASH_ShowTime</td>\n",
       "      <td>0.000025</td>\n",
       "    </tr>\n",
       "  </tbody>\n",
       "</table>\n",
       "</div>"
      ],
      "text/plain": [
       "                              Features  Importance Score\n",
       "6                      tot_min_watched          0.124141\n",
       "8                  avg_min_watched_day          0.120377\n",
       "0                                  age          0.096058\n",
       "12                 avg_vid_watched_day          0.074970\n",
       "7                   tot_ad_min_watched          0.072537\n",
       "9               avg_ad_min_watched_day          0.071627\n",
       "10                     tot_vid_watched          0.071501\n",
       "13             avg_unq_vid_watched_day          0.070909\n",
       "11                 tot_unq_vid_watched          0.069366\n",
       "14                    perc_active_days          0.040002\n",
       "3                          perc_lv_dev          0.035328\n",
       "5               perc_mobile_tablet_dev          0.029090\n",
       "4                    perc_computer_dev          0.023878\n",
       "2                              num_dev          0.017869\n",
       "1          previous_subscription_count          0.010753\n",
       "25                         partner_N_A          0.008167\n",
       "30         subchannel_Non_Attributable          0.007688\n",
       "27                        channel_Hulu          0.007555\n",
       "38                        product_SASH          0.005264\n",
       "36                        product_NOAH          0.005262\n",
       "26                      subchannel_N_A          0.005014\n",
       "15                        partner_Roku          0.004169\n",
       "17                      subpartner_N_A          0.003954\n",
       "23                 channel_Partnership          0.003317\n",
       "24                      subchannel_OEM          0.003001\n",
       "28                 subpartner_Xbox_One          0.002598\n",
       "16  subpartner_Reacquisition_Retention          0.002408\n",
       "21                    subchannel_Email          0.002313\n",
       "19                       partner_Apple          0.001979\n",
       "18                      subpartner_iOS          0.001895\n",
       "22                     partner_Samsung          0.001739\n",
       "31                 subpartner_Apple_TV          0.001020\n",
       "35                subchannel_Affiliate          0.000981\n",
       "33                       partner_Vizio          0.000922\n",
       "29                      partner_Tapjoy          0.000828\n",
       "20                      partner_Amazon          0.000794\n",
       "34           subpartner_Amazon_Fire_TV          0.000364\n",
       "32            subpartner_Amazon_Kindle          0.000300\n",
       "37               product_NOAH_Showtime          0.000034\n",
       "39               product_SASH_ShowTime          0.000025"
      ]
     },
     "execution_count": 327,
     "metadata": {},
     "output_type": "execute_result"
    }
   ],
   "source": [
    "features = X.columns\n",
    "feature_importances = model.feature_importances_\n",
    "\n",
    "features_df = pd.DataFrame({'Features': features, 'Importance Score': feature_importances})\n",
    "features_df.sort_values('Importance Score', inplace=True, ascending=False)\n",
    "\n",
    "features_df"
   ]
  }
 ],
 "metadata": {
  "kernelspec": {
   "display_name": "Python 2",
   "language": "python",
   "name": "python2"
  },
  "language_info": {
   "codemirror_mode": {
    "name": "ipython",
    "version": 2
   },
   "file_extension": ".py",
   "mimetype": "text/x-python",
   "name": "python",
   "nbconvert_exporter": "python",
   "pygments_lexer": "ipython2",
   "version": "2.7.13"
  }
 },
 "nbformat": 4,
 "nbformat_minor": 2
}
