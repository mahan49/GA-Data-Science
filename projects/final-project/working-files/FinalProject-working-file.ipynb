{
 "cells": [
  {
   "cell_type": "markdown",
   "metadata": {},
   "source": [
    "## Load the python libraries"
   ]
  },
  {
   "cell_type": "code",
   "execution_count": 219,
   "metadata": {
    "collapsed": true
   },
   "outputs": [],
   "source": [
    "import pandas as pd\n",
    "import numpy as np\n",
    "import matplotlib.pyplot as plt\n",
    "import seaborn as sns\n",
    "sns.set_style(\"darkgrid\")"
   ]
  },
  {
   "cell_type": "code",
   "execution_count": 169,
   "metadata": {},
   "outputs": [
    {
     "name": "stdout",
     "output_type": "stream",
     "text": [
      "   registered_user_id gender  age  previous_subscription_count  \\\n",
      "0               62384      m   43                            1   \n",
      "1               62850      m   33                            1   \n",
      "2               64094      m   29                            2   \n",
      "3               66282      m   52                            0   \n",
      "4               71566      m   37                            0   \n",
      "\n",
      "  initial_product      channel        subchannel    partner  \\\n",
      "0            NOAH  Partnership               OEM  Microsoft   \n",
      "1            NOAH  Partnership               OEM      Apple   \n",
      "2            NOAH         Hulu             Email       Hulu   \n",
      "3            NOAH         Hulu  Non-Attributable        NaN   \n",
      "4            SASH  Partnership               OEM      Apple   \n",
      "\n",
      "                  subpartner  num_dev      ...       avg_min_watched_day  \\\n",
      "0                   Xbox One        1      ...                 87.277730   \n",
      "1                   Apple TV        1      ...                118.213255   \n",
      "2  Reacquisition / Retention        1      ...                 56.704039   \n",
      "3                        NaN        1      ...                 58.791383   \n",
      "4                        iOS        1      ...                  9.634461   \n",
      "\n",
      "   avg_ad_min_watched_day  tot_vid_watched  tot_unq_vid_watched  \\\n",
      "0                0.000000               12                   10   \n",
      "1                0.000000               41                   37   \n",
      "2                0.000000               71                   43   \n",
      "3                0.000000                1                    1   \n",
      "4                1.256478                5                    5   \n",
      "\n",
      "   avg_vid_watched_day  avg_unq_vid_watched_day  avg_playback_viewthru_perc  \\\n",
      "0             2.400000                 2.000000                   82.908544   \n",
      "1             5.857143                 5.285714                   92.596425   \n",
      "2             6.454545                 3.909091                   55.141836   \n",
      "3             1.000000                 1.000000                   98.606752   \n",
      "4             1.666667                 1.666667                   35.311173   \n",
      "\n",
      "   avg_ad_viewthru_perc  perc_active_days       segment  \n",
      "0              0.000000          0.333333      mid_6-12  \n",
      "1              0.000000          0.466667      high_12+  \n",
      "2              0.000000          0.733333  promo_expire  \n",
      "3              0.000000          0.066667  promo_expire  \n",
      "4            258.823953          0.200000      high_12+  \n",
      "\n",
      "[5 rows x 25 columns]\n"
     ]
    }
   ],
   "source": [
    "df_raw = pd.read_csv(\"C:/Users/mahan.hadjizadeh/Documents/Projects/LTV Model/LTV_Model_Raw.csv\")\n",
    "print df_raw.head()"
   ]
  },
  {
   "cell_type": "code",
   "execution_count": 170,
   "metadata": {},
   "outputs": [
    {
     "data": {
      "text/html": [
       "<div>\n",
       "<style>\n",
       "    .dataframe thead tr:only-child th {\n",
       "        text-align: right;\n",
       "    }\n",
       "\n",
       "    .dataframe thead th {\n",
       "        text-align: left;\n",
       "    }\n",
       "\n",
       "    .dataframe tbody tr th {\n",
       "        vertical-align: top;\n",
       "    }\n",
       "</style>\n",
       "<table border=\"1\" class=\"dataframe\">\n",
       "  <thead>\n",
       "    <tr style=\"text-align: right;\">\n",
       "      <th></th>\n",
       "      <th>registered_user_id</th>\n",
       "      <th>age</th>\n",
       "      <th>previous_subscription_count</th>\n",
       "      <th>num_dev</th>\n",
       "      <th>perc_lv_dev</th>\n",
       "      <th>perc_computer_dev</th>\n",
       "      <th>perc_mobile_tablet_dev</th>\n",
       "      <th>tot_min_watched</th>\n",
       "      <th>tot_ad_min_watched</th>\n",
       "      <th>avg_min_watched_day</th>\n",
       "      <th>avg_ad_min_watched_day</th>\n",
       "      <th>tot_vid_watched</th>\n",
       "      <th>tot_unq_vid_watched</th>\n",
       "      <th>avg_vid_watched_day</th>\n",
       "      <th>avg_unq_vid_watched_day</th>\n",
       "      <th>avg_playback_viewthru_perc</th>\n",
       "      <th>avg_ad_viewthru_perc</th>\n",
       "      <th>perc_active_days</th>\n",
       "    </tr>\n",
       "  </thead>\n",
       "  <tbody>\n",
       "    <tr>\n",
       "      <th>count</th>\n",
       "      <td>9.159050e+05</td>\n",
       "      <td>915905.000000</td>\n",
       "      <td>915905.000000</td>\n",
       "      <td>915905.000000</td>\n",
       "      <td>915905.000000</td>\n",
       "      <td>915905.000000</td>\n",
       "      <td>915905.000000</td>\n",
       "      <td>915905.000000</td>\n",
       "      <td>915905.000000</td>\n",
       "      <td>915905.000000</td>\n",
       "      <td>915905.000000</td>\n",
       "      <td>915905.000000</td>\n",
       "      <td>915905.000000</td>\n",
       "      <td>915905.000000</td>\n",
       "      <td>915905.000000</td>\n",
       "      <td>915448.000000</td>\n",
       "      <td>915448.000000</td>\n",
       "      <td>915905.000000</td>\n",
       "    </tr>\n",
       "    <tr>\n",
       "      <th>mean</th>\n",
       "      <td>7.666872e+07</td>\n",
       "      <td>34.230064</td>\n",
       "      <td>0.153885</td>\n",
       "      <td>1.673701</td>\n",
       "      <td>0.563132</td>\n",
       "      <td>0.169158</td>\n",
       "      <td>0.250199</td>\n",
       "      <td>1633.740572</td>\n",
       "      <td>68.235266</td>\n",
       "      <td>164.521604</td>\n",
       "      <td>7.004106</td>\n",
       "      <td>68.732148</td>\n",
       "      <td>44.773229</td>\n",
       "      <td>6.968833</td>\n",
       "      <td>4.642326</td>\n",
       "      <td>63.495445</td>\n",
       "      <td>253.818017</td>\n",
       "      <td>0.512466</td>\n",
       "    </tr>\n",
       "    <tr>\n",
       "      <th>std</th>\n",
       "      <td>1.701553e+07</td>\n",
       "      <td>12.917872</td>\n",
       "      <td>0.554805</td>\n",
       "      <td>0.959542</td>\n",
       "      <td>0.460226</td>\n",
       "      <td>0.349131</td>\n",
       "      <td>0.394522</td>\n",
       "      <td>2142.490511</td>\n",
       "      <td>140.493718</td>\n",
       "      <td>151.341454</td>\n",
       "      <td>11.335139</td>\n",
       "      <td>90.511075</td>\n",
       "      <td>60.530914</td>\n",
       "      <td>6.271134</td>\n",
       "      <td>4.441896</td>\n",
       "      <td>142.791706</td>\n",
       "      <td>360.883373</td>\n",
       "      <td>0.313499</td>\n",
       "    </tr>\n",
       "    <tr>\n",
       "      <th>min</th>\n",
       "      <td>6.238400e+04</td>\n",
       "      <td>0.000000</td>\n",
       "      <td>0.000000</td>\n",
       "      <td>1.000000</td>\n",
       "      <td>0.000000</td>\n",
       "      <td>0.000000</td>\n",
       "      <td>0.000000</td>\n",
       "      <td>0.000000</td>\n",
       "      <td>0.000000</td>\n",
       "      <td>0.000000</td>\n",
       "      <td>0.000000</td>\n",
       "      <td>0.000000</td>\n",
       "      <td>0.000000</td>\n",
       "      <td>0.000000</td>\n",
       "      <td>0.000000</td>\n",
       "      <td>0.000000</td>\n",
       "      <td>0.000000</td>\n",
       "      <td>0.066667</td>\n",
       "    </tr>\n",
       "    <tr>\n",
       "      <th>25%</th>\n",
       "      <td>8.270912e+07</td>\n",
       "      <td>25.000000</td>\n",
       "      <td>0.000000</td>\n",
       "      <td>1.000000</td>\n",
       "      <td>0.000000</td>\n",
       "      <td>0.000000</td>\n",
       "      <td>0.000000</td>\n",
       "      <td>245.084900</td>\n",
       "      <td>0.000000</td>\n",
       "      <td>63.199190</td>\n",
       "      <td>0.000000</td>\n",
       "      <td>11.000000</td>\n",
       "      <td>7.000000</td>\n",
       "      <td>3.000000</td>\n",
       "      <td>1.857143</td>\n",
       "      <td>49.989056</td>\n",
       "      <td>0.000000</td>\n",
       "      <td>0.200000</td>\n",
       "    </tr>\n",
       "    <tr>\n",
       "      <th>50%</th>\n",
       "      <td>8.308524e+07</td>\n",
       "      <td>31.000000</td>\n",
       "      <td>0.000000</td>\n",
       "      <td>1.000000</td>\n",
       "      <td>0.833053</td>\n",
       "      <td>0.000000</td>\n",
       "      <td>0.000000</td>\n",
       "      <td>855.485750</td>\n",
       "      <td>6.042000</td>\n",
       "      <td>123.247994</td>\n",
       "      <td>1.286733</td>\n",
       "      <td>36.000000</td>\n",
       "      <td>22.000000</td>\n",
       "      <td>5.142857</td>\n",
       "      <td>3.285714</td>\n",
       "      <td>66.377580</td>\n",
       "      <td>62.112116</td>\n",
       "      <td>0.466667</td>\n",
       "    </tr>\n",
       "    <tr>\n",
       "      <th>75%</th>\n",
       "      <td>8.347351e+07</td>\n",
       "      <td>41.000000</td>\n",
       "      <td>0.000000</td>\n",
       "      <td>2.000000</td>\n",
       "      <td>1.000000</td>\n",
       "      <td>0.021639</td>\n",
       "      <td>0.426523</td>\n",
       "      <td>2168.537800</td>\n",
       "      <td>72.595333</td>\n",
       "      <td>218.864583</td>\n",
       "      <td>10.155185</td>\n",
       "      <td>91.000000</td>\n",
       "      <td>58.000000</td>\n",
       "      <td>9.000000</td>\n",
       "      <td>6.000000</td>\n",
       "      <td>78.768650</td>\n",
       "      <td>438.463789</td>\n",
       "      <td>0.800000</td>\n",
       "    </tr>\n",
       "    <tr>\n",
       "      <th>max</th>\n",
       "      <td>8.388653e+07</td>\n",
       "      <td>147.000000</td>\n",
       "      <td>37.000000</td>\n",
       "      <td>13.000000</td>\n",
       "      <td>1.000000</td>\n",
       "      <td>1.000000</td>\n",
       "      <td>1.000000</td>\n",
       "      <td>44240.249670</td>\n",
       "      <td>2716.205767</td>\n",
       "      <td>2949.349978</td>\n",
       "      <td>351.446283</td>\n",
       "      <td>1694.000000</td>\n",
       "      <td>1206.000000</td>\n",
       "      <td>363.000000</td>\n",
       "      <td>363.000000</td>\n",
       "      <td>69625.737000</td>\n",
       "      <td>41613.784510</td>\n",
       "      <td>1.000000</td>\n",
       "    </tr>\n",
       "  </tbody>\n",
       "</table>\n",
       "</div>"
      ],
      "text/plain": [
       "       registered_user_id            age  previous_subscription_count  \\\n",
       "count        9.159050e+05  915905.000000                915905.000000   \n",
       "mean         7.666872e+07      34.230064                     0.153885   \n",
       "std          1.701553e+07      12.917872                     0.554805   \n",
       "min          6.238400e+04       0.000000                     0.000000   \n",
       "25%          8.270912e+07      25.000000                     0.000000   \n",
       "50%          8.308524e+07      31.000000                     0.000000   \n",
       "75%          8.347351e+07      41.000000                     0.000000   \n",
       "max          8.388653e+07     147.000000                    37.000000   \n",
       "\n",
       "             num_dev    perc_lv_dev  perc_computer_dev  \\\n",
       "count  915905.000000  915905.000000      915905.000000   \n",
       "mean        1.673701       0.563132           0.169158   \n",
       "std         0.959542       0.460226           0.349131   \n",
       "min         1.000000       0.000000           0.000000   \n",
       "25%         1.000000       0.000000           0.000000   \n",
       "50%         1.000000       0.833053           0.000000   \n",
       "75%         2.000000       1.000000           0.021639   \n",
       "max        13.000000       1.000000           1.000000   \n",
       "\n",
       "       perc_mobile_tablet_dev  tot_min_watched  tot_ad_min_watched  \\\n",
       "count           915905.000000    915905.000000       915905.000000   \n",
       "mean                 0.250199      1633.740572           68.235266   \n",
       "std                  0.394522      2142.490511          140.493718   \n",
       "min                  0.000000         0.000000            0.000000   \n",
       "25%                  0.000000       245.084900            0.000000   \n",
       "50%                  0.000000       855.485750            6.042000   \n",
       "75%                  0.426523      2168.537800           72.595333   \n",
       "max                  1.000000     44240.249670         2716.205767   \n",
       "\n",
       "       avg_min_watched_day  avg_ad_min_watched_day  tot_vid_watched  \\\n",
       "count        915905.000000           915905.000000    915905.000000   \n",
       "mean            164.521604                7.004106        68.732148   \n",
       "std             151.341454               11.335139        90.511075   \n",
       "min               0.000000                0.000000         0.000000   \n",
       "25%              63.199190                0.000000        11.000000   \n",
       "50%             123.247994                1.286733        36.000000   \n",
       "75%             218.864583               10.155185        91.000000   \n",
       "max            2949.349978              351.446283      1694.000000   \n",
       "\n",
       "       tot_unq_vid_watched  avg_vid_watched_day  avg_unq_vid_watched_day  \\\n",
       "count        915905.000000        915905.000000            915905.000000   \n",
       "mean             44.773229             6.968833                 4.642326   \n",
       "std              60.530914             6.271134                 4.441896   \n",
       "min               0.000000             0.000000                 0.000000   \n",
       "25%               7.000000             3.000000                 1.857143   \n",
       "50%              22.000000             5.142857                 3.285714   \n",
       "75%              58.000000             9.000000                 6.000000   \n",
       "max            1206.000000           363.000000               363.000000   \n",
       "\n",
       "       avg_playback_viewthru_perc  avg_ad_viewthru_perc  perc_active_days  \n",
       "count               915448.000000         915448.000000     915905.000000  \n",
       "mean                    63.495445            253.818017          0.512466  \n",
       "std                    142.791706            360.883373          0.313499  \n",
       "min                      0.000000              0.000000          0.066667  \n",
       "25%                     49.989056              0.000000          0.200000  \n",
       "50%                     66.377580             62.112116          0.466667  \n",
       "75%                     78.768650            438.463789          0.800000  \n",
       "max                  69625.737000          41613.784510          1.000000  "
      ]
     },
     "execution_count": 170,
     "metadata": {},
     "output_type": "execute_result"
    }
   ],
   "source": [
    "df_raw.describe()"
   ]
  },
  {
   "cell_type": "code",
   "execution_count": 171,
   "metadata": {},
   "outputs": [
    {
     "data": {
      "text/plain": [
       "registered_user_id             915905\n",
       "gender                         915905\n",
       "age                            915905\n",
       "previous_subscription_count    915905\n",
       "initial_product                915905\n",
       "channel                        915067\n",
       "subchannel                     847029\n",
       "partner                        471851\n",
       "subpartner                     307441\n",
       "num_dev                        915905\n",
       "perc_lv_dev                    915905\n",
       "perc_computer_dev              915905\n",
       "perc_mobile_tablet_dev         915905\n",
       "tot_min_watched                915905\n",
       "tot_ad_min_watched             915905\n",
       "avg_min_watched_day            915905\n",
       "avg_ad_min_watched_day         915905\n",
       "tot_vid_watched                915905\n",
       "tot_unq_vid_watched            915905\n",
       "avg_vid_watched_day            915905\n",
       "avg_unq_vid_watched_day        915905\n",
       "avg_playback_viewthru_perc     915448\n",
       "avg_ad_viewthru_perc           915448\n",
       "perc_active_days               915905\n",
       "segment                        915905\n",
       "dtype: int64"
      ]
     },
     "execution_count": 171,
     "metadata": {},
     "output_type": "execute_result"
    }
   ],
   "source": [
    "df_raw.count()"
   ]
  },
  {
   "cell_type": "code",
   "execution_count": 172,
   "metadata": {},
   "outputs": [
    {
     "data": {
      "text/plain": [
       "registered_user_id             915905\n",
       "gender                              4\n",
       "age                               135\n",
       "previous_subscription_count        28\n",
       "initial_product                     4\n",
       "channel                             3\n",
       "subchannel                         19\n",
       "partner                            72\n",
       "subpartner                         28\n",
       "num_dev                            13\n",
       "perc_lv_dev                    266249\n",
       "perc_computer_dev              144647\n",
       "perc_mobile_tablet_dev         247197\n",
       "tot_min_watched                890447\n",
       "tot_ad_min_watched             525505\n",
       "avg_min_watched_day            891762\n",
       "avg_ad_min_watched_day         552530\n",
       "tot_vid_watched                  1043\n",
       "tot_unq_vid_watched               730\n",
       "avg_vid_watched_day              3642\n",
       "avg_unq_vid_watched_day          2786\n",
       "avg_playback_viewthru_perc     898455\n",
       "avg_ad_viewthru_perc           573037\n",
       "perc_active_days                   15\n",
       "segment                             4\n",
       "dtype: int64"
      ]
     },
     "execution_count": 172,
     "metadata": {},
     "output_type": "execute_result"
    }
   ],
   "source": [
    "df_raw.nunique()"
   ]
  },
  {
   "cell_type": "code",
   "execution_count": 173,
   "metadata": {},
   "outputs": [
    {
     "data": {
      "text/plain": [
       "array(['m', 'f', '0', 'null'], dtype=object)"
      ]
     },
     "execution_count": 173,
     "metadata": {},
     "output_type": "execute_result"
    }
   ],
   "source": [
    "df_raw.gender.unique()"
   ]
  },
  {
   "cell_type": "code",
   "execution_count": 174,
   "metadata": {},
   "outputs": [
    {
     "data": {
      "text/plain": [
       "f       450667\n",
       "m       372969\n",
       "0        91556\n",
       "null       713\n",
       "Name: gender, dtype: int64"
      ]
     },
     "execution_count": 174,
     "metadata": {},
     "output_type": "execute_result"
    }
   ],
   "source": [
    "##df_raw.groupby(['gender']).count()\n",
    "df_raw.gender.value_counts()"
   ]
  },
  {
   "cell_type": "code",
   "execution_count": 175,
   "metadata": {},
   "outputs": [
    {
     "data": {
      "text/plain": [
       "array(['m', 'f'], dtype=object)"
      ]
     },
     "execution_count": 175,
     "metadata": {},
     "output_type": "execute_result"
    }
   ],
   "source": [
    "df_raw=df_raw[df_raw.gender != 'null']\n",
    "df_raw=df_raw[df_raw.gender != '0']\n",
    "df_raw.gender.unique()"
   ]
  },
  {
   "cell_type": "code",
   "execution_count": 176,
   "metadata": {},
   "outputs": [
    {
     "data": {
      "text/plain": [
       "array([ 43,  33,  29,  52,  37,  34,  46,  36,  60,  38,  39,  51,  76,\n",
       "        53,  56, 112,  47,  49,  40,  66,  69,  58,  35,  42,  59,  45,\n",
       "        48,  30,  26,  68,  28,  32,  57,  31,  41,  44,  62,  61,  50,\n",
       "        24,  72,  73,  54,  64,  65,  25,  27,  74,  71,  55,  23,  67,\n",
       "        63, 102,  70,  22, 115, 111, 105,  88, 116,  80,  81,  78,  97,\n",
       "       108,  77,  84,  93, 107,  95,  86,  75,  21,  96,  90,  94,  89,\n",
       "       135, 137, 134, 101, 143, 133, 122, 131, 136, 145, 130, 146, 140,\n",
       "       132, 147, 123, 125, 138, 128, 129, 142, 124, 126, 141,  79, 139,\n",
       "        91, 144, 127,  83,  20,  87, 106,  82, 103, 117, 109, 113, 104,\n",
       "       114, 100, 110,  85,  19,  92,  98,   0,  18,  99,  17,  14,  15,\n",
       "        16, 121, 118, 119, 120], dtype=int64)"
      ]
     },
     "execution_count": 176,
     "metadata": {},
     "output_type": "execute_result"
    }
   ],
   "source": [
    "df_raw.age.unique()"
   ]
  },
  {
   "cell_type": "code",
   "execution_count": 177,
   "metadata": {},
   "outputs": [
    {
     "data": {
      "text/plain": [
       "array([43, 33, 29, 52, 37, 34, 46, 36, 60, 38, 39, 51, 76, 53, 56, 47, 49,\n",
       "       40, 66, 69, 58, 35, 42, 59, 45, 48, 30, 26, 68, 28, 32, 57, 31, 41,\n",
       "       44, 62, 61, 50, 24, 72, 73, 54, 64, 65, 25, 27, 74, 71, 55, 23, 67,\n",
       "       63, 70, 22, 88, 80, 81, 78, 77, 84, 86, 75, 21, 90, 89, 79, 83, 20,\n",
       "       87, 82, 85, 19, 18, 17, 14, 15, 16], dtype=int64)"
      ]
     },
     "execution_count": 177,
     "metadata": {},
     "output_type": "execute_result"
    }
   ],
   "source": [
    "#df_raw=df_raw[df_raw.age > 0 & df_raw.age < 91]\n",
    "df_raw = df_raw[df_raw.age > 0]\n",
    "df_raw = df_raw[df_raw.age < 91]\n",
    "df_raw.age.unique()"
   ]
  },
  {
   "cell_type": "code",
   "execution_count": 178,
   "metadata": {},
   "outputs": [
    {
     "data": {
      "text/plain": [
       "array(['Partnership', 'Hulu', 'Paid Media', nan], dtype=object)"
      ]
     },
     "execution_count": 178,
     "metadata": {},
     "output_type": "execute_result"
    }
   ],
   "source": [
    "df_raw['channel'].unique()"
   ]
  },
  {
   "cell_type": "code",
   "execution_count": 179,
   "metadata": {},
   "outputs": [
    {
     "data": {
      "text/plain": [
       "array(['Partnership', 'Hulu', 'Paid Media', 'N_A'], dtype=object)"
      ]
     },
     "execution_count": 179,
     "metadata": {},
     "output_type": "execute_result"
    }
   ],
   "source": [
    "df_raw['channel'] = df_raw['channel'].fillna('N_A')\n",
    "df_raw['channel'].unique()"
   ]
  },
  {
   "cell_type": "code",
   "execution_count": 225,
   "metadata": {},
   "outputs": [
    {
     "data": {
      "text/plain": [
       "array(['Partnership', 'Hulu', 'Paid_Media', 'N_A'], dtype=object)"
      ]
     },
     "execution_count": 225,
     "metadata": {},
     "output_type": "execute_result"
    }
   ],
   "source": [
    "df_raw['channel'] = df_raw['channel'].replace(['Paid Media'], 'Paid_Media')\n",
    "df_raw['channel'].unique()"
   ]
  },
  {
   "cell_type": "code",
   "execution_count": 180,
   "metadata": {},
   "outputs": [
    {
     "data": {
      "text/plain": [
       "array(['OEM', 'Email', 'Non-Attributable', 'Masthead', 'Other', 'SEM',\n",
       "       'Strategic', nan, 'Display', 'Site Promo', 'TV', 'Audio',\n",
       "       'Distribution Partner', 'Social', 'Affiliate', 'MVPD', 'House Ad',\n",
       "       'Mobile', 'Referral', 'Virtual Gift Card'], dtype=object)"
      ]
     },
     "execution_count": 180,
     "metadata": {},
     "output_type": "execute_result"
    }
   ],
   "source": [
    "df_raw.subchannel.unique()"
   ]
  },
  {
   "cell_type": "code",
   "execution_count": 181,
   "metadata": {},
   "outputs": [
    {
     "data": {
      "text/plain": [
       "array(['OEM', 'Email', 'Non-Attributable', 'Masthead', 'Other', 'SEM',\n",
       "       'Strategic', 'N_A', 'Display', 'Site Promo', 'TV', 'Audio',\n",
       "       'Distribution Partner', 'Social', 'Affiliate', 'MVPD', 'House Ad',\n",
       "       'Mobile', 'Referral', 'Virtual Gift Card'], dtype=object)"
      ]
     },
     "execution_count": 181,
     "metadata": {},
     "output_type": "execute_result"
    }
   ],
   "source": [
    "df_raw['subchannel'] = df_raw['subchannel'].fillna('N_A')\n",
    "df_raw['subchannel'].unique()"
   ]
  },
  {
   "cell_type": "code",
   "execution_count": 226,
   "metadata": {},
   "outputs": [
    {
     "data": {
      "text/plain": [
       "array(['OEM', 'Email', 'Non_Attributable', 'Masthead', 'Other', 'SEM',\n",
       "       'Strategic', 'N_A', 'Display', 'Site_Promo', 'TV', 'Audio',\n",
       "       'Distribution_Partner', 'Social', 'Affiliate', 'MVPD', 'House_Ad',\n",
       "       'Mobile', 'Referral', 'Virtual_Gift_Card'], dtype=object)"
      ]
     },
     "execution_count": 226,
     "metadata": {},
     "output_type": "execute_result"
    }
   ],
   "source": [
    "df_raw['subchannel'] = df_raw['subchannel'].replace(['Non-Attributable'], 'Non_Attributable')\n",
    "df_raw['subchannel'] = df_raw['subchannel'].replace(['Site Promo'], 'Site_Promo')\n",
    "df_raw['subchannel'] = df_raw['subchannel'].replace(['Distribution Partner'], 'Distribution_Partner')\n",
    "df_raw['subchannel'] = df_raw['subchannel'].replace(['House Ad'], 'House_Ad')\n",
    "df_raw['subchannel'] = df_raw['subchannel'].replace(['Virtual Gift Card'], 'Virtual_Gift_Card')\n",
    "df_raw['subchannel'].unique()"
   ]
  },
  {
   "cell_type": "code",
   "execution_count": 182,
   "metadata": {},
   "outputs": [
    {
     "data": {
      "text/plain": [
       "array(['Microsoft', 'Apple', 'Hulu', nan, 'Amazon', 'Roku',\n",
       "       'American Express', 'Google', 'Sony', 'Samsung', 'Earwolf', 'CBSi',\n",
       "       'Tapjoy', 'Suddenlink', 'Panasonic', 'Cablevision', 'Nintendo',\n",
       "       'Rocketfuel', 'SideReel', 'Oculus', 'Vizio', 'Barnes and Noble',\n",
       "       'LG', 'Truview Mobile', 'Midcontinent', 'Philips', 'Mediacom',\n",
       "       'Gamefly', 'Yidio', 'RTPodNet', 'Toshiba', 'Quantcast', 'JARA',\n",
       "       'Enseo', 'DBM', 'TVLinks', 'Criterion', 'AAFES', 'Sharp',\n",
       "       'Facebook', 'MidRoll', 'Netgear', 'TV Guide', 'Commission Junction',\n",
       "       'AdMob', 'AMC Networks', 'RadiumOne', 'NBC', 'Vevo',\n",
       "       'Western Digital', 'Yahoo', 'Dstillery', 'Maximum Fun Network',\n",
       "       'Trialpay', 'PodcastOne', 'Neon Alley', 'Video Podcast Network',\n",
       "       'Star Talk', 'NCTC', 'AT&T', 'Best Buy', 'Armstrong',\n",
       "       'Carolla Digital', 'GCI', 'Bonnier', 'YouTube', 'NCircle',\n",
       "       'Exponential', 'Tivo', 'Smodcast', 'Funai', 'HowStuffWorks', 'Dynex'], dtype=object)"
      ]
     },
     "execution_count": 182,
     "metadata": {},
     "output_type": "execute_result"
    }
   ],
   "source": [
    "df_raw.partner.unique()"
   ]
  },
  {
   "cell_type": "code",
   "execution_count": 183,
   "metadata": {},
   "outputs": [
    {
     "data": {
      "text/plain": [
       "array(['Microsoft', 'Apple', 'Hulu', 'N_A', 'Amazon', 'Roku',\n",
       "       'American Express', 'Google', 'Sony', 'Samsung', 'Earwolf', 'CBSi',\n",
       "       'Tapjoy', 'Suddenlink', 'Panasonic', 'Cablevision', 'Nintendo',\n",
       "       'Rocketfuel', 'SideReel', 'Oculus', 'Vizio', 'Barnes and Noble',\n",
       "       'LG', 'Truview Mobile', 'Midcontinent', 'Philips', 'Mediacom',\n",
       "       'Gamefly', 'Yidio', 'RTPodNet', 'Toshiba', 'Quantcast', 'JARA',\n",
       "       'Enseo', 'DBM', 'TVLinks', 'Criterion', 'AAFES', 'Sharp',\n",
       "       'Facebook', 'MidRoll', 'Netgear', 'TV Guide', 'Commission Junction',\n",
       "       'AdMob', 'AMC Networks', 'RadiumOne', 'NBC', 'Vevo',\n",
       "       'Western Digital', 'Yahoo', 'Dstillery', 'Maximum Fun Network',\n",
       "       'Trialpay', 'PodcastOne', 'Neon Alley', 'Video Podcast Network',\n",
       "       'Star Talk', 'NCTC', 'AT&T', 'Best Buy', 'Armstrong',\n",
       "       'Carolla Digital', 'GCI', 'Bonnier', 'YouTube', 'NCircle',\n",
       "       'Exponential', 'Tivo', 'Smodcast', 'Funai', 'HowStuffWorks', 'Dynex'], dtype=object)"
      ]
     },
     "execution_count": 183,
     "metadata": {},
     "output_type": "execute_result"
    }
   ],
   "source": [
    "df_raw['partner'] = df_raw['partner'].fillna('N_A')\n",
    "df_raw['partner'].unique()"
   ]
  },
  {
   "cell_type": "code",
   "execution_count": 227,
   "metadata": {},
   "outputs": [
    {
     "data": {
      "text/plain": [
       "array(['Microsoft', 'Apple', 'Hulu', 'N_A', 'Amazon', 'Roku',\n",
       "       'American_Express', 'Google', 'Sony', 'Samsung', 'Earwolf', 'CBSi',\n",
       "       'Tapjoy', 'Suddenlink', 'Panasonic', 'Cablevision', 'Nintendo',\n",
       "       'Rocketfuel', 'SideReel', 'Oculus', 'Vizio', 'Barnes_and_Noble',\n",
       "       'LG', 'Truview_Mobile', 'Midcontinent', 'Philips', 'Mediacom',\n",
       "       'Gamefly', 'Yidio', 'RTPodNet', 'Toshiba', 'Quantcast', 'JARA',\n",
       "       'Enseo', 'DBM', 'TVLinks', 'Criterion', 'AAFES', 'Sharp',\n",
       "       'Facebook', 'MidRoll', 'Netgear', 'TV_Guide', 'Commission_Junction',\n",
       "       'AdMob', 'AMC_Networks', 'RadiumOne', 'NBC', 'Vevo',\n",
       "       'Western_Digital', 'Yahoo', 'Dstillery', 'Maximum_Fun_Network',\n",
       "       'Trialpay', 'PodcastOne', 'Neon_Alley', 'Video_Podcast_Network',\n",
       "       'Star_Talk', 'NCTC', 'ATT', 'Best_Buy', 'Armstrong',\n",
       "       'Carolla_Digital', 'GCI', 'Bonnier', 'YouTube', 'NCircle',\n",
       "       'Exponential', 'Tivo', 'Smodcast', 'Funai', 'HowStuffWorks', 'Dynex'], dtype=object)"
      ]
     },
     "execution_count": 227,
     "metadata": {},
     "output_type": "execute_result"
    }
   ],
   "source": [
    "df_raw['partner'] = df_raw['partner'].replace(['American Express'], 'American_Express')\n",
    "df_raw['partner'] = df_raw['partner'].replace(['Barnes and Noble'], 'Barnes_and_Noble')\n",
    "df_raw['partner'] = df_raw['partner'].replace(['Truview Mobile'], 'Truview_Mobile')\n",
    "df_raw['partner'] = df_raw['partner'].replace(['TV Guide'], 'TV_Guide')\n",
    "df_raw['partner'] = df_raw['partner'].replace(['Commission Junction'], 'Commission_Junction')\n",
    "df_raw['partner'] = df_raw['partner'].replace(['AMC Networks'], 'AMC_Networks')\n",
    "df_raw['partner'] = df_raw['partner'].replace(['Western Digital'], 'Western_Digital')\n",
    "df_raw['partner'] = df_raw['partner'].replace(['Maximum Fun Network'], 'Maximum_Fun_Network')\n",
    "df_raw['partner'] = df_raw['partner'].replace(['Neon Alley'], 'Neon_Alley')\n",
    "df_raw['partner'] = df_raw['partner'].replace(['Video Podcast Network'], 'Video_Podcast_Network')\n",
    "df_raw['partner'] = df_raw['partner'].replace(['Star Talk'], 'Star_Talk')\n",
    "df_raw['partner'] = df_raw['partner'].replace(['AT&T'], 'ATT')\n",
    "df_raw['partner'] = df_raw['partner'].replace(['Best Buy'], 'Best_Buy')\n",
    "df_raw['partner'] = df_raw['partner'].replace(['Carolla Digital'], 'Carolla_Digital')\n",
    "df_raw['partner'].unique()"
   ]
  },
  {
   "cell_type": "code",
   "execution_count": 184,
   "metadata": {},
   "outputs": [
    {
     "data": {
      "text/plain": [
       "array(['Xbox One', 'Apple TV', 'Reacquisition / Retention', nan, 'iOS',\n",
       "       'Amazon Fire TV', 'Windows', 'Plenti', 'PS4', 'Amazon Kindle',\n",
       "       'Bing', 'PS3', 'EWolf', 'BIVL', 'Xbox 360', 'WiiU', 'Nook', 'Wii U',\n",
       "       'Wii', 'Rooster Teeth', 'PS Vita', 'Non-attributable', 'OperaTV',\n",
       "       '3DS', 'Nexus Player', 'Norm MacDonald', 'Grande', 'Alison Rosen',\n",
       "       'TESD'], dtype=object)"
      ]
     },
     "execution_count": 184,
     "metadata": {},
     "output_type": "execute_result"
    }
   ],
   "source": [
    "df_raw.subpartner.unique()"
   ]
  },
  {
   "cell_type": "code",
   "execution_count": 185,
   "metadata": {},
   "outputs": [
    {
     "data": {
      "text/plain": [
       "array(['Xbox One', 'Apple TV', 'Reacquisition / Retention', 'N_A', 'iOS',\n",
       "       'Amazon Fire TV', 'Windows', 'Plenti', 'PS4', 'Amazon Kindle',\n",
       "       'Bing', 'PS3', 'EWolf', 'BIVL', 'Xbox 360', 'WiiU', 'Nook', 'Wii U',\n",
       "       'Wii', 'Rooster Teeth', 'PS Vita', 'Non-attributable', 'OperaTV',\n",
       "       '3DS', 'Nexus Player', 'Norm MacDonald', 'Grande', 'Alison Rosen',\n",
       "       'TESD'], dtype=object)"
      ]
     },
     "execution_count": 185,
     "metadata": {},
     "output_type": "execute_result"
    }
   ],
   "source": [
    "df_raw['subpartner'] = df_raw['subpartner'].fillna('N_A')\n",
    "df_raw['subpartner'].unique()"
   ]
  },
  {
   "cell_type": "code",
   "execution_count": 228,
   "metadata": {},
   "outputs": [
    {
     "data": {
      "text/plain": [
       "array(['Xbox_One', 'Apple_TV', 'Reacquisition_Retention', 'N_A', 'iOS',\n",
       "       'Amazon_Fire_TV', 'Windows', 'Plenti', 'PS4', 'Amazon_Kindle',\n",
       "       'Bing', 'PS3', 'EWolf', 'BIVL', 'Xbox_360', 'WiiU', 'Nook', 'Wii_U',\n",
       "       'Wii', 'Rooster_Teeth', 'PS_Vita', 'Non_attributable', 'OperaTV',\n",
       "       '3DS', 'Nexus_Player', 'Norm_MacDonald', 'Grande', 'Alison_Rosen',\n",
       "       'TESD'], dtype=object)"
      ]
     },
     "execution_count": 228,
     "metadata": {},
     "output_type": "execute_result"
    }
   ],
   "source": [
    "df_raw['subpartner'] = df_raw['subpartner'].replace(['Xbox One'], 'Xbox_One')\n",
    "df_raw['subpartner'] = df_raw['subpartner'].replace(['Apple TV'], 'Apple_TV')\n",
    "df_raw['subpartner'] = df_raw['subpartner'].replace(['Reacquisition / Retention'], 'Reacquisition_Retention')\n",
    "df_raw['subpartner'] = df_raw['subpartner'].replace(['Amazon Fire TV'], 'Amazon_Fire_TV')\n",
    "df_raw['subpartner'] = df_raw['subpartner'].replace(['Amazon Kindle'], 'Amazon_Kindle')\n",
    "df_raw['subpartner'] = df_raw['subpartner'].replace(['Xbox 360'], 'Xbox_360')\n",
    "df_raw['subpartner'] = df_raw['subpartner'].replace(['Wii U'], 'Wii_U')\n",
    "df_raw['subpartner'] = df_raw['subpartner'].replace(['Rooster Teeth'], 'Rooster_Teeth')\n",
    "df_raw['subpartner'] = df_raw['subpartner'].replace(['PS Vita'], 'PS_Vita')\n",
    "df_raw['subpartner'] = df_raw['subpartner'].replace(['Non-attributable'], 'Non_attributable')\n",
    "df_raw['subpartner'] = df_raw['subpartner'].replace(['Nexus Player'], 'Nexus_Player')\n",
    "df_raw['subpartner'] = df_raw['subpartner'].replace(['Norm MacDonald'], 'Norm_MacDonald')\n",
    "df_raw['subpartner'] = df_raw['subpartner'].replace(['Alison Rosen'], 'Alison_Rosen')\n",
    "df_raw['subpartner'].unique()"
   ]
  },
  {
   "cell_type": "code",
   "execution_count": 186,
   "metadata": {},
   "outputs": [
    {
     "data": {
      "text/plain": [
       "448"
      ]
     },
     "execution_count": 186,
     "metadata": {},
     "output_type": "execute_result"
    }
   ],
   "source": [
    "df_raw.avg_playback_viewthru_perc.isnull().sum()"
   ]
  },
  {
   "cell_type": "code",
   "execution_count": 187,
   "metadata": {},
   "outputs": [
    {
     "data": {
      "text/plain": [
       "448"
      ]
     },
     "execution_count": 187,
     "metadata": {},
     "output_type": "execute_result"
    }
   ],
   "source": [
    "df_raw.avg_ad_viewthru_perc.isnull().sum()"
   ]
  },
  {
   "cell_type": "code",
   "execution_count": 188,
   "metadata": {},
   "outputs": [
    {
     "data": {
      "text/plain": [
       "array([ 1.        ,  0.        ,  0.13467722, ...,  0.82573675,\n",
       "        0.7974679 ,  0.64178318])"
      ]
     },
     "execution_count": 188,
     "metadata": {},
     "output_type": "execute_result"
    }
   ],
   "source": [
    "df_raw.perc_lv_dev.unique()"
   ]
  },
  {
   "cell_type": "code",
   "execution_count": 189,
   "metadata": {},
   "outputs": [
    {
     "data": {
      "text/plain": [
       "registered_user_id             822016\n",
       "gender                         822016\n",
       "age                            822016\n",
       "previous_subscription_count    822016\n",
       "initial_product                822016\n",
       "channel                        822016\n",
       "subchannel                     822016\n",
       "partner                        822016\n",
       "subpartner                     822016\n",
       "num_dev                        822016\n",
       "perc_lv_dev                    822016\n",
       "perc_computer_dev              822016\n",
       "perc_mobile_tablet_dev         822016\n",
       "tot_min_watched                822016\n",
       "tot_ad_min_watched             822016\n",
       "avg_min_watched_day            822016\n",
       "avg_ad_min_watched_day         822016\n",
       "tot_vid_watched                822016\n",
       "tot_unq_vid_watched            822016\n",
       "avg_vid_watched_day            822016\n",
       "avg_unq_vid_watched_day        822016\n",
       "avg_playback_viewthru_perc     821568\n",
       "avg_ad_viewthru_perc           821568\n",
       "perc_active_days               822016\n",
       "segment                        822016\n",
       "dtype: int64"
      ]
     },
     "execution_count": 189,
     "metadata": {},
     "output_type": "execute_result"
    }
   ],
   "source": [
    "df_raw.count()"
   ]
  },
  {
   "cell_type": "code",
   "execution_count": 190,
   "metadata": {},
   "outputs": [
    {
     "data": {
      "text/plain": [
       "registered_user_id             822016\n",
       "gender                              2\n",
       "age                                77\n",
       "previous_subscription_count        28\n",
       "initial_product                     4\n",
       "channel                             4\n",
       "subchannel                         20\n",
       "partner                            73\n",
       "subpartner                         29\n",
       "num_dev                            13\n",
       "perc_lv_dev                    240746\n",
       "perc_computer_dev              136253\n",
       "perc_mobile_tablet_dev         220515\n",
       "tot_min_watched                799483\n",
       "tot_ad_min_watched             470115\n",
       "avg_min_watched_day            800604\n",
       "avg_ad_min_watched_day         494003\n",
       "tot_vid_watched                  1036\n",
       "tot_unq_vid_watched               725\n",
       "avg_vid_watched_day              3599\n",
       "avg_unq_vid_watched_day          2755\n",
       "avg_playback_viewthru_perc     805785\n",
       "avg_ad_viewthru_perc           512017\n",
       "perc_active_days                   15\n",
       "segment                             4\n",
       "dtype: int64"
      ]
     },
     "execution_count": 190,
     "metadata": {},
     "output_type": "execute_result"
    }
   ],
   "source": [
    "df_raw.nunique()"
   ]
  },
  {
   "cell_type": "markdown",
   "metadata": {},
   "source": [
    "# Do not use avg_playback_viewthru_perc & avg_ad_viewthru_perc\n",
    "# Numbers don't look correct"
   ]
  },
  {
   "cell_type": "code",
   "execution_count": 193,
   "metadata": {},
   "outputs": [
    {
     "data": {
      "image/png": "[encoded data removed]",
      "text/plain": [
       "<matplotlib.figure.Figure at 0x22f279b0>"
      ]
     },
     "metadata": {},
     "output_type": "display_data"
    }
   ],
   "source": [
    "plt.hist(df_raw['age'], 30, histtype = 'bar', facecolor='green')\n",
    "plt.ylabel(\"Frequency\")\n",
    "plt.xlabel(\"Age\")\n",
    "plt.title(\"Age\")\n",
    "plt.axis([10,90,0,80000])\n",
    "plt.show()"
   ]
  },
  {
   "cell_type": "code",
   "execution_count": 194,
   "metadata": {},
   "outputs": [
    {
     "data": {
      "text/plain": [
       "0     729508\n",
       "1      67225\n",
       "2      16665\n",
       "3       4995\n",
       "4       1957\n",
       "5        790\n",
       "6        374\n",
       "7        212\n",
       "8        113\n",
       "9         47\n",
       "10        36\n",
       "11        29\n",
       "12        17\n",
       "13        10\n",
       "14        10\n",
       "15         8\n",
       "16         5\n",
       "17         3\n",
       "18         2\n",
       "22         2\n",
       "36         1\n",
       "20         1\n",
       "21         1\n",
       "23         1\n",
       "26         1\n",
       "27         1\n",
       "28         1\n",
       "37         1\n",
       "Name: previous_subscription_count, dtype: int64"
      ]
     },
     "execution_count": 194,
     "metadata": {},
     "output_type": "execute_result"
    }
   ],
   "source": [
    "df_raw.previous_subscription_count.value_counts()"
   ]
  },
  {
   "cell_type": "code",
   "execution_count": 195,
   "metadata": {},
   "outputs": [
    {
     "data": {
      "image/png": "[encoded data removed]",
      "text/plain": [
       "<matplotlib.figure.Figure at 0x15e8b630>"
      ]
     },
     "metadata": {},
     "output_type": "display_data"
    }
   ],
   "source": [
    "plt.hist(df_raw['previous_subscription_count'], 28, histtype = 'bar', facecolor='green')\n",
    "plt.ylabel(\"Frequency\")\n",
    "plt.xlabel(\"previous_subscription_count\")\n",
    "plt.title(\"previous_subscription_count\")\n",
    "plt.axis([0,11,0,900000])\n",
    "plt.show()"
   ]
  },
  {
   "cell_type": "code",
   "execution_count": 196,
   "metadata": {},
   "outputs": [
    {
     "data": {
      "text/plain": [
       "1     463092\n",
       "2     223359\n",
       "3      90498\n",
       "4      31257\n",
       "5       9724\n",
       "6       2882\n",
       "7        870\n",
       "8        229\n",
       "9         79\n",
       "10        18\n",
       "11         4\n",
       "13         2\n",
       "12         2\n",
       "Name: num_dev, dtype: int64"
      ]
     },
     "execution_count": 196,
     "metadata": {},
     "output_type": "execute_result"
    }
   ],
   "source": [
    "df_raw.num_dev.value_counts()"
   ]
  },
  {
   "cell_type": "code",
   "execution_count": 198,
   "metadata": {},
   "outputs": [
    {
     "data": {
      "image/png": "[encoded data removed]",
      "text/plain": [
       "<matplotlib.figure.Figure at 0x3c4cc5f8>"
      ]
     },
     "metadata": {},
     "output_type": "display_data"
    }
   ],
   "source": [
    "plt.hist(df_raw['num_dev'], 12, histtype = 'bar', facecolor='green')\n",
    "plt.ylabel(\"Frequency\")\n",
    "plt.xlabel(\"num_dev\")\n",
    "plt.title(\"num_dev\")\n",
    "plt.axis([0,13,0,500000])\n",
    "plt.show()"
   ]
  },
  {
   "cell_type": "code",
   "execution_count": 199,
   "metadata": {},
   "outputs": [
    {
     "data": {
      "text/plain": [
       "0.066667    87601\n",
       "1.000000    81094\n",
       "0.133333    66736\n",
       "0.200000    56963\n",
       "0.933333    56642\n",
       "0.266667    52686\n",
       "0.333333    49527\n",
       "0.866667    49509\n",
       "0.400000    47494\n",
       "0.800000    46622\n",
       "0.466667    46573\n",
       "0.533333    45597\n",
       "0.733333    45160\n",
       "0.600000    45045\n",
       "0.666667    44767\n",
       "Name: perc_active_days, dtype: int64"
      ]
     },
     "execution_count": 199,
     "metadata": {},
     "output_type": "execute_result"
    }
   ],
   "source": [
    "df_raw.perc_active_days.value_counts()"
   ]
  },
  {
   "cell_type": "code",
   "execution_count": 200,
   "metadata": {},
   "outputs": [
    {
     "data": {
      "image/png": "[encoded data removed]",
      "text/plain": [
       "<matplotlib.figure.Figure at 0x1687a198>"
      ]
     },
     "metadata": {},
     "output_type": "display_data"
    }
   ],
   "source": [
    "plt.hist(df_raw['perc_active_days'], 15, histtype = 'bar', facecolor='green')\n",
    "plt.ylabel(\"Frequency\")\n",
    "plt.xlabel(\"perc_active_days\")\n",
    "plt.title(\"perc_active_days\")\n",
    "plt.axis([0,1,0,100000])\n",
    "plt.show()"
   ]
  },
  {
   "cell_type": "code",
   "execution_count": 202,
   "metadata": {},
   "outputs": [
    {
     "data": {
      "text/plain": [
       "promo_expire    251062\n",
       "high_12+        241085\n",
       "low_0-6         215573\n",
       "mid_6-12        114296\n",
       "Name: segment, dtype: int64"
      ]
     },
     "execution_count": 202,
     "metadata": {},
     "output_type": "execute_result"
    }
   ],
   "source": [
    "df_raw.segment.value_counts()"
   ]
  },
  {
   "cell_type": "code",
   "execution_count": 216,
   "metadata": {},
   "outputs": [
    {
     "data": {
      "text/plain": [
       "<matplotlib.image.AxesImage at 0x16422710>"
      ]
     },
     "execution_count": 216,
     "metadata": {},
     "output_type": "execute_result"
    }
   ],
   "source": [
    "#corr=df_raw.corr()\n",
    "#plt.matshow(df_raw.corr())\n",
    "#df_raw['age','previous_subscription_count'].corr()\n",
    "\n",
    "corr=df_raw.loc[:,['age','previous_subscription_count']].corr()\n",
    "plt.matshow(df_raw.corr())\n",
    "\n",
    "##f, ax = plt.subplots(figsize=(10, 8))\n",
    "#corr=df_raw['age','previous_subscription_count'].corr()\n",
    "#sns.heatmap(corr, mask=np.zeros_like(corr, dtype=np.bool), cmap=sns.diverging_palette(220, 10, as_cmap=True),\n",
    " #           square=True, ax=ax)"
   ]
  },
  {
   "cell_type": "code",
   "execution_count": 223,
   "metadata": {},
   "outputs": [
    {
     "name": "stdout",
     "output_type": "stream",
     "text": [
      "                             registered_user_id       age  \\\n",
      "registered_user_id                     1.000000 -0.082028   \n",
      "age                                   -0.082028  1.000000   \n",
      "previous_subscription_count           -0.395860  0.023045   \n",
      "num_dev                               -0.006038 -0.025004   \n",
      "perc_lv_dev                            0.027886  0.069973   \n",
      "perc_computer_dev                     -0.033975 -0.076964   \n",
      "perc_mobile_tablet_dev                -0.003097 -0.013674   \n",
      "tot_min_watched                        0.040939 -0.059134   \n",
      "tot_ad_min_watched                     0.002715 -0.055010   \n",
      "avg_min_watched_day                    0.043383 -0.041250   \n",
      "avg_ad_min_watched_day                -0.007585 -0.051522   \n",
      "tot_vid_watched                        0.036303 -0.080542   \n",
      "tot_unq_vid_watched                    0.031563 -0.073388   \n",
      "avg_vid_watched_day                    0.036766 -0.064425   \n",
      "avg_unq_vid_watched_day                0.028044 -0.050189   \n",
      "avg_playback_viewthru_perc            -0.002419 -0.006170   \n",
      "avg_ad_viewthru_perc                  -0.036037 -0.052622   \n",
      "perc_active_days                       0.021516 -0.116886   \n",
      "\n",
      "                             previous_subscription_count   num_dev  \\\n",
      "registered_user_id                             -0.395860 -0.006038   \n",
      "age                                             0.023045 -0.025004   \n",
      "previous_subscription_count                     1.000000  0.024900   \n",
      "num_dev                                         0.024900  1.000000   \n",
      "perc_lv_dev                                    -0.005014  0.089265   \n",
      "perc_computer_dev                              -0.041233 -0.160797   \n",
      "perc_mobile_tablet_dev                          0.048875  0.078160   \n",
      "tot_min_watched                                -0.033355  0.321471   \n",
      "tot_ad_min_watched                              0.018891  0.145792   \n",
      "avg_min_watched_day                            -0.035962  0.258954   \n",
      "avg_ad_min_watched_day                          0.034493  0.085943   \n",
      "tot_vid_watched                                -0.028233  0.353784   \n",
      "tot_unq_vid_watched                            -0.028792  0.315114   \n",
      "avg_vid_watched_day                            -0.028340  0.298468   \n",
      "avg_unq_vid_watched_day                        -0.027546  0.233347   \n",
      "avg_playback_viewthru_perc                      0.000449  0.008444   \n",
      "avg_ad_viewthru_perc                            0.058685 -0.045412   \n",
      "perc_active_days                               -0.015701  0.403550   \n",
      "\n",
      "                             perc_lv_dev  perc_computer_dev  \\\n",
      "registered_user_id              0.027886          -0.033975   \n",
      "age                             0.069973          -0.076964   \n",
      "previous_subscription_count    -0.005014          -0.041233   \n",
      "num_dev                         0.089265          -0.160797   \n",
      "perc_lv_dev                     1.000000          -0.573015   \n",
      "perc_computer_dev              -0.573015           1.000000   \n",
      "perc_mobile_tablet_dev         -0.607366          -0.239457   \n",
      "tot_min_watched                 0.226852          -0.143420   \n",
      "tot_ad_min_watched              0.111776          -0.073011   \n",
      "avg_min_watched_day             0.272831          -0.156951   \n",
      "avg_ad_min_watched_day          0.104497          -0.063818   \n",
      "tot_vid_watched                 0.199659          -0.133046   \n",
      "tot_unq_vid_watched             0.225501          -0.123232   \n",
      "avg_vid_watched_day             0.216181          -0.135485   \n",
      "avg_unq_vid_watched_day         0.242219          -0.114168   \n",
      "avg_playback_viewthru_perc      0.026917           0.002834   \n",
      "avg_ad_viewthru_perc           -0.034681           0.069449   \n",
      "perc_active_days                0.176053          -0.115178   \n",
      "\n",
      "                             perc_mobile_tablet_dev  tot_min_watched  \\\n",
      "registered_user_id                        -0.003097         0.040939   \n",
      "age                                       -0.013674        -0.059134   \n",
      "previous_subscription_count                0.048875        -0.033355   \n",
      "num_dev                                    0.078160         0.321471   \n",
      "perc_lv_dev                               -0.607366         0.226852   \n",
      "perc_computer_dev                         -0.239457        -0.143420   \n",
      "perc_mobile_tablet_dev                     1.000000        -0.101590   \n",
      "tot_min_watched                           -0.101590         1.000000   \n",
      "tot_ad_min_watched                        -0.042926         0.501086   \n",
      "avg_min_watched_day                       -0.129126         0.912516   \n",
      "avg_ad_min_watched_day                    -0.037241         0.379135   \n",
      "tot_vid_watched                           -0.079702         0.927738   \n",
      "tot_unq_vid_watched                       -0.121546         0.899975   \n",
      "avg_vid_watched_day                       -0.089467         0.829555   \n",
      "avg_unq_vid_watched_day                   -0.146127         0.753333   \n",
      "avg_playback_viewthru_perc                -0.015579         0.049854   \n",
      "avg_ad_viewthru_perc                       0.004176        -0.019241   \n",
      "perc_active_days                          -0.037046         0.695629   \n",
      "\n",
      "                             tot_ad_min_watched  avg_min_watched_day  \\\n",
      "registered_user_id                     0.002715             0.043383   \n",
      "age                                   -0.055010            -0.041250   \n",
      "previous_subscription_count            0.018891            -0.035962   \n",
      "num_dev                                0.145792             0.258954   \n",
      "perc_lv_dev                            0.111776             0.272831   \n",
      "perc_computer_dev                     -0.073011            -0.156951   \n",
      "perc_mobile_tablet_dev                -0.042926            -0.129126   \n",
      "tot_min_watched                        0.501086             0.912516   \n",
      "tot_ad_min_watched                     1.000000             0.443383   \n",
      "avg_min_watched_day                    0.443383             1.000000   \n",
      "avg_ad_min_watched_day                 0.916288             0.409707   \n",
      "tot_vid_watched                        0.457816             0.820570   \n",
      "tot_unq_vid_watched                    0.443066             0.805593   \n",
      "avg_vid_watched_day                    0.396344             0.855481   \n",
      "avg_unq_vid_watched_day                0.356005             0.800482   \n",
      "avg_playback_viewthru_perc             0.030552             0.066078   \n",
      "avg_ad_viewthru_perc                   0.418577            -0.001680   \n",
      "perc_active_days                       0.417615             0.522154   \n",
      "\n",
      "                             avg_ad_min_watched_day  tot_vid_watched  \\\n",
      "registered_user_id                        -0.007585         0.036303   \n",
      "age                                       -0.051522        -0.080542   \n",
      "previous_subscription_count                0.034493        -0.028233   \n",
      "num_dev                                    0.085943         0.353784   \n",
      "perc_lv_dev                                0.104497         0.199659   \n",
      "perc_computer_dev                         -0.063818        -0.133046   \n",
      "perc_mobile_tablet_dev                    -0.037241        -0.079702   \n",
      "tot_min_watched                            0.379135         0.927738   \n",
      "tot_ad_min_watched                         0.916288         0.457816   \n",
      "avg_min_watched_day                        0.409707         0.820570   \n",
      "avg_ad_min_watched_day                     1.000000         0.335003   \n",
      "tot_vid_watched                            0.335003         1.000000   \n",
      "tot_unq_vid_watched                        0.327730         0.957217   \n",
      "avg_vid_watched_day                        0.350766         0.913110   \n",
      "avg_unq_vid_watched_day                    0.325052         0.818627   \n",
      "avg_playback_viewthru_perc                 0.036306         0.040623   \n",
      "avg_ad_viewthru_perc                       0.564669        -0.063305   \n",
      "perc_active_days                           0.267430         0.695547   \n",
      "\n",
      "                             tot_unq_vid_watched  avg_vid_watched_day  \\\n",
      "registered_user_id                      0.031563             0.036766   \n",
      "age                                    -0.073388            -0.064425   \n",
      "previous_subscription_count            -0.028792            -0.028340   \n",
      "num_dev                                 0.315114             0.298468   \n",
      "perc_lv_dev                             0.225501             0.216181   \n",
      "perc_computer_dev                      -0.123232            -0.135485   \n",
      "perc_mobile_tablet_dev                 -0.121546            -0.089467   \n",
      "tot_min_watched                         0.899975             0.829555   \n",
      "tot_ad_min_watched                      0.443066             0.396344   \n",
      "avg_min_watched_day                     0.805593             0.855481   \n",
      "avg_ad_min_watched_day                  0.327730             0.350766   \n",
      "tot_vid_watched                         0.957217             0.913110   \n",
      "tot_unq_vid_watched                     1.000000             0.883221   \n",
      "avg_vid_watched_day                     0.883221             1.000000   \n",
      "avg_unq_vid_watched_day                 0.886036             0.928644   \n",
      "avg_playback_viewthru_perc              0.047025             0.044742   \n",
      "avg_ad_viewthru_perc                   -0.062385            -0.079981   \n",
      "perc_active_days                        0.663532             0.515312   \n",
      "\n",
      "                             avg_unq_vid_watched_day  \\\n",
      "registered_user_id                          0.028044   \n",
      "age                                        -0.050189   \n",
      "previous_subscription_count                -0.027546   \n",
      "num_dev                                     0.233347   \n",
      "perc_lv_dev                                 0.242219   \n",
      "perc_computer_dev                          -0.114168   \n",
      "perc_mobile_tablet_dev                     -0.146127   \n",
      "tot_min_watched                             0.753333   \n",
      "tot_ad_min_watched                          0.356005   \n",
      "avg_min_watched_day                         0.800482   \n",
      "avg_ad_min_watched_day                      0.325052   \n",
      "tot_vid_watched                             0.818627   \n",
      "tot_unq_vid_watched                         0.886036   \n",
      "avg_vid_watched_day                         0.928644   \n",
      "avg_unq_vid_watched_day                     1.000000   \n",
      "avg_playback_viewthru_perc                  0.053941   \n",
      "avg_ad_viewthru_perc                       -0.075373   \n",
      "perc_active_days                            0.439585   \n",
      "\n",
      "                             avg_playback_viewthru_perc  avg_ad_viewthru_perc  \\\n",
      "registered_user_id                            -0.002419             -0.036037   \n",
      "age                                           -0.006170             -0.052622   \n",
      "previous_subscription_count                    0.000449              0.058685   \n",
      "num_dev                                        0.008444             -0.045412   \n",
      "perc_lv_dev                                    0.026917             -0.034681   \n",
      "perc_computer_dev                              0.002834              0.069449   \n",
      "perc_mobile_tablet_dev                        -0.015579              0.004176   \n",
      "tot_min_watched                                0.049854             -0.019241   \n",
      "tot_ad_min_watched                             0.030552              0.418577   \n",
      "avg_min_watched_day                            0.066078             -0.001680   \n",
      "avg_ad_min_watched_day                         0.036306              0.564669   \n",
      "tot_vid_watched                                0.040623             -0.063305   \n",
      "tot_unq_vid_watched                            0.047025             -0.062385   \n",
      "avg_vid_watched_day                            0.044742             -0.079981   \n",
      "avg_unq_vid_watched_day                        0.053941             -0.075373   \n",
      "avg_playback_viewthru_perc                     1.000000              0.030105   \n",
      "avg_ad_viewthru_perc                           0.030105              1.000000   \n",
      "perc_active_days                               0.046332              0.030292   \n",
      "\n",
      "                             perc_active_days  \n",
      "registered_user_id                   0.021516  \n",
      "age                                 -0.116886  \n",
      "previous_subscription_count         -0.015701  \n",
      "num_dev                              0.403550  \n",
      "perc_lv_dev                          0.176053  \n",
      "perc_computer_dev                   -0.115178  \n",
      "perc_mobile_tablet_dev              -0.037046  \n",
      "tot_min_watched                      0.695629  \n",
      "tot_ad_min_watched                   0.417615  \n",
      "avg_min_watched_day                  0.522154  \n",
      "avg_ad_min_watched_day               0.267430  \n",
      "tot_vid_watched                      0.695547  \n",
      "tot_unq_vid_watched                  0.663532  \n",
      "avg_vid_watched_day                  0.515312  \n",
      "avg_unq_vid_watched_day              0.439585  \n",
      "avg_playback_viewthru_perc           0.046332  \n",
      "avg_ad_viewthru_perc                 0.030292  \n",
      "perc_active_days                     1.000000  \n",
      "Axes(0.15,0.350524;0.253952x0.253952)\n"
     ]
    }
   ],
   "source": [
    "cmap = sns.diverging_palette(220, 10, as_cmap=True)\n",
    "\n",
    "##correlations = df_raw[['age', 'previous_subscription_count', 'num_dev']].corr()\n",
    "correlations = df_raw.corr()\n",
    "print correlations\n",
    "print sns.heatmap(correlations, cmap=cmap)"
   ]
  },
  {
   "cell_type": "code",
   "execution_count": null,
   "metadata": {
    "collapsed": true
   },
   "outputs": [],
   "source": [
    "from sklearn.ensemble import RandomForestClassifier\n",
    "##import sklearn.model_selection as ms\n",
    "from sklearn.cross_validation import cross_val_score\n",
    "\n",
    "X = df_raw[['age','previous_subscription_count','num_dev','perc_lv_dev','perc_computer_dev','perc_mobile_tablet_dev','tot_min_watched','tot_ad_min_watched','avg_min_watched_day','avg_ad_min_watched_day','tot_vid_watched','tot_unq_vid_watched','avg_vid_watched_day','avg_unq_vid_watched_day','perc_active_days']]\n",
    "y = df_raw['segment']\n",
    "\n",
    "model = RandomForestClassifier(n_estimators = 20)#, n_jobs=-1)# 1st tune the n_estimators then others, n_jobs=-1 uses all cpu cores instead of 1\n",
    "    \n",
    "model.fit(X, y)\n",
    "\n",
    "scores = cross_val_score(model, X, y, scoring='accuracy', cv=5)\n",
    "#CV = ms.cross_validate(model, X, y, cv=5, scoring=['roc_auc','accuracy'])"
   ]
  }
 ],
 "metadata": {
  "kernelspec": {
   "display_name": "Python 2",
   "language": "python",
   "name": "python2"
  },
  "language_info": {
   "codemirror_mode": {
    "name": "ipython",
    "version": 2
   },
   "file_extension": ".py",
   "mimetype": "text/x-python",
   "name": "python",
   "nbconvert_exporter": "python",
   "pygments_lexer": "ipython2",
   "version": "2.7.13"
  }
 },
 "nbformat": 4,
 "nbformat_minor": 2
}
